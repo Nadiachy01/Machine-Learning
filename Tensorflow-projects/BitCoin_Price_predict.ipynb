{
  "nbformat": 4,
  "nbformat_minor": 0,
  "metadata": {
    "colab": {
      "provenance": [],
      "gpuType": "T4"
    },
    "kernelspec": {
      "name": "python3",
      "display_name": "Python 3"
    },
    "language_info": {
      "name": "python"
    },
    "accelerator": "GPU",
    "gpuClass": "standard"
  },
  "cells": [
    {
      "cell_type": "code",
      "execution_count": 3,
      "metadata": {
        "colab": {
          "base_uri": "https://localhost:8080/"
        },
        "id": "nXS4wIVFsrWK",
        "outputId": "37fe018e-fb52-4a40-ab3b-5cfd4e158def"
      },
      "outputs": [
        {
          "output_type": "stream",
          "name": "stdout",
          "text": [
            "GPU 0: Tesla T4 (UUID: GPU-d2a8af76-283f-b994-8c1a-f5353d68260d)\n"
          ]
        }
      ],
      "source": [
        "!nvidia-smi -L"
      ]
    },
    {
      "cell_type": "markdown",
      "source": [
        "## Bitcoin historical data"
      ],
      "metadata": {
        "id": "X_P_JHIJCykP"
      }
    },
    {
      "cell_type": "code",
      "source": [
        "import pandas as pd\n",
        "df= pd.read_csv(\"/content/BTC_USD_2013-10-01_2021-05-18-CoinDesk.csv\", parse_dates=[\"Date\"], index_col=[\"Date\"])\n",
        "df.head()"
      ],
      "metadata": {
        "colab": {
          "base_uri": "https://localhost:8080/",
          "height": 238
        },
        "id": "o1l-e05-Crf9",
        "outputId": "d6dd7e77-a9ba-4665-ea45-72b549bd67f7"
      },
      "execution_count": 4,
      "outputs": [
        {
          "output_type": "execute_result",
          "data": {
            "text/plain": [
              "           Currency  Closing Price (USD)  24h Open (USD)  24h High (USD)  \\\n",
              "Date                                                                       \n",
              "2013-10-01      BTC            123.65499       124.30466       124.75166   \n",
              "2013-10-02      BTC            125.45500       123.65499       125.75850   \n",
              "2013-10-03      BTC            108.58483       125.45500       125.66566   \n",
              "2013-10-04      BTC            118.67466       108.58483       118.67500   \n",
              "2013-10-05      BTC            121.33866       118.67466       121.93633   \n",
              "\n",
              "            24h Low (USD)  \n",
              "Date                       \n",
              "2013-10-01      122.56349  \n",
              "2013-10-02      123.63383  \n",
              "2013-10-03       83.32833  \n",
              "2013-10-04      107.05816  \n",
              "2013-10-05      118.00566  "
            ],
            "text/html": [
              "\n",
              "\n",
              "  <div id=\"df-4b2b9d53-1a26-4904-b391-c0afddcecb90\">\n",
              "    <div class=\"colab-df-container\">\n",
              "      <div>\n",
              "<style scoped>\n",
              "    .dataframe tbody tr th:only-of-type {\n",
              "        vertical-align: middle;\n",
              "    }\n",
              "\n",
              "    .dataframe tbody tr th {\n",
              "        vertical-align: top;\n",
              "    }\n",
              "\n",
              "    .dataframe thead th {\n",
              "        text-align: right;\n",
              "    }\n",
              "</style>\n",
              "<table border=\"1\" class=\"dataframe\">\n",
              "  <thead>\n",
              "    <tr style=\"text-align: right;\">\n",
              "      <th></th>\n",
              "      <th>Currency</th>\n",
              "      <th>Closing Price (USD)</th>\n",
              "      <th>24h Open (USD)</th>\n",
              "      <th>24h High (USD)</th>\n",
              "      <th>24h Low (USD)</th>\n",
              "    </tr>\n",
              "    <tr>\n",
              "      <th>Date</th>\n",
              "      <th></th>\n",
              "      <th></th>\n",
              "      <th></th>\n",
              "      <th></th>\n",
              "      <th></th>\n",
              "    </tr>\n",
              "  </thead>\n",
              "  <tbody>\n",
              "    <tr>\n",
              "      <th>2013-10-01</th>\n",
              "      <td>BTC</td>\n",
              "      <td>123.65499</td>\n",
              "      <td>124.30466</td>\n",
              "      <td>124.75166</td>\n",
              "      <td>122.56349</td>\n",
              "    </tr>\n",
              "    <tr>\n",
              "      <th>2013-10-02</th>\n",
              "      <td>BTC</td>\n",
              "      <td>125.45500</td>\n",
              "      <td>123.65499</td>\n",
              "      <td>125.75850</td>\n",
              "      <td>123.63383</td>\n",
              "    </tr>\n",
              "    <tr>\n",
              "      <th>2013-10-03</th>\n",
              "      <td>BTC</td>\n",
              "      <td>108.58483</td>\n",
              "      <td>125.45500</td>\n",
              "      <td>125.66566</td>\n",
              "      <td>83.32833</td>\n",
              "    </tr>\n",
              "    <tr>\n",
              "      <th>2013-10-04</th>\n",
              "      <td>BTC</td>\n",
              "      <td>118.67466</td>\n",
              "      <td>108.58483</td>\n",
              "      <td>118.67500</td>\n",
              "      <td>107.05816</td>\n",
              "    </tr>\n",
              "    <tr>\n",
              "      <th>2013-10-05</th>\n",
              "      <td>BTC</td>\n",
              "      <td>121.33866</td>\n",
              "      <td>118.67466</td>\n",
              "      <td>121.93633</td>\n",
              "      <td>118.00566</td>\n",
              "    </tr>\n",
              "  </tbody>\n",
              "</table>\n",
              "</div>\n",
              "      <button class=\"colab-df-convert\" onclick=\"convertToInteractive('df-4b2b9d53-1a26-4904-b391-c0afddcecb90')\"\n",
              "              title=\"Convert this dataframe to an interactive table.\"\n",
              "              style=\"display:none;\">\n",
              "\n",
              "  <svg xmlns=\"http://www.w3.org/2000/svg\" height=\"24px\"viewBox=\"0 0 24 24\"\n",
              "       width=\"24px\">\n",
              "    <path d=\"M0 0h24v24H0V0z\" fill=\"none\"/>\n",
              "    <path d=\"M18.56 5.44l.94 2.06.94-2.06 2.06-.94-2.06-.94-.94-2.06-.94 2.06-2.06.94zm-11 1L8.5 8.5l.94-2.06 2.06-.94-2.06-.94L8.5 2.5l-.94 2.06-2.06.94zm10 10l.94 2.06.94-2.06 2.06-.94-2.06-.94-.94-2.06-.94 2.06-2.06.94z\"/><path d=\"M17.41 7.96l-1.37-1.37c-.4-.4-.92-.59-1.43-.59-.52 0-1.04.2-1.43.59L10.3 9.45l-7.72 7.72c-.78.78-.78 2.05 0 2.83L4 21.41c.39.39.9.59 1.41.59.51 0 1.02-.2 1.41-.59l7.78-7.78 2.81-2.81c.8-.78.8-2.07 0-2.86zM5.41 20L4 18.59l7.72-7.72 1.47 1.35L5.41 20z\"/>\n",
              "  </svg>\n",
              "      </button>\n",
              "\n",
              "\n",
              "\n",
              "    <div id=\"df-c28334a9-74bd-43b3-b4bc-f4fe9e568c8a\">\n",
              "      <button class=\"colab-df-quickchart\" onclick=\"quickchart('df-c28334a9-74bd-43b3-b4bc-f4fe9e568c8a')\"\n",
              "              title=\"Suggest charts.\"\n",
              "              style=\"display:none;\">\n",
              "\n",
              "<svg xmlns=\"http://www.w3.org/2000/svg\" height=\"24px\"viewBox=\"0 0 24 24\"\n",
              "     width=\"24px\">\n",
              "    <g>\n",
              "        <path d=\"M19 3H5c-1.1 0-2 .9-2 2v14c0 1.1.9 2 2 2h14c1.1 0 2-.9 2-2V5c0-1.1-.9-2-2-2zM9 17H7v-7h2v7zm4 0h-2V7h2v10zm4 0h-2v-4h2v4z\"/>\n",
              "    </g>\n",
              "</svg>\n",
              "      </button>\n",
              "    </div>\n",
              "\n",
              "<style>\n",
              "  .colab-df-quickchart {\n",
              "    background-color: #E8F0FE;\n",
              "    border: none;\n",
              "    border-radius: 50%;\n",
              "    cursor: pointer;\n",
              "    display: none;\n",
              "    fill: #1967D2;\n",
              "    height: 32px;\n",
              "    padding: 0 0 0 0;\n",
              "    width: 32px;\n",
              "  }\n",
              "\n",
              "  .colab-df-quickchart:hover {\n",
              "    background-color: #E2EBFA;\n",
              "    box-shadow: 0px 1px 2px rgba(60, 64, 67, 0.3), 0px 1px 3px 1px rgba(60, 64, 67, 0.15);\n",
              "    fill: #174EA6;\n",
              "  }\n",
              "\n",
              "  [theme=dark] .colab-df-quickchart {\n",
              "    background-color: #3B4455;\n",
              "    fill: #D2E3FC;\n",
              "  }\n",
              "\n",
              "  [theme=dark] .colab-df-quickchart:hover {\n",
              "    background-color: #434B5C;\n",
              "    box-shadow: 0px 1px 3px 1px rgba(0, 0, 0, 0.15);\n",
              "    filter: drop-shadow(0px 1px 2px rgba(0, 0, 0, 0.3));\n",
              "    fill: #FFFFFF;\n",
              "  }\n",
              "</style>\n",
              "\n",
              "    <script>\n",
              "      async function quickchart(key) {\n",
              "        const containerElement = document.querySelector('#' + key);\n",
              "        const charts = await google.colab.kernel.invokeFunction(\n",
              "            'suggestCharts', [key], {});\n",
              "      }\n",
              "    </script>\n",
              "\n",
              "      <script>\n",
              "\n",
              "function displayQuickchartButton(domScope) {\n",
              "  let quickchartButtonEl =\n",
              "    domScope.querySelector('#df-c28334a9-74bd-43b3-b4bc-f4fe9e568c8a button.colab-df-quickchart');\n",
              "  quickchartButtonEl.style.display =\n",
              "    google.colab.kernel.accessAllowed ? 'block' : 'none';\n",
              "}\n",
              "\n",
              "        displayQuickchartButton(document);\n",
              "      </script>\n",
              "      <style>\n",
              "    .colab-df-container {\n",
              "      display:flex;\n",
              "      flex-wrap:wrap;\n",
              "      gap: 12px;\n",
              "    }\n",
              "\n",
              "    .colab-df-convert {\n",
              "      background-color: #E8F0FE;\n",
              "      border: none;\n",
              "      border-radius: 50%;\n",
              "      cursor: pointer;\n",
              "      display: none;\n",
              "      fill: #1967D2;\n",
              "      height: 32px;\n",
              "      padding: 0 0 0 0;\n",
              "      width: 32px;\n",
              "    }\n",
              "\n",
              "    .colab-df-convert:hover {\n",
              "      background-color: #E2EBFA;\n",
              "      box-shadow: 0px 1px 2px rgba(60, 64, 67, 0.3), 0px 1px 3px 1px rgba(60, 64, 67, 0.15);\n",
              "      fill: #174EA6;\n",
              "    }\n",
              "\n",
              "    [theme=dark] .colab-df-convert {\n",
              "      background-color: #3B4455;\n",
              "      fill: #D2E3FC;\n",
              "    }\n",
              "\n",
              "    [theme=dark] .colab-df-convert:hover {\n",
              "      background-color: #434B5C;\n",
              "      box-shadow: 0px 1px 3px 1px rgba(0, 0, 0, 0.15);\n",
              "      filter: drop-shadow(0px 1px 2px rgba(0, 0, 0, 0.3));\n",
              "      fill: #FFFFFF;\n",
              "    }\n",
              "  </style>\n",
              "\n",
              "      <script>\n",
              "        const buttonEl =\n",
              "          document.querySelector('#df-4b2b9d53-1a26-4904-b391-c0afddcecb90 button.colab-df-convert');\n",
              "        buttonEl.style.display =\n",
              "          google.colab.kernel.accessAllowed ? 'block' : 'none';\n",
              "\n",
              "        async function convertToInteractive(key) {\n",
              "          const element = document.querySelector('#df-4b2b9d53-1a26-4904-b391-c0afddcecb90');\n",
              "          const dataTable =\n",
              "            await google.colab.kernel.invokeFunction('convertToInteractive',\n",
              "                                                     [key], {});\n",
              "          if (!dataTable) return;\n",
              "\n",
              "          const docLinkHtml = 'Like what you see? Visit the ' +\n",
              "            '<a target=\"_blank\" href=https://colab.research.google.com/notebooks/data_table.ipynb>data table notebook</a>'\n",
              "            + ' to learn more about interactive tables.';\n",
              "          element.innerHTML = '';\n",
              "          dataTable['output_type'] = 'display_data';\n",
              "          await google.colab.output.renderOutput(dataTable, element);\n",
              "          const docLink = document.createElement('div');\n",
              "          docLink.innerHTML = docLinkHtml;\n",
              "          element.appendChild(docLink);\n",
              "        }\n",
              "      </script>\n",
              "    </div>\n",
              "  </div>\n"
            ]
          },
          "metadata": {},
          "execution_count": 4
        }
      ]
    },
    {
      "cell_type": "code",
      "source": [
        "df.info()"
      ],
      "metadata": {
        "colab": {
          "base_uri": "https://localhost:8080/"
        },
        "id": "IjU8Wb3qGTOj",
        "outputId": "dae855b3-6232-4a01-bc8b-c1decbbe0270"
      },
      "execution_count": 5,
      "outputs": [
        {
          "output_type": "stream",
          "name": "stdout",
          "text": [
            "<class 'pandas.core.frame.DataFrame'>\n",
            "DatetimeIndex: 2787 entries, 2013-10-01 to 2021-05-18\n",
            "Data columns (total 5 columns):\n",
            " #   Column               Non-Null Count  Dtype  \n",
            "---  ------               --------------  -----  \n",
            " 0   Currency             2787 non-null   object \n",
            " 1   Closing Price (USD)  2787 non-null   float64\n",
            " 2   24h Open (USD)       2787 non-null   float64\n",
            " 3   24h High (USD)       2787 non-null   float64\n",
            " 4   24h Low (USD)        2787 non-null   float64\n",
            "dtypes: float64(4), object(1)\n",
            "memory usage: 130.6+ KB\n"
          ]
        }
      ]
    },
    {
      "cell_type": "code",
      "source": [
        "bitcoin_prices= pd.DataFrame(df[\"Closing Price (USD)\"]).rename(columns={\"Closing Price (USD)\": \"price\"})\n",
        "bitcoin_prices.head()"
      ],
      "metadata": {
        "colab": {
          "base_uri": "https://localhost:8080/",
          "height": 238
        },
        "id": "v0bFl-naGmjP",
        "outputId": "f6024e9f-aa96-40c7-ef8e-5053af8be05a"
      },
      "execution_count": 6,
      "outputs": [
        {
          "output_type": "execute_result",
          "data": {
            "text/plain": [
              "                price\n",
              "Date                 \n",
              "2013-10-01  123.65499\n",
              "2013-10-02  125.45500\n",
              "2013-10-03  108.58483\n",
              "2013-10-04  118.67466\n",
              "2013-10-05  121.33866"
            ],
            "text/html": [
              "\n",
              "\n",
              "  <div id=\"df-9af4fd73-e79b-47ca-b3dc-3f36ea2e4483\">\n",
              "    <div class=\"colab-df-container\">\n",
              "      <div>\n",
              "<style scoped>\n",
              "    .dataframe tbody tr th:only-of-type {\n",
              "        vertical-align: middle;\n",
              "    }\n",
              "\n",
              "    .dataframe tbody tr th {\n",
              "        vertical-align: top;\n",
              "    }\n",
              "\n",
              "    .dataframe thead th {\n",
              "        text-align: right;\n",
              "    }\n",
              "</style>\n",
              "<table border=\"1\" class=\"dataframe\">\n",
              "  <thead>\n",
              "    <tr style=\"text-align: right;\">\n",
              "      <th></th>\n",
              "      <th>price</th>\n",
              "    </tr>\n",
              "    <tr>\n",
              "      <th>Date</th>\n",
              "      <th></th>\n",
              "    </tr>\n",
              "  </thead>\n",
              "  <tbody>\n",
              "    <tr>\n",
              "      <th>2013-10-01</th>\n",
              "      <td>123.65499</td>\n",
              "    </tr>\n",
              "    <tr>\n",
              "      <th>2013-10-02</th>\n",
              "      <td>125.45500</td>\n",
              "    </tr>\n",
              "    <tr>\n",
              "      <th>2013-10-03</th>\n",
              "      <td>108.58483</td>\n",
              "    </tr>\n",
              "    <tr>\n",
              "      <th>2013-10-04</th>\n",
              "      <td>118.67466</td>\n",
              "    </tr>\n",
              "    <tr>\n",
              "      <th>2013-10-05</th>\n",
              "      <td>121.33866</td>\n",
              "    </tr>\n",
              "  </tbody>\n",
              "</table>\n",
              "</div>\n",
              "      <button class=\"colab-df-convert\" onclick=\"convertToInteractive('df-9af4fd73-e79b-47ca-b3dc-3f36ea2e4483')\"\n",
              "              title=\"Convert this dataframe to an interactive table.\"\n",
              "              style=\"display:none;\">\n",
              "\n",
              "  <svg xmlns=\"http://www.w3.org/2000/svg\" height=\"24px\"viewBox=\"0 0 24 24\"\n",
              "       width=\"24px\">\n",
              "    <path d=\"M0 0h24v24H0V0z\" fill=\"none\"/>\n",
              "    <path d=\"M18.56 5.44l.94 2.06.94-2.06 2.06-.94-2.06-.94-.94-2.06-.94 2.06-2.06.94zm-11 1L8.5 8.5l.94-2.06 2.06-.94-2.06-.94L8.5 2.5l-.94 2.06-2.06.94zm10 10l.94 2.06.94-2.06 2.06-.94-2.06-.94-.94-2.06-.94 2.06-2.06.94z\"/><path d=\"M17.41 7.96l-1.37-1.37c-.4-.4-.92-.59-1.43-.59-.52 0-1.04.2-1.43.59L10.3 9.45l-7.72 7.72c-.78.78-.78 2.05 0 2.83L4 21.41c.39.39.9.59 1.41.59.51 0 1.02-.2 1.41-.59l7.78-7.78 2.81-2.81c.8-.78.8-2.07 0-2.86zM5.41 20L4 18.59l7.72-7.72 1.47 1.35L5.41 20z\"/>\n",
              "  </svg>\n",
              "      </button>\n",
              "\n",
              "\n",
              "\n",
              "    <div id=\"df-6640dc2d-618b-4bc1-98c3-2c7761c2846d\">\n",
              "      <button class=\"colab-df-quickchart\" onclick=\"quickchart('df-6640dc2d-618b-4bc1-98c3-2c7761c2846d')\"\n",
              "              title=\"Suggest charts.\"\n",
              "              style=\"display:none;\">\n",
              "\n",
              "<svg xmlns=\"http://www.w3.org/2000/svg\" height=\"24px\"viewBox=\"0 0 24 24\"\n",
              "     width=\"24px\">\n",
              "    <g>\n",
              "        <path d=\"M19 3H5c-1.1 0-2 .9-2 2v14c0 1.1.9 2 2 2h14c1.1 0 2-.9 2-2V5c0-1.1-.9-2-2-2zM9 17H7v-7h2v7zm4 0h-2V7h2v10zm4 0h-2v-4h2v4z\"/>\n",
              "    </g>\n",
              "</svg>\n",
              "      </button>\n",
              "    </div>\n",
              "\n",
              "<style>\n",
              "  .colab-df-quickchart {\n",
              "    background-color: #E8F0FE;\n",
              "    border: none;\n",
              "    border-radius: 50%;\n",
              "    cursor: pointer;\n",
              "    display: none;\n",
              "    fill: #1967D2;\n",
              "    height: 32px;\n",
              "    padding: 0 0 0 0;\n",
              "    width: 32px;\n",
              "  }\n",
              "\n",
              "  .colab-df-quickchart:hover {\n",
              "    background-color: #E2EBFA;\n",
              "    box-shadow: 0px 1px 2px rgba(60, 64, 67, 0.3), 0px 1px 3px 1px rgba(60, 64, 67, 0.15);\n",
              "    fill: #174EA6;\n",
              "  }\n",
              "\n",
              "  [theme=dark] .colab-df-quickchart {\n",
              "    background-color: #3B4455;\n",
              "    fill: #D2E3FC;\n",
              "  }\n",
              "\n",
              "  [theme=dark] .colab-df-quickchart:hover {\n",
              "    background-color: #434B5C;\n",
              "    box-shadow: 0px 1px 3px 1px rgba(0, 0, 0, 0.15);\n",
              "    filter: drop-shadow(0px 1px 2px rgba(0, 0, 0, 0.3));\n",
              "    fill: #FFFFFF;\n",
              "  }\n",
              "</style>\n",
              "\n",
              "    <script>\n",
              "      async function quickchart(key) {\n",
              "        const containerElement = document.querySelector('#' + key);\n",
              "        const charts = await google.colab.kernel.invokeFunction(\n",
              "            'suggestCharts', [key], {});\n",
              "      }\n",
              "    </script>\n",
              "\n",
              "      <script>\n",
              "\n",
              "function displayQuickchartButton(domScope) {\n",
              "  let quickchartButtonEl =\n",
              "    domScope.querySelector('#df-6640dc2d-618b-4bc1-98c3-2c7761c2846d button.colab-df-quickchart');\n",
              "  quickchartButtonEl.style.display =\n",
              "    google.colab.kernel.accessAllowed ? 'block' : 'none';\n",
              "}\n",
              "\n",
              "        displayQuickchartButton(document);\n",
              "      </script>\n",
              "      <style>\n",
              "    .colab-df-container {\n",
              "      display:flex;\n",
              "      flex-wrap:wrap;\n",
              "      gap: 12px;\n",
              "    }\n",
              "\n",
              "    .colab-df-convert {\n",
              "      background-color: #E8F0FE;\n",
              "      border: none;\n",
              "      border-radius: 50%;\n",
              "      cursor: pointer;\n",
              "      display: none;\n",
              "      fill: #1967D2;\n",
              "      height: 32px;\n",
              "      padding: 0 0 0 0;\n",
              "      width: 32px;\n",
              "    }\n",
              "\n",
              "    .colab-df-convert:hover {\n",
              "      background-color: #E2EBFA;\n",
              "      box-shadow: 0px 1px 2px rgba(60, 64, 67, 0.3), 0px 1px 3px 1px rgba(60, 64, 67, 0.15);\n",
              "      fill: #174EA6;\n",
              "    }\n",
              "\n",
              "    [theme=dark] .colab-df-convert {\n",
              "      background-color: #3B4455;\n",
              "      fill: #D2E3FC;\n",
              "    }\n",
              "\n",
              "    [theme=dark] .colab-df-convert:hover {\n",
              "      background-color: #434B5C;\n",
              "      box-shadow: 0px 1px 3px 1px rgba(0, 0, 0, 0.15);\n",
              "      filter: drop-shadow(0px 1px 2px rgba(0, 0, 0, 0.3));\n",
              "      fill: #FFFFFF;\n",
              "    }\n",
              "  </style>\n",
              "\n",
              "      <script>\n",
              "        const buttonEl =\n",
              "          document.querySelector('#df-9af4fd73-e79b-47ca-b3dc-3f36ea2e4483 button.colab-df-convert');\n",
              "        buttonEl.style.display =\n",
              "          google.colab.kernel.accessAllowed ? 'block' : 'none';\n",
              "\n",
              "        async function convertToInteractive(key) {\n",
              "          const element = document.querySelector('#df-9af4fd73-e79b-47ca-b3dc-3f36ea2e4483');\n",
              "          const dataTable =\n",
              "            await google.colab.kernel.invokeFunction('convertToInteractive',\n",
              "                                                     [key], {});\n",
              "          if (!dataTable) return;\n",
              "\n",
              "          const docLinkHtml = 'Like what you see? Visit the ' +\n",
              "            '<a target=\"_blank\" href=https://colab.research.google.com/notebooks/data_table.ipynb>data table notebook</a>'\n",
              "            + ' to learn more about interactive tables.';\n",
              "          element.innerHTML = '';\n",
              "          dataTable['output_type'] = 'display_data';\n",
              "          await google.colab.output.renderOutput(dataTable, element);\n",
              "          const docLink = document.createElement('div');\n",
              "          docLink.innerHTML = docLinkHtml;\n",
              "          element.appendChild(docLink);\n",
              "        }\n",
              "      </script>\n",
              "    </div>\n",
              "  </div>\n"
            ]
          },
          "metadata": {},
          "execution_count": 6
        }
      ]
    },
    {
      "cell_type": "code",
      "source": [
        "import matplotlib.pyplot as plt\n",
        "bitcoin_prices.plot(figsize=(10, 7))\n",
        "plt.ylabel(\"Price\")\n",
        "plt.show()"
      ],
      "metadata": {
        "colab": {
          "base_uri": "https://localhost:8080/",
          "height": 619
        },
        "id": "TkQu652KI1uT",
        "outputId": "e090baf2-510a-4d9c-cc52-5cf0606d1c10"
      },
      "execution_count": 7,
      "outputs": [
        {
          "output_type": "display_data",
          "data": {
            "text/plain": [
              "<Figure size 1000x700 with 1 Axes>"
            ],
            "image/png": "[encoded data removed]"
          },
          "metadata": {}
        }
      ]
    },
    {
      "cell_type": "markdown",
      "source": [
        "#Importing time series data with Python's CSV module"
      ],
      "metadata": {
        "id": "gxBVploDP_c4"
      }
    },
    {
      "cell_type": "code",
      "source": [
        "# Importing and formatting historical Bitcoin data with Python\n",
        "import csv\n",
        "from datetime import datetime\n",
        "\n",
        "timesteps = []\n",
        "btc_price = []\n",
        "with open(\"/content/BTC_USD_2013-10-01_2021-05-18-CoinDesk.csv\", \"r\") as f:\n",
        "  csv_reader = csv.reader(f, delimiter=\",\") # read in the target CSV\n",
        "  next(csv_reader) # skip first line (this gets rid of the column titles)\n",
        "  for line in csv_reader:\n",
        "    timesteps.append(datetime.strptime(line[1], \"%Y-%m-%d\")) # get the dates as dates (not strings), strptime = string parse time\n",
        "    btc_price.append(float(line[2])) # get the closing price as float\n",
        "\n",
        "# View first 10 of each\n",
        "timesteps[:10], btc_price[:10]"
      ],
      "metadata": {
        "id": "ap95uoRIQ23X",
        "colab": {
          "base_uri": "https://localhost:8080/"
        },
        "outputId": "d4ad3f79-5543-4eea-9b47-e6a803125093"
      },
      "execution_count": 8,
      "outputs": [
        {
          "output_type": "execute_result",
          "data": {
            "text/plain": [
              "([datetime.datetime(2013, 10, 1, 0, 0),\n",
              "  datetime.datetime(2013, 10, 2, 0, 0),\n",
              "  datetime.datetime(2013, 10, 3, 0, 0),\n",
              "  datetime.datetime(2013, 10, 4, 0, 0),\n",
              "  datetime.datetime(2013, 10, 5, 0, 0),\n",
              "  datetime.datetime(2013, 10, 6, 0, 0),\n",
              "  datetime.datetime(2013, 10, 7, 0, 0),\n",
              "  datetime.datetime(2013, 10, 8, 0, 0),\n",
              "  datetime.datetime(2013, 10, 9, 0, 0),\n",
              "  datetime.datetime(2013, 10, 10, 0, 0)],\n",
              " [123.65499,\n",
              "  125.455,\n",
              "  108.58483,\n",
              "  118.67466,\n",
              "  121.33866,\n",
              "  120.65533,\n",
              "  121.795,\n",
              "  123.033,\n",
              "  124.049,\n",
              "  125.96116])"
            ]
          },
          "metadata": {},
          "execution_count": 8
        }
      ]
    },
    {
      "cell_type": "code",
      "source": [
        "timesteps = bitcoin_prices.index.to_numpy()\n",
        "prices = bitcoin_prices.price.to_numpy()\n",
        "\n",
        "timesteps[:10], prices[:10]"
      ],
      "metadata": {
        "colab": {
          "base_uri": "https://localhost:8080/"
        },
        "id": "7H7tFhsCZSFH",
        "outputId": "277468b9-f287-4b7d-9882-ed63b171ee01"
      },
      "execution_count": 9,
      "outputs": [
        {
          "output_type": "execute_result",
          "data": {
            "text/plain": [
              "(array(['2013-10-01T00:00:00.000000000', '2013-10-02T00:00:00.000000000',\n",
              "        '2013-10-03T00:00:00.000000000', '2013-10-04T00:00:00.000000000',\n",
              "        '2013-10-05T00:00:00.000000000', '2013-10-06T00:00:00.000000000',\n",
              "        '2013-10-07T00:00:00.000000000', '2013-10-08T00:00:00.000000000',\n",
              "        '2013-10-09T00:00:00.000000000', '2013-10-10T00:00:00.000000000'],\n",
              "       dtype='datetime64[ns]'),\n",
              " array([123.65499, 125.455  , 108.58483, 118.67466, 121.33866, 120.65533,\n",
              "        121.795  , 123.033  , 124.049  , 125.96116]))"
            ]
          },
          "metadata": {},
          "execution_count": 9
        }
      ]
    },
    {
      "cell_type": "code",
      "source": [
        "from sklearn.model_selection import train_test_split\n",
        "\n",
        "X_train, X_test, y_train, y_test = train_test_split(timesteps,\n",
        "                                                    prices,\n",
        "                                                    test_size=0.2,\n",
        "                                                    random_state=42)\n",
        "X_train.shape, X_test.shape, y_train.shape, y_test.shape"
      ],
      "metadata": {
        "colab": {
          "base_uri": "https://localhost:8080/"
        },
        "id": "0JxkikpMZqpK",
        "outputId": "9280190f-579c-424c-be22-df658df49acd"
      },
      "execution_count": 10,
      "outputs": [
        {
          "output_type": "execute_result",
          "data": {
            "text/plain": [
              "((2229,), (558,), (2229,), (558,))"
            ]
          },
          "metadata": {},
          "execution_count": 10
        }
      ]
    },
    {
      "cell_type": "code",
      "source": [
        "plt.figure(figsize=(10, 7))\n",
        "plt.scatter(X_train, y_train, s=5, label=\"Train data\")\n",
        "plt.scatter(X_test, y_test, s=5, label=\"Test data\")\n",
        "plt.xlabel(\"Date\")\n",
        "plt.ylabel(\"BTC Price\")\n",
        "plt.legend(fontsize=14)\n",
        "plt.show();"
      ],
      "metadata": {
        "colab": {
          "base_uri": "https://localhost:8080/",
          "height": 619
        },
        "id": "I3CV5hkbZ8jo",
        "outputId": "190bc196-0324-478e-bc77-2c8a7da560f8"
      },
      "execution_count": 11,
      "outputs": [
        {
          "output_type": "display_data",
          "data": {
            "text/plain": [
              "<Figure size 1000x700 with 1 Axes>"
            ],
            "image/png": "[encoded data removed]"
          },
          "metadata": {}
        }
      ]
    },
    {
      "cell_type": "code",
      "source": [
        "# Create train and test splits the right way for time series data\n",
        "split_size = int(0.8 * len(prices)) # 80% train, 20% test\n",
        "\n",
        "X_train, y_train = timesteps[:split_size], prices[:split_size]\n",
        "\n",
        "X_test, y_test = timesteps[split_size:], prices[split_size:]\n",
        "\n",
        "len(X_train), len(X_test), len(y_train), len(y_test)"
      ],
      "metadata": {
        "colab": {
          "base_uri": "https://localhost:8080/"
        },
        "id": "MmafFKjEaKAW",
        "outputId": "62d20a06-03d5-4bb4-aed6-1c6fa2ffbf37"
      },
      "execution_count": 12,
      "outputs": [
        {
          "output_type": "execute_result",
          "data": {
            "text/plain": [
              "(2229, 558, 2229, 558)"
            ]
          },
          "metadata": {},
          "execution_count": 12
        }
      ]
    },
    {
      "cell_type": "code",
      "source": [
        "plt.figure(figsize=(10, 7))\n",
        "plt.scatter(X_train, y_train, s=5, label=\"Train data\")\n",
        "plt.scatter(X_test, y_test, s=5, label=\"Test data\")\n",
        "plt.xlabel(\"Date\")\n",
        "plt.ylabel(\"BTC Price\")\n",
        "plt.legend(fontsize=14)\n",
        "plt.show();"
      ],
      "metadata": {
        "colab": {
          "base_uri": "https://localhost:8080/",
          "height": 619
        },
        "id": "Y_vbCFFWajb3",
        "outputId": "fe84d44a-8378-4da3-a8ca-7ea6838a1f4b"
      },
      "execution_count": 13,
      "outputs": [
        {
          "output_type": "display_data",
          "data": {
            "text/plain": [
              "<Figure size 1000x700 with 1 Axes>"
            ],
            "image/png": "[encoded data removed]"
          },
          "metadata": {}
        }
      ]
    },
    {
      "cell_type": "markdown",
      "source": [
        "#Create a plotting function"
      ],
      "metadata": {
        "id": "KlHueWDObBK-"
      }
    },
    {
      "cell_type": "code",
      "source": [
        "# Create a function to plot time series data\n",
        "def plot_time_series(timesteps, values, format='.', start=0, end=None, label=None):\n",
        "  # Plot the series\n",
        "  plt.plot(timesteps[start:end], values[start:end], format, label=label)\n",
        "  plt.xlabel(\"Time\")\n",
        "  plt.ylabel(\"BTC Price\")\n",
        "  if label:\n",
        "    plt.legend(fontsize=14)\n",
        "  plt.grid(True)\n",
        ""
      ],
      "metadata": {
        "id": "mQGp_HRtbSfU"
      },
      "execution_count": 14,
      "outputs": []
    },
    {
      "cell_type": "code",
      "source": [
        "# Try out our plotting function\n",
        "plt.figure(figsize=(10, 7))\n",
        "plot_time_series(timesteps=X_train, values=y_train, label=\"Train data\")\n",
        "plot_time_series(timesteps=X_test, values=y_test, label=\"Test data\")"
      ],
      "metadata": {
        "colab": {
          "base_uri": "https://localhost:8080/",
          "height": 619
        },
        "id": "lMKiYiphb1uE",
        "outputId": "b693f345-4754-4c04-cb34-00595e267e1d"
      },
      "execution_count": 15,
      "outputs": [
        {
          "output_type": "display_data",
          "data": {
            "text/plain": [
              "<Figure size 1000x700 with 1 Axes>"
            ],
            "image/png": "[encoded data removed]"
          },
          "metadata": {}
        }
      ]
    },
    {
      "cell_type": "markdown",
      "source": [
        "#Model 1: Naïve forecast (baseline)"
      ],
      "metadata": {
        "id": "Q54OidBpb2UK"
      }
    },
    {
      "cell_type": "code",
      "source": [
        "# Create a naïve forecast\n",
        "naive_forecast = y_test[:-1]\n",
        "naive_forecast[:10], naive_forecast[-10:]"
      ],
      "metadata": {
        "colab": {
          "base_uri": "https://localhost:8080/"
        },
        "id": "xaOFe71PKDE2",
        "outputId": "250bb196-047c-4e62-e3ca-cd1217de010e"
      },
      "execution_count": 16,
      "outputs": [
        {
          "output_type": "execute_result",
          "data": {
            "text/plain": [
              "(array([9226.48582088, 8794.35864452, 8798.04205463, 9081.18687849,\n",
              "        8711.53433917, 8760.89271814, 8749.52059102, 8656.97092235,\n",
              "        8500.64355816, 8469.2608989 ]),\n",
              " array([57107.12067189, 58788.20967893, 58102.19142623, 55715.54665129,\n",
              "        56573.5554719 , 52147.82118698, 49764.1320816 , 50032.69313676,\n",
              "        47885.62525472, 45604.61575361]))"
            ]
          },
          "metadata": {},
          "execution_count": 16
        }
      ]
    },
    {
      "cell_type": "code",
      "source": [
        "y_test[-10:]"
      ],
      "metadata": {
        "colab": {
          "base_uri": "https://localhost:8080/"
        },
        "id": "lwKBpfdPNDs3",
        "outputId": "ff852e98-0294-4bc1-e090-49f043439a8a"
      },
      "execution_count": 17,
      "outputs": [
        {
          "output_type": "execute_result",
          "data": {
            "text/plain": [
              "array([58788.20967893, 58102.19142623, 55715.54665129, 56573.5554719 ,\n",
              "       52147.82118698, 49764.1320816 , 50032.69313676, 47885.62525472,\n",
              "       45604.61575361, 43144.47129086])"
            ]
          },
          "metadata": {},
          "execution_count": 17
        }
      ]
    },
    {
      "cell_type": "code",
      "source": [
        "# Plot naive forecast\n",
        "plt.figure(figsize=(10, 7))\n",
        "plot_time_series(timesteps=X_train, values=y_train, label=\"Train data\")\n",
        "plot_time_series(timesteps=X_test, values=y_test, label=\"Test data\")\n",
        "plot_time_series(timesteps=X_test[1:], values=naive_forecast, format=\"-\", label=\"Naive forecast\");"
      ],
      "metadata": {
        "colab": {
          "base_uri": "https://localhost:8080/",
          "height": 619
        },
        "id": "7iyxfiS-KHIH",
        "outputId": "a20bd67e-62e0-43fd-9e3e-918dd1fbef13"
      },
      "execution_count": 18,
      "outputs": [
        {
          "output_type": "display_data",
          "data": {
            "text/plain": [
              "<Figure size 1000x700 with 1 Axes>"
            ],
            "image/png": "[encoded data removed]"
          },
          "metadata": {}
        }
      ]
    },
    {
      "cell_type": "code",
      "source": [
        "#zoom\n",
        "plt.figure(figsize=(10, 7))\n",
        "offset = 400\n",
        "plot_time_series(timesteps=X_test, values=y_test, start=offset, format=\"-\", label=\"Test data\")\n",
        "plot_time_series(timesteps=X_test[1:], values=naive_forecast, format=\"-\", start=offset, label=\"Naive forecast\");"
      ],
      "metadata": {
        "colab": {
          "base_uri": "https://localhost:8080/",
          "height": 619
        },
        "id": "LA2BOaIbLa3s",
        "outputId": "e025533d-6b3c-4229-897a-ccc234030c95"
      },
      "execution_count": 19,
      "outputs": [
        {
          "output_type": "display_data",
          "data": {
            "text/plain": [
              "<Figure size 1000x700 with 1 Axes>"
            ],
            "image/png": "[encoded data removed]"
          },
          "metadata": {}
        }
      ]
    },
    {
      "cell_type": "markdown",
      "source": [
        "#evaluation metrics for model 1."
      ],
      "metadata": {
        "id": "nf06EZI7Onvo"
      }
    },
    {
      "cell_type": "code",
      "source": [
        "import tensorflow as tf\n",
        "import numpy as np\n"
      ],
      "metadata": {
        "id": "EB66Cdl6WdpS"
      },
      "execution_count": 20,
      "outputs": []
    },
    {
      "cell_type": "markdown",
      "source": [
        "**Implemantation of MASE**"
      ],
      "metadata": {
        "id": "2Uxw4fhFbuTj"
      }
    },
    {
      "cell_type": "code",
      "source": [
        "\n",
        "def mean_absolute_scaled_error(y_true, y_pred):\n",
        "\n",
        "  mae = tf.reduce_mean(tf.abs(y_true - y_pred))\n",
        "\n",
        "  # Find MAE of naive forecast (no seasonality)\n",
        "  mae_naive_no_season = tf.reduce_mean(tf.abs(y_true[1:] - y_true[:-1])) # our seasonality is 1 day (hence the shifting of 1 day)\n",
        "  return mae/mae_naive_no_season\n"
      ],
      "metadata": {
        "id": "2QsGrCpwWfdb"
      },
      "execution_count": 21,
      "outputs": []
    },
    {
      "cell_type": "code",
      "source": [
        "mean_absolute_scaled_error(y_true=y_test[1:], y_pred=naive_forecast).numpy()"
      ],
      "metadata": {
        "colab": {
          "base_uri": "https://localhost:8080/"
        },
        "id": "gszZ-gUOXCsk",
        "outputId": "244f432b-e558-48d8-e994-c5b335bb6baf"
      },
      "execution_count": 22,
      "outputs": [
        {
          "output_type": "execute_result",
          "data": {
            "text/plain": [
              "0.9995699939182624"
            ]
          },
          "metadata": {},
          "execution_count": 22
        }
      ]
    },
    {
      "cell_type": "markdown",
      "source": [
        "**Function of all evaluation matrics**"
      ],
      "metadata": {
        "id": "-pI9LjLHb8GP"
      }
    },
    {
      "cell_type": "code",
      "source": [
        "def evaluate_preds(y_true, y_pred):\n",
        "  # Make sure float32 (for metric calculations)\n",
        "  y_true = tf.cast(y_true, dtype=tf.float32)\n",
        "  y_pred = tf.cast(y_pred, dtype=tf.float32)\n",
        "\n",
        "  # Calculate various metrics\n",
        "  mae = tf.keras.metrics.mean_absolute_error(y_true, y_pred)\n",
        "  mse = tf.keras.metrics.mean_squared_error(y_true, y_pred) # puts and emphasis on outliers (all errors get squared)\n",
        "  rmse = tf.sqrt(mse)\n",
        "  mape = tf.keras.metrics.mean_absolute_percentage_error(y_true, y_pred)\n",
        "  mase = mean_absolute_scaled_error(y_true, y_pred)\n",
        "\n",
        "  return {\"mae\": mae.numpy(),\n",
        "          \"mse\": mse.numpy(),\n",
        "          \"rmse\": rmse.numpy(),\n",
        "          \"mape\": mape.numpy(),\n",
        "          \"mase\": mase.numpy()}"
      ],
      "metadata": {
        "id": "4N7mEn6tcDzY"
      },
      "execution_count": 23,
      "outputs": []
    },
    {
      "cell_type": "code",
      "source": [
        "naive_results = evaluate_preds(y_true=y_test[1:],\n",
        "                               y_pred=naive_forecast)\n",
        "naive_results"
      ],
      "metadata": {
        "colab": {
          "base_uri": "https://localhost:8080/"
        },
        "id": "oZYTnvVxcQpk",
        "outputId": "12a1dd44-88bf-45f1-8913-3d3cbbe3c8de"
      },
      "execution_count": 24,
      "outputs": [
        {
          "output_type": "execute_result",
          "data": {
            "text/plain": [
              "{'mae': 567.9802,\n",
              " 'mse': 1147547.0,\n",
              " 'rmse': 1071.2362,\n",
              " 'mape': 2.516525,\n",
              " 'mase': 0.99957}"
            ]
          },
          "metadata": {},
          "execution_count": 24
        }
      ]
    },
    {
      "cell_type": "code",
      "source": [
        "# Find average price of Bitcoin in test dataset\n",
        "tf.reduce_mean(y_test).numpy()\n",
        ""
      ],
      "metadata": {
        "colab": {
          "base_uri": "https://localhost:8080/"
        },
        "id": "IIxMflnhdIKH",
        "outputId": "1ef0a864-da50-46e4-af44-fbf8386c4733"
      },
      "execution_count": 25,
      "outputs": [
        {
          "output_type": "execute_result",
          "data": {
            "text/plain": [
              "20056.632963737222"
            ]
          },
          "metadata": {},
          "execution_count": 25
        }
      ]
    },
    {
      "cell_type": "markdown",
      "source": [
        "#Format Data Part 2: Windowing dataset (turning time series data into supervised learning problem)\n",
        "\n",
        "**There are 2 major approaches to test forcasting models.(sliding window and expanding window.) we are using sliding window here.**"
      ],
      "metadata": {
        "id": "rZjVYWsvdI2g"
      }
    },
    {
      "cell_type": "code",
      "source": [
        "# Create function to label windowed data\n",
        "WINDOW_SIZE=7\n",
        "HORIZON=1\n",
        "\n",
        "def get_labelled_windows(x, horizon=1):\n",
        "  \"\"\"\n",
        "  Creates labels for windowed dataset.\n",
        "\n",
        "  E.g. if horizon=1 (default)\n",
        "  Input: [1, 2, 3, 4, 5, 6] -> Output: ([1, 2, 3, 4, 5], [6])\n",
        "  \"\"\"\n",
        "  return x[:, :-horizon], x[:, -horizon:]"
      ],
      "metadata": {
        "id": "qSandqkanZ8F"
      },
      "execution_count": 26,
      "outputs": []
    },
    {
      "cell_type": "code",
      "source": [
        "test_window, test_label = get_labelled_windows(tf.expand_dims(tf.range(8)+1, axis=0), horizon=1)\n",
        "print(f\"Window: {tf.squeeze(test_window).numpy()} -> Label: {tf.squeeze(test_label).numpy()}\")"
      ],
      "metadata": {
        "colab": {
          "base_uri": "https://localhost:8080/"
        },
        "id": "6lqUagaznh40",
        "outputId": "60937d4e-a2f4-4aa3-904c-073e5d909fe1"
      },
      "execution_count": 27,
      "outputs": [
        {
          "output_type": "stream",
          "name": "stdout",
          "text": [
            "Window: [1 2 3 4 5 6 7] -> Label: 8\n"
          ]
        }
      ]
    },
    {
      "cell_type": "markdown",
      "source": [
        "**Let's write a function which:**\n",
        "\n",
        "1.Creates a window step of specific window size, for example: [[0, 1, 2, 3, 4, 5, 6, 7]]\n",
        "\n",
        "2.Uses NumPy indexing to create a 2D of multiple window steps, for example:\n",
        "[[0, 1, 2, 3, 4, 5, 6, 7],\n",
        " [1, 2, 3, 4, 5, 6, 7, 8],\n",
        " [2, 3, 4, 5, 6, 7, 8, 9]]\n",
        "\n",
        "3.Uses the 2D array of multuple window steps to index on a target series\n",
        "\n",
        "4.Uses the get_labelled_windows() function we created above to turn the window steps into windows with a specified horizon"
      ],
      "metadata": {
        "id": "y6j3MEFvrh2E"
      }
    },
    {
      "cell_type": "code",
      "source": [
        "# Create function to view NumPy arrays as windows\n",
        "def make_windows(x, window_size=7, horizon=1):\n",
        "  \"\"\"\n",
        "  Turns a 1D array into a 2D array of sequential windows of window_size.\n",
        "  \"\"\"\n",
        "  # 1. Create a window of specific window_size (add the horizon on the end for later labelling)\n",
        "  window_step = np.expand_dims(np.arange(window_size+horizon), axis=0)\n",
        "  # print(f\"Window step:\\n {window_step}\")\n",
        "\n",
        "  # 2. Create a 2D array of multiple window steps (minus 1 to account for 0 indexing)\n",
        "  window_indexes = window_step + np.expand_dims(np.arange(len(x)-(window_size+horizon-1)), axis=0).T # create 2D array of windows of size window_size\n",
        "  # print(f\"Window indexes:\\n {window_indexes[:3], window_indexes[-3:], window_indexes.shape}\")\n",
        "\n",
        "  # 3. Index on the target array (time series) with 2D array of multiple window steps\n",
        "  windowed_array = x[window_indexes]\n",
        "\n",
        "  # 4. Get the labelled windows\n",
        "  windows, labels = get_labelled_windows(windowed_array, horizon=horizon)\n",
        "\n",
        "  return windows, labels"
      ],
      "metadata": {
        "id": "LbyKkM31r8ki"
      },
      "execution_count": 28,
      "outputs": []
    },
    {
      "cell_type": "code",
      "source": [
        "full_windows, full_labels = make_windows(prices, window_size=WINDOW_SIZE, horizon=HORIZON)\n",
        "len(full_windows), len(full_labels)"
      ],
      "metadata": {
        "colab": {
          "base_uri": "https://localhost:8080/"
        },
        "id": "HHAjy3ejsQ_S",
        "outputId": "4a831448-8632-4fef-b7c1-5a2498a7b27d"
      },
      "execution_count": 29,
      "outputs": [
        {
          "output_type": "execute_result",
          "data": {
            "text/plain": [
              "(2780, 2780)"
            ]
          },
          "metadata": {},
          "execution_count": 29
        }
      ]
    },
    {
      "cell_type": "code",
      "source": [
        "# View the first 3 windows/labels\n",
        "for i in range(3):\n",
        "  print(f\"Window: {full_windows[i]} -> Label: {full_labels[i]}\")"
      ],
      "metadata": {
        "colab": {
          "base_uri": "https://localhost:8080/"
        },
        "id": "zyg-lz7MsRtK",
        "outputId": "fa2913f3-1e3d-482f-ceb2-423fcb37d037"
      },
      "execution_count": 30,
      "outputs": [
        {
          "output_type": "stream",
          "name": "stdout",
          "text": [
            "Window: [123.65499 125.455   108.58483 118.67466 121.33866 120.65533 121.795  ] -> Label: [123.033]\n",
            "Window: [125.455   108.58483 118.67466 121.33866 120.65533 121.795   123.033  ] -> Label: [124.049]\n",
            "Window: [108.58483 118.67466 121.33866 120.65533 121.795   123.033   124.049  ] -> Label: [125.96116]\n"
          ]
        }
      ]
    },
    {
      "cell_type": "code",
      "source": [
        "# View the last 3 windows/labels\n",
        "for i in range(3):\n",
        "  print(f\"Window: {full_windows[i-3]} -> Label: {full_labels[i-3]}\")"
      ],
      "metadata": {
        "colab": {
          "base_uri": "https://localhost:8080/"
        },
        "id": "Xioef9YEslTL",
        "outputId": "764e19f4-1b33-4b4d-dd20-9bfd415c0b94"
      },
      "execution_count": 31,
      "outputs": [
        {
          "output_type": "stream",
          "name": "stdout",
          "text": [
            "Window: [58788.20967893 58102.19142623 55715.54665129 56573.5554719\n",
            " 52147.82118698 49764.1320816  50032.69313676] -> Label: [47885.62525472]\n",
            "Window: [58102.19142623 55715.54665129 56573.5554719  52147.82118698\n",
            " 49764.1320816  50032.69313676 47885.62525472] -> Label: [45604.61575361]\n",
            "Window: [55715.54665129 56573.5554719  52147.82118698 49764.1320816\n",
            " 50032.69313676 47885.62525472 45604.61575361] -> Label: [43144.47129086]\n"
          ]
        }
      ]
    },
    {
      "cell_type": "markdown",
      "source": [
        "#Splitting windows into training and test sets"
      ],
      "metadata": {
        "id": "WXaRG7sosoj1"
      }
    },
    {
      "cell_type": "code",
      "source": [
        "# Make the train/test splits\n",
        "def make_train_test_splits(windows, labels, test_split=0.2):\n",
        "  \"\"\"\n",
        "  Splits matching pairs of windows and labels into train and test splits.\n",
        "  \"\"\"\n",
        "  split_size = int(len(windows) * (1-test_split)) # this will default to 80% train/20% test\n",
        "  train_windows = windows[:split_size]\n",
        "  train_labels = labels[:split_size]\n",
        "  test_windows = windows[split_size:]\n",
        "  test_labels = labels[split_size:]\n",
        "  return train_windows, test_windows, train_labels, test_labels"
      ],
      "metadata": {
        "id": "BQH7EAUcws3A"
      },
      "execution_count": 32,
      "outputs": []
    },
    {
      "cell_type": "code",
      "source": [
        "train_windows, test_windows, train_labels, test_labels = make_train_test_splits(full_windows, full_labels)\n",
        "len(train_windows), len(test_windows), len(train_labels), len(test_labels)"
      ],
      "metadata": {
        "colab": {
          "base_uri": "https://localhost:8080/"
        },
        "id": "I-sot5PZwyDb",
        "outputId": "30f168a5-1474-4826-85f8-ad1214972ae8"
      },
      "execution_count": 33,
      "outputs": [
        {
          "output_type": "execute_result",
          "data": {
            "text/plain": [
              "(2224, 556, 2224, 556)"
            ]
          },
          "metadata": {},
          "execution_count": 33
        }
      ]
    },
    {
      "cell_type": "code",
      "source": [
        "train_windows[:5], train_labels[:5]"
      ],
      "metadata": {
        "colab": {
          "base_uri": "https://localhost:8080/"
        },
        "id": "th4Zc43nwyiU",
        "outputId": "25a8d6f3-1d34-40e1-ab37-19045c398a05"
      },
      "execution_count": 34,
      "outputs": [
        {
          "output_type": "execute_result",
          "data": {
            "text/plain": [
              "(array([[123.65499, 125.455  , 108.58483, 118.67466, 121.33866, 120.65533,\n",
              "         121.795  ],\n",
              "        [125.455  , 108.58483, 118.67466, 121.33866, 120.65533, 121.795  ,\n",
              "         123.033  ],\n",
              "        [108.58483, 118.67466, 121.33866, 120.65533, 121.795  , 123.033  ,\n",
              "         124.049  ],\n",
              "        [118.67466, 121.33866, 120.65533, 121.795  , 123.033  , 124.049  ,\n",
              "         125.96116],\n",
              "        [121.33866, 120.65533, 121.795  , 123.033  , 124.049  , 125.96116,\n",
              "         125.27966]]),\n",
              " array([[123.033  ],\n",
              "        [124.049  ],\n",
              "        [125.96116],\n",
              "        [125.27966],\n",
              "        [125.9275 ]]))"
            ]
          },
          "metadata": {},
          "execution_count": 34
        }
      ]
    },
    {
      "cell_type": "code",
      "source": [
        "# Check to see if same (accounting for horizon and window size)\n",
        "np.array_equal(np.squeeze(train_labels[:-HORIZON-1]), y_train[WINDOW_SIZE:])"
      ],
      "metadata": {
        "colab": {
          "base_uri": "https://localhost:8080/"
        },
        "id": "xf2AwT91w2EQ",
        "outputId": "8ba3f30a-7726-40af-88db-da4cdf10ce7c"
      },
      "execution_count": 35,
      "outputs": [
        {
          "output_type": "execute_result",
          "data": {
            "text/plain": [
              "True"
            ]
          },
          "metadata": {},
          "execution_count": 35
        }
      ]
    },
    {
      "cell_type": "markdown",
      "source": [
        "#Make a modelling checkpoint"
      ],
      "metadata": {
        "id": "cZMLpWMJw5i_"
      }
    },
    {
      "cell_type": "code",
      "source": [
        "import os\n",
        "\n",
        "# Create a function to implement a ModelCheckpoint callback with a specific filename\n",
        "def create_model_checkpoint(model_name, save_path=\"model_experiments\"):\n",
        "  return tf.keras.callbacks.ModelCheckpoint(filepath=os.path.join(save_path, model_name), # create filepath to save model\n",
        "                                            verbose=0, # only output a limited amount of text\n",
        "                                            save_best_only=True) # save only the best model to file"
      ],
      "metadata": {
        "id": "dR2HGbAIz2kQ"
      },
      "execution_count": 36,
      "outputs": []
    },
    {
      "cell_type": "markdown",
      "source": [
        "#Model 1: Dense model (window = 7, horizon = 1)"
      ],
      "metadata": {
        "id": "aiapNx577aei"
      }
    },
    {
      "cell_type": "code",
      "source": [
        "import tensorflow as tf\n",
        "from tensorflow.keras import layers\n",
        "\n",
        "# Set random seed for as reproducible results as possible\n",
        "tf.random.set_seed(42)\n",
        "\n",
        "# Construct model\n",
        "model_1 = tf.keras.Sequential([\n",
        "  layers.Dense(128, activation=\"relu\"),\n",
        "  layers.Dense(HORIZON, activation=\"linear\") # linear activation is the same as having no activation\n",
        "], name=\"model_1_dense\") # give the model a name so we can save it\n",
        "\n",
        "# Compile model\n",
        "model_1.compile(loss=\"mae\",\n",
        "                optimizer=tf.keras.optimizers.Adam(),\n",
        "                metrics=[\"mae\"]) # we don't necessarily need this when the loss function is already MAE\n",
        "\n",
        "# Fit model\n",
        "model_1.fit(x=train_windows, # train windows of 7 timesteps of Bitcoin prices\n",
        "            y=train_labels, # horizon value of 1 (using the previous 7 timesteps to predict next day)\n",
        "            epochs=100,\n",
        "            verbose=1,\n",
        "            batch_size=128,\n",
        "            validation_data=(test_windows, test_labels),\n",
        "            callbacks=[create_model_checkpoint(model_name=model_1.name)]) # create ModelCheckpoint callback to save best model"
      ],
      "metadata": {
        "colab": {
          "base_uri": "https://localhost:8080/"
        },
        "id": "gKnNgnMW7i3i",
        "outputId": "a062a6ac-1b80-4d7a-d900-3e6a0ff74be4"
      },
      "execution_count": 37,
      "outputs": [
        {
          "output_type": "stream",
          "name": "stdout",
          "text": [
            "Epoch 1/100\n",
            " 1/18 [>.............................] - ETA: 1:30 - loss: 3889.8584 - mae: 3889.8584"
          ]
        },
        {
          "output_type": "stream",
          "name": "stderr",
          "text": [
            "WARNING:absl:Found untraced functions such as _update_step_xla while saving (showing 1 of 1). These functions will not be directly callable after loading.\n"
          ]
        },
        {
          "output_type": "stream",
          "name": "stdout",
          "text": [
            "\b\b\b\b\b\b\b\b\b\b\b\b\b\b\b\b\b\b\b\b\b\b\b\b\b\b\b\b\b\b\b\b\b\b\b\b\b\b\b\b\b\b\b\b\b\b\b\b\b\b\b\b\b\b\b\b\b\b\b\b\b\b\b\b\b\b\b\b\b\b\b\b\b\b\b\b\b\b\b\b\b\b\b\b\b\r18/18 [==============================] - 6s 45ms/step - loss: 1989.8467 - mae: 1989.8467 - val_loss: 1406.6240 - val_mae: 1406.6240\n",
            "Epoch 2/100\n",
            "18/18 [==============================] - 0s 5ms/step - loss: 376.4990 - mae: 376.4990 - val_loss: 1800.1613 - val_mae: 1800.1613\n",
            "Epoch 3/100\n",
            "17/18 [===========================>..] - ETA: 0s - loss: 245.9102 - mae: 245.9102"
          ]
        },
        {
          "output_type": "stream",
          "name": "stderr",
          "text": [
            "WARNING:absl:Found untraced functions such as _update_step_xla while saving (showing 1 of 1). These functions will not be directly callable after loading.\n"
          ]
        },
        {
          "output_type": "stream",
          "name": "stdout",
          "text": [
            "\b\b\b\b\b\b\b\b\b\b\b\b\b\b\b\b\b\b\b\b\b\b\b\b\b\b\b\b\b\b\b\b\b\b\b\b\b\b\b\b\b\b\b\b\b\b\b\b\b\b\b\b\b\b\b\b\b\b\b\b\b\b\b\b\b\b\b\b\b\b\b\b\b\b\b\b\b\b\b\b\b\r18/18 [==============================] - 1s 31ms/step - loss: 243.5113 - mae: 243.5113 - val_loss: 1191.4731 - val_mae: 1191.4731\n",
            "Epoch 4/100\n",
            " 1/18 [>.............................] - ETA: 0s - loss: 258.5378 - mae: 258.5378"
          ]
        },
        {
          "output_type": "stream",
          "name": "stderr",
          "text": [
            "WARNING:absl:Found untraced functions such as _update_step_xla while saving (showing 1 of 1). These functions will not be directly callable after loading.\n"
          ]
        },
        {
          "output_type": "stream",
          "name": "stdout",
          "text": [
            "\b\b\b\b\b\b\b\b\b\b\b\b\b\b\b\b\b\b\b\b\b\b\b\b\b\b\b\b\b\b\b\b\b\b\b\b\b\b\b\b\b\b\b\b\b\b\b\b\b\b\b\b\b\b\b\b\b\b\b\b\b\b\b\b\b\b\b\b\b\b\b\b\b\b\b\b\b\b\b\b\b\r18/18 [==============================] - 0s 28ms/step - loss: 200.9571 - mae: 200.9571 - val_loss: 1068.4653 - val_mae: 1068.4653\n",
            "Epoch 5/100\n",
            "17/18 [===========================>..] - ETA: 0s - loss: 191.0778 - mae: 191.0778"
          ]
        },
        {
          "output_type": "stream",
          "name": "stderr",
          "text": [
            "WARNING:absl:Found untraced functions such as _update_step_xla while saving (showing 1 of 1). These functions will not be directly callable after loading.\n"
          ]
        },
        {
          "output_type": "stream",
          "name": "stdout",
          "text": [
            "\b\b\b\b\b\b\b\b\b\b\b\b\b\b\b\b\b\b\b\b\b\b\b\b\b\b\b\b\b\b\b\b\b\b\b\b\b\b\b\b\b\b\b\b\b\b\b\b\b\b\b\b\b\b\b\b\b\b\b\b\b\b\b\b\b\b\b\b\b\b\b\b\b\b\b\b\b\b\b\b\b\r18/18 [==============================] - 1s 29ms/step - loss: 188.8332 - mae: 188.8332 - val_loss: 1040.2546 - val_mae: 1040.2546\n",
            "Epoch 6/100\n",
            " 1/18 [>.............................] - ETA: 0s - loss: 135.2343 - mae: 135.2343"
          ]
        },
        {
          "output_type": "stream",
          "name": "stderr",
          "text": [
            "WARNING:absl:Found untraced functions such as _update_step_xla while saving (showing 1 of 1). These functions will not be directly callable after loading.\n"
          ]
        },
        {
          "output_type": "stream",
          "name": "stdout",
          "text": [
            "\b\b\b\b\b\b\b\b\b\b\b\b\b\b\b\b\b\b\b\b\b\b\b\b\b\b\b\b\b\b\b\b\b\b\b\b\b\b\b\b\b\b\b\b\b\b\b\b\b\b\b\b\b\b\b\b\b\b\b\b\b\b\b\b\b\b\b\b\b\b\b\b\b\b\b\b\b\b\b\b\b\r18/18 [==============================] - 0s 29ms/step - loss: 177.4578 - mae: 177.4578 - val_loss: 986.3903 - val_mae: 986.3903\n",
            "Epoch 7/100\n",
            "18/18 [==============================] - ETA: 0s - loss: 173.4972 - mae: 173.4972"
          ]
        },
        {
          "output_type": "stream",
          "name": "stderr",
          "text": [
            "WARNING:absl:Found untraced functions such as _update_step_xla while saving (showing 1 of 1). These functions will not be directly callable after loading.\n"
          ]
        },
        {
          "output_type": "stream",
          "name": "stdout",
          "text": [
            "\b\b\b\b\b\b\b\b\b\b\b\b\b\b\b\b\b\b\b\b\b\b\b\b\b\b\b\b\b\b\b\b\b\b\b\b\b\b\b\b\b\b\b\b\b\b\b\b\b\b\b\b\b\b\b\b\b\b\b\b\b\b\b\b\b\b\b\b\b\b\b\b\b\b\b\b\b\b\b\b\b\r18/18 [==============================] - 1s 61ms/step - loss: 173.4972 - mae: 173.4972 - val_loss: 962.6011 - val_mae: 962.6011\n",
            "Epoch 8/100\n",
            "10/18 [===============>..............] - ETA: 0s - loss: 164.3448 - mae: 164.3448"
          ]
        },
        {
          "output_type": "stream",
          "name": "stderr",
          "text": [
            "WARNING:absl:Found untraced functions such as _update_step_xla while saving (showing 1 of 1). These functions will not be directly callable after loading.\n"
          ]
        },
        {
          "output_type": "stream",
          "name": "stdout",
          "text": [
            "\b\b\b\b\b\b\b\b\b\b\b\b\b\b\b\b\b\b\b\b\b\b\b\b\b\b\b\b\b\b\b\b\b\b\b\b\b\b\b\b\b\b\b\b\b\b\b\b\b\b\b\b\b\b\b\b\b\b\b\b\b\b\b\b\b\b\b\b\b\b\b\b\b\b\b\b\b\b\b\b\b\r18/18 [==============================] - 1s 73ms/step - loss: 170.6303 - mae: 170.6303 - val_loss: 956.9340 - val_mae: 956.9340\n",
            "Epoch 9/100\n",
            "11/18 [=================>............] - ETA: 0s - loss: 166.6481 - mae: 166.6481"
          ]
        },
        {
          "output_type": "stream",
          "name": "stderr",
          "text": [
            "WARNING:absl:Found untraced functions such as _update_step_xla while saving (showing 1 of 1). These functions will not be directly callable after loading.\n"
          ]
        },
        {
          "output_type": "stream",
          "name": "stdout",
          "text": [
            "\b\b\b\b\b\b\b\b\b\b\b\b\b\b\b\b\b\b\b\b\b\b\b\b\b\b\b\b\b\b\b\b\b\b\b\b\b\b\b\b\b\b\b\b\b\b\b\b\b\b\b\b\b\b\b\b\b\b\b\b\b\b\b\b\b\b\b\b\b\b\b\b\b\b\b\b\b\b\b\b\b\r18/18 [==============================] - 1s 74ms/step - loss: 166.3083 - mae: 166.3083 - val_loss: 932.1896 - val_mae: 932.1896\n",
            "Epoch 10/100\n",
            "10/18 [===============>..............] - ETA: 0s - loss: 157.9319 - mae: 157.9319"
          ]
        },
        {
          "output_type": "stream",
          "name": "stderr",
          "text": [
            "WARNING:absl:Found untraced functions such as _update_step_xla while saving (showing 1 of 1). These functions will not be directly callable after loading.\n"
          ]
        },
        {
          "output_type": "stream",
          "name": "stdout",
          "text": [
            "\b\b\b\b\b\b\b\b\b\b\b\b\b\b\b\b\b\b\b\b\b\b\b\b\b\b\b\b\b\b\b\b\b\b\b\b\b\b\b\b\b\b\b\b\b\b\b\b\b\b\b\b\b\b\b\b\b\b\b\b\b\b\b\b\b\b\b\b\b\b\b\b\b\b\b\b\b\b\b\b\b\r18/18 [==============================] - 3s 148ms/step - loss: 163.5070 - mae: 163.5070 - val_loss: 909.8350 - val_mae: 909.8350\n",
            "Epoch 11/100\n",
            "17/18 [===========================>..] - ETA: 0s - loss: 161.1613 - mae: 161.1613"
          ]
        },
        {
          "output_type": "stream",
          "name": "stderr",
          "text": [
            "WARNING:absl:Found untraced functions such as _update_step_xla while saving (showing 1 of 1). These functions will not be directly callable after loading.\n"
          ]
        },
        {
          "output_type": "stream",
          "name": "stdout",
          "text": [
            "\b\b\b\b\b\b\b\b\b\b\b\b\b\b\b\b\b\b\b\b\b\b\b\b\b\b\b\b\b\b\b\b\b\b\b\b\b\b\b\b\b\b\b\b\b\b\b\b\b\b\b\b\b\b\b\b\b\b\b\b\b\b\b\b\b\b\b\b\b\b\b\b\b\b\b\b\b\b\b\b\b\r18/18 [==============================] - 1s 62ms/step - loss: 160.9854 - mae: 160.9854 - val_loss: 897.5226 - val_mae: 897.5226\n",
            "Epoch 12/100\n",
            "18/18 [==============================] - 0s 7ms/step - loss: 157.9347 - mae: 157.9347 - val_loss: 957.4734 - val_mae: 957.4734\n",
            "Epoch 13/100\n",
            "15/18 [========================>.....] - ETA: 0s - loss: 157.1875 - mae: 157.1875"
          ]
        },
        {
          "output_type": "stream",
          "name": "stderr",
          "text": [
            "WARNING:absl:Found untraced functions such as _update_step_xla while saving (showing 1 of 1). These functions will not be directly callable after loading.\n"
          ]
        },
        {
          "output_type": "stream",
          "name": "stdout",
          "text": [
            "\b\b\b\b\b\b\b\b\b\b\b\b\b\b\b\b\b\b\b\b\b\b\b\b\b\b\b\b\b\b\b\b\b\b\b\b\b\b\b\b\b\b\b\b\b\b\b\b\b\b\b\b\b\b\b\b\b\b\b\b\b\b\b\b\b\b\b\b\b\b\b\b\b\b\b\b\b\b\b\b\b\r18/18 [==============================] - 1s 32ms/step - loss: 156.6183 - mae: 156.6183 - val_loss: 873.3939 - val_mae: 873.3939\n",
            "Epoch 14/100\n",
            "18/18 [==============================] - 0s 5ms/step - loss: 152.4241 - mae: 152.4241 - val_loss: 877.7162 - val_mae: 877.7162\n",
            "Epoch 15/100\n",
            " 1/18 [>.............................] - ETA: 0s - loss: 155.9742 - mae: 155.9742"
          ]
        },
        {
          "output_type": "stream",
          "name": "stderr",
          "text": [
            "WARNING:absl:Found untraced functions such as _update_step_xla while saving (showing 1 of 1). These functions will not be directly callable after loading.\n"
          ]
        },
        {
          "output_type": "stream",
          "name": "stdout",
          "text": [
            "\b\b\b\b\b\b\b\b\b\b\b\b\b\b\b\b\b\b\b\b\b\b\b\b\b\b\b\b\b\b\b\b\b\b\b\b\b\b\b\b\b\b\b\b\b\b\b\b\b\b\b\b\b\b\b\b\b\b\b\b\b\b\b\b\b\b\b\b\b\b\b\b\b\b\b\b\b\b\b\b\b\r18/18 [==============================] - 1s 30ms/step - loss: 150.7398 - mae: 150.7398 - val_loss: 837.0087 - val_mae: 837.0087\n",
            "Epoch 16/100\n",
            " 1/18 [>.............................] - ETA: 0s - loss: 130.6416 - mae: 130.6416"
          ]
        },
        {
          "output_type": "stream",
          "name": "stderr",
          "text": [
            "WARNING:absl:Found untraced functions such as _update_step_xla while saving (showing 1 of 1). These functions will not be directly callable after loading.\n"
          ]
        },
        {
          "output_type": "stream",
          "name": "stdout",
          "text": [
            "\b\b\b\b\b\b\b\b\b\b\b\b\b\b\b\b\b\b\b\b\b\b\b\b\b\b\b\b\b\b\b\b\b\b\b\b\b\b\b\b\b\b\b\b\b\b\b\b\b\b\b\b\b\b\b\b\b\b\b\b\b\b\b\b\b\b\b\b\b\b\b\b\b\b\b\b\b\b\b\b\b\r18/18 [==============================] - 1s 29ms/step - loss: 146.7429 - mae: 146.7429 - val_loss: 817.1843 - val_mae: 817.1843\n",
            "Epoch 17/100\n",
            " 1/18 [>.............................] - ETA: 0s - loss: 134.6146 - mae: 134.6146"
          ]
        },
        {
          "output_type": "stream",
          "name": "stderr",
          "text": [
            "WARNING:absl:Found untraced functions such as _update_step_xla while saving (showing 1 of 1). These functions will not be directly callable after loading.\n"
          ]
        },
        {
          "output_type": "stream",
          "name": "stdout",
          "text": [
            "\b\b\b\b\b\b\b\b\b\b\b\b\b\b\b\b\b\b\b\b\b\b\b\b\b\b\b\b\b\b\b\b\b\b\b\b\b\b\b\b\b\b\b\b\b\b\b\b\b\b\b\b\b\b\b\b\b\b\b\b\b\b\b\b\b\b\b\b\b\b\b\b\b\b\b\b\b\b\b\b\b\r18/18 [==============================] - 1s 30ms/step - loss: 145.7934 - mae: 145.7934 - val_loss: 801.8837 - val_mae: 801.8837\n",
            "Epoch 18/100\n",
            " 1/18 [>.............................] - ETA: 0s - loss: 157.0621 - mae: 157.0621"
          ]
        },
        {
          "output_type": "stream",
          "name": "stderr",
          "text": [
            "WARNING:absl:Found untraced functions such as _update_step_xla while saving (showing 1 of 1). These functions will not be directly callable after loading.\n"
          ]
        },
        {
          "output_type": "stream",
          "name": "stdout",
          "text": [
            "\b\b\b\b\b\b\b\b\b\b\b\b\b\b\b\b\b\b\b\b\b\b\b\b\b\b\b\b\b\b\b\b\b\b\b\b\b\b\b\b\b\b\b\b\b\b\b\b\b\b\b\b\b\b\b\b\b\b\b\b\b\b\b\b\b\b\b\b\b\b\b\b\b\b\b\b\b\b\b\b\b\r18/18 [==============================] - 1s 29ms/step - loss: 143.2002 - mae: 143.2002 - val_loss: 798.0261 - val_mae: 798.0261\n",
            "Epoch 19/100\n",
            "18/18 [==============================] - 0s 5ms/step - loss: 140.5000 - mae: 140.5000 - val_loss: 802.3433 - val_mae: 802.3433\n",
            "Epoch 20/100\n",
            "18/18 [==============================] - 0s 5ms/step - loss: 141.2981 - mae: 141.2981 - val_loss: 808.6627 - val_mae: 808.6627\n",
            "Epoch 21/100\n",
            " 1/18 [>.............................] - ETA: 0s - loss: 197.1336 - mae: 197.1336"
          ]
        },
        {
          "output_type": "stream",
          "name": "stderr",
          "text": [
            "WARNING:absl:Found untraced functions such as _update_step_xla while saving (showing 1 of 1). These functions will not be directly callable after loading.\n"
          ]
        },
        {
          "output_type": "stream",
          "name": "stdout",
          "text": [
            "\b\b\b\b\b\b\b\b\b\b\b\b\b\b\b\b\b\b\b\b\b\b\b\b\b\b\b\b\b\b\b\b\b\b\b\b\b\b\b\b\b\b\b\b\b\b\b\b\b\b\b\b\b\b\b\b\b\b\b\b\b\b\b\b\b\b\b\b\b\b\b\b\b\b\b\b\b\b\b\b\b\r18/18 [==============================] - 1s 31ms/step - loss: 141.9141 - mae: 141.9141 - val_loss: 760.1926 - val_mae: 760.1926\n",
            "Epoch 22/100\n",
            "18/18 [==============================] - ETA: 0s - loss: 137.8943 - mae: 137.8943"
          ]
        },
        {
          "output_type": "stream",
          "name": "stderr",
          "text": [
            "WARNING:absl:Found untraced functions such as _update_step_xla while saving (showing 1 of 1). These functions will not be directly callable after loading.\n"
          ]
        },
        {
          "output_type": "stream",
          "name": "stdout",
          "text": [
            "\b\b\b\b\b\b\b\b\b\b\b\b\b\b\b\b\b\b\b\b\b\b\b\b\b\b\b\b\b\b\b\b\b\b\b\b\b\b\b\b\b\b\b\b\b\b\b\b\b\b\b\b\b\b\b\b\b\b\b\b\b\b\b\b\b\b\b\b\b\b\b\b\b\b\b\b\b\b\b\b\b\r18/18 [==============================] - 1s 29ms/step - loss: 137.8943 - mae: 137.8943 - val_loss: 753.8448 - val_mae: 753.8448\n",
            "Epoch 23/100\n",
            "18/18 [==============================] - 0s 5ms/step - loss: 136.6806 - mae: 136.6806 - val_loss: 789.0809 - val_mae: 789.0809\n",
            "Epoch 24/100\n",
            "17/18 [===========================>..] - ETA: 0s - loss: 137.4136 - mae: 137.4136"
          ]
        },
        {
          "output_type": "stream",
          "name": "stderr",
          "text": [
            "WARNING:absl:Found untraced functions such as _update_step_xla while saving (showing 1 of 1). These functions will not be directly callable after loading.\n"
          ]
        },
        {
          "output_type": "stream",
          "name": "stdout",
          "text": [
            "\b\b\b\b\b\b\b\b\b\b\b\b\b\b\b\b\b\b\b\b\b\b\b\b\b\b\b\b\b\b\b\b\b\b\b\b\b\b\b\b\b\b\b\b\b\b\b\b\b\b\b\b\b\b\b\b\b\b\b\b\b\b\b\b\b\b\b\b\b\b\b\b\b\b\b\b\b\b\b\b\b\r18/18 [==============================] - 1s 30ms/step - loss: 135.7756 - mae: 135.7756 - val_loss: 747.8124 - val_mae: 747.8124\n",
            "Epoch 25/100\n",
            " 1/18 [>.............................] - ETA: 0s - loss: 144.0184 - mae: 144.0184"
          ]
        },
        {
          "output_type": "stream",
          "name": "stderr",
          "text": [
            "WARNING:absl:Found untraced functions such as _update_step_xla while saving (showing 1 of 1). These functions will not be directly callable after loading.\n"
          ]
        },
        {
          "output_type": "stream",
          "name": "stdout",
          "text": [
            "\b\b\b\b\b\b\b\b\b\b\b\b\b\b\b\b\b\b\b\b\b\b\b\b\b\b\b\b\b\b\b\b\b\b\b\b\b\b\b\b\b\b\b\b\b\b\b\b\b\b\b\b\b\b\b\b\b\b\b\b\b\b\b\b\b\b\b\b\b\b\b\b\b\b\b\b\b\b\b\b\b\r18/18 [==============================] - 1s 30ms/step - loss: 137.0192 - mae: 137.0192 - val_loss: 733.7644 - val_mae: 733.7644\n",
            "Epoch 26/100\n",
            "18/18 [==============================] - 0s 6ms/step - loss: 134.8000 - mae: 134.8000 - val_loss: 735.8505 - val_mae: 735.8505\n",
            "Epoch 27/100\n",
            "17/18 [===========================>..] - ETA: 0s - loss: 132.5188 - mae: 132.5188"
          ]
        },
        {
          "output_type": "stream",
          "name": "stderr",
          "text": [
            "WARNING:absl:Found untraced functions such as _update_step_xla while saving (showing 1 of 1). These functions will not be directly callable after loading.\n"
          ]
        },
        {
          "output_type": "stream",
          "name": "stdout",
          "text": [
            "\b\b\b\b\b\b\b\b\b\b\b\b\b\b\b\b\b\b\b\b\b\b\b\b\b\b\b\b\b\b\b\b\b\b\b\b\b\b\b\b\b\b\b\b\b\b\b\b\b\b\b\b\b\b\b\b\b\b\b\b\b\b\b\b\b\b\b\b\b\b\b\b\b\b\b\b\b\b\b\b\b\r18/18 [==============================] - 1s 29ms/step - loss: 133.2463 - mae: 133.2463 - val_loss: 732.9874 - val_mae: 732.9874\n",
            "Epoch 28/100\n",
            " 1/18 [>.............................] - ETA: 0s - loss: 136.2127 - mae: 136.2127"
          ]
        },
        {
          "output_type": "stream",
          "name": "stderr",
          "text": [
            "WARNING:absl:Found untraced functions such as _update_step_xla while saving (showing 1 of 1). These functions will not be directly callable after loading.\n"
          ]
        },
        {
          "output_type": "stream",
          "name": "stdout",
          "text": [
            "\b\b\b\b\b\b\b\b\b\b\b\b\b\b\b\b\b\b\b\b\b\b\b\b\b\b\b\b\b\b\b\b\b\b\b\b\b\b\b\b\b\b\b\b\b\b\b\b\b\b\b\b\b\b\b\b\b\b\b\b\b\b\b\b\b\b\b\b\b\b\b\b\b\b\b\b\b\b\b\b\b\r18/18 [==============================] - 1s 31ms/step - loss: 129.7879 - mae: 129.7879 - val_loss: 711.1479 - val_mae: 711.1479\n",
            "Epoch 29/100\n",
            " 1/18 [>.............................] - ETA: 0s - loss: 124.0795 - mae: 124.0795"
          ]
        },
        {
          "output_type": "stream",
          "name": "stderr",
          "text": [
            "WARNING:absl:Found untraced functions such as _update_step_xla while saving (showing 1 of 1). These functions will not be directly callable after loading.\n"
          ]
        },
        {
          "output_type": "stream",
          "name": "stdout",
          "text": [
            "\b\b\b\b\b\b\b\b\b\b\b\b\b\b\b\b\b\b\b\b\b\b\b\b\b\b\b\b\b\b\b\b\b\b\b\b\b\b\b\b\b\b\b\b\b\b\b\b\b\b\b\b\b\b\b\b\b\b\b\b\b\b\b\b\b\b\b\b\b\b\b\b\b\b\b\b\b\b\b\b\b\r18/18 [==============================] - 1s 30ms/step - loss: 128.0482 - mae: 128.0482 - val_loss: 705.9619 - val_mae: 705.9619\n",
            "Epoch 30/100\n",
            "18/18 [==============================] - 0s 5ms/step - loss: 130.2238 - mae: 130.2238 - val_loss: 740.1206 - val_mae: 740.1206\n",
            "Epoch 31/100\n",
            "18/18 [==============================] - 0s 5ms/step - loss: 132.6159 - mae: 132.6159 - val_loss: 831.4017 - val_mae: 831.4017\n",
            "Epoch 32/100\n",
            "18/18 [==============================] - 0s 5ms/step - loss: 135.3640 - mae: 135.3640 - val_loss: 758.7616 - val_mae: 758.7616\n",
            "Epoch 33/100\n",
            " 1/18 [>.............................] - ETA: 0s - loss: 158.6402 - mae: 158.6402"
          ]
        },
        {
          "output_type": "stream",
          "name": "stderr",
          "text": [
            "WARNING:absl:Found untraced functions such as _update_step_xla while saving (showing 1 of 1). These functions will not be directly callable after loading.\n"
          ]
        },
        {
          "output_type": "stream",
          "name": "stdout",
          "text": [
            "\b\b\b\b\b\b\b\b\b\b\b\b\b\b\b\b\b\b\b\b\b\b\b\b\b\b\b\b\b\b\b\b\b\b\b\b\b\b\b\b\b\b\b\b\b\b\b\b\b\b\b\b\b\b\b\b\b\b\b\b\b\b\b\b\b\b\b\b\b\b\b\b\b\b\b\b\b\b\b\b\b\r18/18 [==============================] - 1s 31ms/step - loss: 130.4591 - mae: 130.4591 - val_loss: 685.6827 - val_mae: 685.6827\n",
            "Epoch 34/100\n",
            " 1/18 [>.............................] - ETA: 0s - loss: 139.3324 - mae: 139.3324"
          ]
        },
        {
          "output_type": "stream",
          "name": "stderr",
          "text": [
            "WARNING:absl:Found untraced functions such as _update_step_xla while saving (showing 1 of 1). These functions will not be directly callable after loading.\n"
          ]
        },
        {
          "output_type": "stream",
          "name": "stdout",
          "text": [
            "\b\b\b\b\b\b\b\b\b\b\b\b\b\b\b\b\b\b\b\b\b\b\b\b\b\b\b\b\b\b\b\b\b\b\b\b\b\b\b\b\b\b\b\b\b\b\b\b\b\b\b\b\b\b\b\b\b\b\b\b\b\b\b\b\b\b\b\b\b\b\b\b\b\b\b\b\b\b\b\b\b\r18/18 [==============================] - 1s 45ms/step - loss: 124.5240 - mae: 124.5240 - val_loss: 679.4506 - val_mae: 679.4506\n",
            "Epoch 35/100\n",
            "17/18 [===========================>..] - ETA: 0s - loss: 125.0368 - mae: 125.0368"
          ]
        },
        {
          "output_type": "stream",
          "name": "stderr",
          "text": [
            "WARNING:absl:Found untraced functions such as _update_step_xla while saving (showing 1 of 1). These functions will not be directly callable after loading.\n"
          ]
        },
        {
          "output_type": "stream",
          "name": "stdout",
          "text": [
            "\b\b\b\b\b\b\b\b\b\b\b\b\b\b\b\b\b\b\b\b\b\b\b\b\b\b\b\b\b\b\b\b\b\b\b\b\b\b\b\b\b\b\b\b\b\b\b\b\b\b\b\b\b\b\b\b\b\b\b\b\b\b\b\b\b\b\b\b\b\b\b\b\b\b\b\b\b\b\b\b\b\r18/18 [==============================] - 1s 30ms/step - loss: 124.8164 - mae: 124.8164 - val_loss: 678.0095 - val_mae: 678.0095\n",
            "Epoch 36/100\n",
            "18/18 [==============================] - 0s 4ms/step - loss: 125.3603 - mae: 125.3603 - val_loss: 720.2416 - val_mae: 720.2416\n",
            "Epoch 37/100\n",
            " 1/18 [>.............................] - ETA: 0s - loss: 156.6573 - mae: 156.6573"
          ]
        },
        {
          "output_type": "stream",
          "name": "stderr",
          "text": [
            "WARNING:absl:Found untraced functions such as _update_step_xla while saving (showing 1 of 1). These functions will not be directly callable after loading.\n"
          ]
        },
        {
          "output_type": "stream",
          "name": "stdout",
          "text": [
            "\b\b\b\b\b\b\b\b\b\b\b\b\b\b\b\b\b\b\b\b\b\b\b\b\b\b\b\b\b\b\b\b\b\b\b\b\b\b\b\b\b\b\b\b\b\b\b\b\b\b\b\b\b\b\b\b\b\b\b\b\b\b\b\b\b\b\b\b\b\b\b\b\b\b\b\b\b\b\b\b\b\r18/18 [==============================] - 1s 29ms/step - loss: 124.8649 - mae: 124.8649 - val_loss: 666.5963 - val_mae: 666.5963\n",
            "Epoch 38/100\n",
            " 1/18 [>.............................] - ETA: 0s - loss: 113.9793 - mae: 113.9793"
          ]
        },
        {
          "output_type": "stream",
          "name": "stderr",
          "text": [
            "WARNING:absl:Found untraced functions such as _update_step_xla while saving (showing 1 of 1). These functions will not be directly callable after loading.\n"
          ]
        },
        {
          "output_type": "stream",
          "name": "stdout",
          "text": [
            "\b\b\b\b\b\b\b\b\b\b\b\b\b\b\b\b\b\b\b\b\b\b\b\b\b\b\b\b\b\b\b\b\b\b\b\b\b\b\b\b\b\b\b\b\b\b\b\b\b\b\b\b\b\b\b\b\b\b\b\b\b\b\b\b\b\b\b\b\b\b\b\b\b\b\b\b\b\b\b\b\b\r18/18 [==============================] - 1s 30ms/step - loss: 122.0399 - mae: 122.0399 - val_loss: 661.4786 - val_mae: 661.4786\n",
            "Epoch 39/100\n",
            "18/18 [==============================] - 0s 5ms/step - loss: 120.8719 - mae: 120.8719 - val_loss: 666.6659 - val_mae: 666.6659\n",
            "Epoch 40/100\n",
            "18/18 [==============================] - 0s 5ms/step - loss: 120.3196 - mae: 120.3196 - val_loss: 681.4338 - val_mae: 681.4338\n",
            "Epoch 41/100\n",
            "13/18 [====================>.........] - ETA: 0s - loss: 126.9158 - mae: 126.9158"
          ]
        },
        {
          "output_type": "stream",
          "name": "stderr",
          "text": [
            "WARNING:absl:Found untraced functions such as _update_step_xla while saving (showing 1 of 1). These functions will not be directly callable after loading.\n"
          ]
        },
        {
          "output_type": "stream",
          "name": "stdout",
          "text": [
            "\b\b\b\b\b\b\b\b\b\b\b\b\b\b\b\b\b\b\b\b\b\b\b\b\b\b\b\b\b\b\b\b\b\b\b\b\b\b\b\b\b\b\b\b\b\b\b\b\b\b\b\b\b\b\b\b\b\b\b\b\b\b\b\b\b\b\b\b\b\b\b\b\b\b\b\b\b\b\b\b\b\r18/18 [==============================] - 1s 43ms/step - loss: 121.5028 - mae: 121.5028 - val_loss: 651.9655 - val_mae: 651.9655\n",
            "Epoch 42/100\n",
            "18/18 [==============================] - 0s 7ms/step - loss: 122.4449 - mae: 122.4449 - val_loss: 656.2073 - val_mae: 656.2073\n",
            "Epoch 43/100\n",
            "18/18 [==============================] - 0s 7ms/step - loss: 118.4801 - mae: 118.4801 - val_loss: 653.8530 - val_mae: 653.8530\n",
            "Epoch 44/100\n",
            "13/18 [====================>.........] - ETA: 0s - loss: 114.8519 - mae: 114.8519"
          ]
        },
        {
          "output_type": "stream",
          "name": "stderr",
          "text": [
            "WARNING:absl:Found untraced functions such as _update_step_xla while saving (showing 1 of 1). These functions will not be directly callable after loading.\n"
          ]
        },
        {
          "output_type": "stream",
          "name": "stdout",
          "text": [
            "\b\b\b\b\b\b\b\b\b\b\b\b\b\b\b\b\b\b\b\b\b\b\b\b\b\b\b\b\b\b\b\b\b\b\b\b\b\b\b\b\b\b\b\b\b\b\b\b\b\b\b\b\b\b\b\b\b\b\b\b\b\b\b\b\b\b\b\b\b\b\b\b\b\b\b\b\b\b\b\b\b\r18/18 [==============================] - 1s 45ms/step - loss: 118.2477 - mae: 118.2477 - val_loss: 644.7366 - val_mae: 644.7366\n",
            "Epoch 45/100\n",
            "14/18 [======================>.......] - ETA: 0s - loss: 115.2914 - mae: 115.2914"
          ]
        },
        {
          "output_type": "stream",
          "name": "stderr",
          "text": [
            "WARNING:absl:Found untraced functions such as _update_step_xla while saving (showing 1 of 1). These functions will not be directly callable after loading.\n"
          ]
        },
        {
          "output_type": "stream",
          "name": "stdout",
          "text": [
            "\b\b\b\b\b\b\b\b\b\b\b\b\b\b\b\b\b\b\b\b\b\b\b\b\b\b\b\b\b\b\b\b\b\b\b\b\b\b\b\b\b\b\b\b\b\b\b\b\b\b\b\b\b\b\b\b\b\b\b\b\b\b\b\b\b\b\b\b\b\b\b\b\b\b\b\b\b\b\b\b\b\r18/18 [==============================] - 1s 35ms/step - loss: 119.5440 - mae: 119.5440 - val_loss: 643.4849 - val_mae: 643.4849\n",
            "Epoch 46/100\n",
            "18/18 [==============================] - ETA: 0s - loss: 118.3727 - mae: 118.3727"
          ]
        },
        {
          "output_type": "stream",
          "name": "stderr",
          "text": [
            "WARNING:absl:Found untraced functions such as _update_step_xla while saving (showing 1 of 1). These functions will not be directly callable after loading.\n"
          ]
        },
        {
          "output_type": "stream",
          "name": "stdout",
          "text": [
            "\b\b\b\b\b\b\b\b\b\b\b\b\b\b\b\b\b\b\b\b\b\b\b\b\b\b\b\b\b\b\b\b\b\b\b\b\b\b\b\b\b\b\b\b\b\b\b\b\b\b\b\b\b\b\b\b\b\b\b\b\b\b\b\b\b\b\b\b\b\b\b\b\b\b\b\b\b\b\b\b\b\r18/18 [==============================] - 1s 29ms/step - loss: 118.3727 - mae: 118.3727 - val_loss: 638.6255 - val_mae: 638.6255\n",
            "Epoch 47/100\n",
            "18/18 [==============================] - 0s 5ms/step - loss: 124.0872 - mae: 124.0872 - val_loss: 719.0822 - val_mae: 719.0822\n",
            "Epoch 48/100\n",
            "18/18 [==============================] - 0s 4ms/step - loss: 118.8455 - mae: 118.8455 - val_loss: 660.6346 - val_mae: 660.6346\n",
            "Epoch 49/100\n",
            "17/18 [===========================>..] - ETA: 0s - loss: 119.2900 - mae: 119.2900"
          ]
        },
        {
          "output_type": "stream",
          "name": "stderr",
          "text": [
            "WARNING:absl:Found untraced functions such as _update_step_xla while saving (showing 1 of 1). These functions will not be directly callable after loading.\n"
          ]
        },
        {
          "output_type": "stream",
          "name": "stdout",
          "text": [
            "\b\b\b\b\b\b\b\b\b\b\b\b\b\b\b\b\b\b\b\b\b\b\b\b\b\b\b\b\b\b\b\b\b\b\b\b\b\b\b\b\b\b\b\b\b\b\b\b\b\b\b\b\b\b\b\b\b\b\b\b\b\b\b\b\b\b\b\b\b\b\b\b\b\b\b\b\b\b\b\b\b\r18/18 [==============================] - 1s 30ms/step - loss: 118.6077 - mae: 118.6077 - val_loss: 637.7554 - val_mae: 637.7554\n",
            "Epoch 50/100\n",
            "18/18 [==============================] - 0s 4ms/step - loss: 115.1319 - mae: 115.1319 - val_loss: 654.2870 - val_mae: 654.2870\n",
            "Epoch 51/100\n",
            "18/18 [==============================] - 0s 4ms/step - loss: 115.4194 - mae: 115.4194 - val_loss: 641.4867 - val_mae: 641.4867\n",
            "Epoch 52/100\n",
            "17/18 [===========================>..] - ETA: 0s - loss: 118.7380 - mae: 118.7380"
          ]
        },
        {
          "output_type": "stream",
          "name": "stderr",
          "text": [
            "WARNING:absl:Found untraced functions such as _update_step_xla while saving (showing 1 of 1). These functions will not be directly callable after loading.\n"
          ]
        },
        {
          "output_type": "stream",
          "name": "stdout",
          "text": [
            "\b\b\b\b\b\b\b\b\b\b\b\b\b\b\b\b\b\b\b\b\b\b\b\b\b\b\b\b\b\b\b\b\b\b\b\b\b\b\b\b\b\b\b\b\b\b\b\b\b\b\b\b\b\b\b\b\b\b\b\b\b\b\b\b\b\b\b\b\b\b\b\b\b\b\b\b\b\b\b\b\b\r18/18 [==============================] - 1s 30ms/step - loss: 118.0628 - mae: 118.0628 - val_loss: 629.8215 - val_mae: 629.8215\n",
            "Epoch 53/100\n",
            "18/18 [==============================] - 0s 4ms/step - loss: 116.7418 - mae: 116.7418 - val_loss: 639.2585 - val_mae: 639.2585\n",
            "Epoch 54/100\n",
            "18/18 [==============================] - 0s 5ms/step - loss: 115.6800 - mae: 115.6800 - val_loss: 649.2058 - val_mae: 649.2058\n",
            "Epoch 55/100\n",
            "18/18 [==============================] - 0s 5ms/step - loss: 116.4166 - mae: 116.4166 - val_loss: 634.4022 - val_mae: 634.4022\n",
            "Epoch 56/100\n",
            "18/18 [==============================] - 0s 5ms/step - loss: 113.6475 - mae: 113.6475 - val_loss: 778.3447 - val_mae: 778.3447\n",
            "Epoch 57/100\n",
            "18/18 [==============================] - 0s 4ms/step - loss: 134.4698 - mae: 134.4698 - val_loss: 653.5003 - val_mae: 653.5003\n",
            "Epoch 58/100\n",
            "18/18 [==============================] - 0s 4ms/step - loss: 120.5620 - mae: 120.5620 - val_loss: 645.6647 - val_mae: 645.6647\n",
            "Epoch 59/100\n",
            " 1/18 [>.............................] - ETA: 0s - loss: 75.3935 - mae: 75.3935"
          ]
        },
        {
          "output_type": "stream",
          "name": "stderr",
          "text": [
            "WARNING:absl:Found untraced functions such as _update_step_xla while saving (showing 1 of 1). These functions will not be directly callable after loading.\n"
          ]
        },
        {
          "output_type": "stream",
          "name": "stdout",
          "text": [
            "\b\b\b\b\b\b\b\b\b\b\b\b\b\b\b\b\b\b\b\b\b\b\b\b\b\b\b\b\b\b\b\b\b\b\b\b\b\b\b\b\b\b\b\b\b\b\b\b\b\b\b\b\b\b\b\b\b\b\b\b\b\b\b\b\b\b\b\b\b\b\b\b\b\b\b\b\b\b\b\r18/18 [==============================] - 1s 29ms/step - loss: 112.4180 - mae: 112.4180 - val_loss: 609.0591 - val_mae: 609.0591\n",
            "Epoch 60/100\n",
            "18/18 [==============================] - 0s 4ms/step - loss: 112.4244 - mae: 112.4244 - val_loss: 627.6506 - val_mae: 627.6506\n",
            "Epoch 61/100\n",
            "18/18 [==============================] - 0s 5ms/step - loss: 112.2203 - mae: 112.2203 - val_loss: 615.0931 - val_mae: 615.0931\n",
            "Epoch 62/100\n",
            "18/18 [==============================] - 0s 4ms/step - loss: 111.7422 - mae: 111.7422 - val_loss: 615.2676 - val_mae: 615.2676\n",
            "Epoch 63/100\n",
            "18/18 [==============================] - 0s 5ms/step - loss: 115.7729 - mae: 115.7729 - val_loss: 628.0848 - val_mae: 628.0848\n",
            "Epoch 64/100\n",
            "18/18 [==============================] - 0s 5ms/step - loss: 116.2184 - mae: 116.2184 - val_loss: 736.4183 - val_mae: 736.4183\n",
            "Epoch 65/100\n",
            "18/18 [==============================] - 0s 5ms/step - loss: 122.1740 - mae: 122.1740 - val_loss: 648.5737 - val_mae: 648.5737\n",
            "Epoch 66/100\n",
            " 1/18 [>.............................] - ETA: 0s - loss: 127.2980 - mae: 127.2980"
          ]
        },
        {
          "output_type": "stream",
          "name": "stderr",
          "text": [
            "WARNING:absl:Found untraced functions such as _update_step_xla while saving (showing 1 of 1). These functions will not be directly callable after loading.\n"
          ]
        },
        {
          "output_type": "stream",
          "name": "stdout",
          "text": [
            "\b\b\b\b\b\b\b\b\b\b\b\b\b\b\b\b\b\b\b\b\b\b\b\b\b\b\b\b\b\b\b\b\b\b\b\b\b\b\b\b\b\b\b\b\b\b\b\b\b\b\b\b\b\b\b\b\b\b\b\b\b\b\b\b\b\b\b\b\b\b\b\b\b\b\b\b\b\b\b\b\b\r18/18 [==============================] - 0s 29ms/step - loss: 111.6436 - mae: 111.6436 - val_loss: 599.5068 - val_mae: 599.5068\n",
            "Epoch 67/100\n",
            "18/18 [==============================] - 0s 4ms/step - loss: 109.5282 - mae: 109.5282 - val_loss: 667.1794 - val_mae: 667.1794\n",
            "Epoch 68/100\n",
            "18/18 [==============================] - 0s 5ms/step - loss: 114.9350 - mae: 114.9350 - val_loss: 710.1898 - val_mae: 710.1898\n",
            "Epoch 69/100\n",
            "18/18 [==============================] - 0s 5ms/step - loss: 126.5405 - mae: 126.5405 - val_loss: 709.4103 - val_mae: 709.4103\n",
            "Epoch 70/100\n",
            " 1/18 [>.............................] - ETA: 0s - loss: 133.3061 - mae: 133.3061"
          ]
        },
        {
          "output_type": "stream",
          "name": "stderr",
          "text": [
            "WARNING:absl:Found untraced functions such as _update_step_xla while saving (showing 1 of 1). These functions will not be directly callable after loading.\n"
          ]
        },
        {
          "output_type": "stream",
          "name": "stdout",
          "text": [
            "\b\b\b\b\b\b\b\b\b\b\b\b\b\b\b\b\b\b\b\b\b\b\b\b\b\b\b\b\b\b\b\b\b\b\b\b\b\b\b\b\b\b\b\b\b\b\b\b\b\b\b\b\b\b\b\b\b\b\b\b\b\b\b\b\b\b\b\b\b\b\b\b\b\b\b\b\b\b\b\b\b\r18/18 [==============================] - 1s 29ms/step - loss: 120.9024 - mae: 120.9024 - val_loss: 596.1719 - val_mae: 596.1719\n",
            "Epoch 71/100\n",
            "18/18 [==============================] - 0s 5ms/step - loss: 112.4392 - mae: 112.4392 - val_loss: 626.6343 - val_mae: 626.6343\n",
            "Epoch 72/100\n",
            "18/18 [==============================] - 0s 5ms/step - loss: 111.7310 - mae: 111.7310 - val_loss: 622.3498 - val_mae: 622.3498\n",
            "Epoch 73/100\n",
            " 1/18 [>.............................] - ETA: 0s - loss: 124.7976 - mae: 124.7976"
          ]
        },
        {
          "output_type": "stream",
          "name": "stderr",
          "text": [
            "WARNING:absl:Found untraced functions such as _update_step_xla while saving (showing 1 of 1). These functions will not be directly callable after loading.\n"
          ]
        },
        {
          "output_type": "stream",
          "name": "stdout",
          "text": [
            "\b\b\b\b\b\b\b\b\b\b\b\b\b\b\b\b\b\b\b\b\b\b\b\b\b\b\b\b\b\b\b\b\b\b\b\b\b\b\b\b\b\b\b\b\b\b\b\b\b\b\b\b\b\b\b\b\b\b\b\b\b\b\b\b\b\b\b\b\b\b\b\b\b\b\b\b\b\b\b\b\b\r18/18 [==============================] - 1s 29ms/step - loss: 109.2068 - mae: 109.2068 - val_loss: 593.1341 - val_mae: 593.1341\n",
            "Epoch 74/100\n",
            "18/18 [==============================] - 0s 5ms/step - loss: 109.9037 - mae: 109.9037 - val_loss: 593.1389 - val_mae: 593.1389\n",
            "Epoch 75/100\n",
            "18/18 [==============================] - 0s 4ms/step - loss: 110.0678 - mae: 110.0678 - val_loss: 607.9505 - val_mae: 607.9505\n",
            "Epoch 76/100\n",
            "18/18 [==============================] - 0s 5ms/step - loss: 112.7525 - mae: 112.7525 - val_loss: 595.1902 - val_mae: 595.1902\n",
            "Epoch 77/100\n",
            "18/18 [==============================] - 0s 5ms/step - loss: 112.4736 - mae: 112.4736 - val_loss: 609.5330 - val_mae: 609.5330\n",
            "Epoch 78/100\n",
            " 1/18 [>.............................] - ETA: 0s - loss: 106.9180 - mae: 106.9180"
          ]
        },
        {
          "output_type": "stream",
          "name": "stderr",
          "text": [
            "WARNING:absl:Found untraced functions such as _update_step_xla while saving (showing 1 of 1). These functions will not be directly callable after loading.\n"
          ]
        },
        {
          "output_type": "stream",
          "name": "stdout",
          "text": [
            "\b\b\b\b\b\b\b\b\b\b\b\b\b\b\b\b\b\b\b\b\b\b\b\b\b\b\b\b\b\b\b\b\b\b\b\b\b\b\b\b\b\b\b\b\b\b\b\b\b\b\b\b\b\b\b\b\b\b\b\b\b\b\b\b\b\b\b\b\b\b\b\b\b\b\b\b\b\b\b\b\b\r18/18 [==============================] - 1s 29ms/step - loss: 108.8761 - mae: 108.8761 - val_loss: 586.9656 - val_mae: 586.9656\n",
            "Epoch 79/100\n",
            "18/18 [==============================] - 0s 5ms/step - loss: 109.3330 - mae: 109.3330 - val_loss: 607.1585 - val_mae: 607.1585\n",
            "Epoch 80/100\n",
            "18/18 [==============================] - 0s 4ms/step - loss: 108.6762 - mae: 108.6762 - val_loss: 591.3890 - val_mae: 591.3890\n",
            "Epoch 81/100\n",
            " 1/18 [>.............................] - ETA: 0s - loss: 92.6419 - mae: 92.6419"
          ]
        },
        {
          "output_type": "stream",
          "name": "stderr",
          "text": [
            "WARNING:absl:Found untraced functions such as _update_step_xla while saving (showing 1 of 1). These functions will not be directly callable after loading.\n"
          ]
        },
        {
          "output_type": "stream",
          "name": "stdout",
          "text": [
            "\b\b\b\b\b\b\b\b\b\b\b\b\b\b\b\b\b\b\b\b\b\b\b\b\b\b\b\b\b\b\b\b\b\b\b\b\b\b\b\b\b\b\b\b\b\b\b\b\b\b\b\b\b\b\b\b\b\b\b\b\b\b\b\b\b\b\b\b\b\b\b\b\b\b\b\b\b\b\b\r18/18 [==============================] - 1s 45ms/step - loss: 108.5308 - mae: 108.5308 - val_loss: 586.3420 - val_mae: 586.3420\n",
            "Epoch 82/100\n",
            " 1/18 [>.............................] - ETA: 0s - loss: 196.1237 - mae: 196.1237"
          ]
        },
        {
          "output_type": "stream",
          "name": "stderr",
          "text": [
            "WARNING:absl:Found untraced functions such as _update_step_xla while saving (showing 1 of 1). These functions will not be directly callable after loading.\n"
          ]
        },
        {
          "output_type": "stream",
          "name": "stdout",
          "text": [
            "\b\b\b\b\b\b\b\b\b\b\b\b\b\b\b\b\b\b\b\b\b\b\b\b\b\b\b\b\b\b\b\b\b\b\b\b\b\b\b\b\b\b\b\b\b\b\b\b\b\b\b\b\b\b\b\b\b\b\b\b\b\b\b\b\b\b\b\b\b\b\b\b\b\b\b\b\b\b\b\b\b\r18/18 [==============================] - 0s 29ms/step - loss: 114.1804 - mae: 114.1804 - val_loss: 582.0981 - val_mae: 582.0981\n",
            "Epoch 83/100\n",
            "18/18 [==============================] - 0s 5ms/step - loss: 111.4541 - mae: 111.4541 - val_loss: 694.1580 - val_mae: 694.1580\n",
            "Epoch 84/100\n",
            "18/18 [==============================] - 0s 5ms/step - loss: 113.5854 - mae: 113.5854 - val_loss: 591.9292 - val_mae: 591.9292\n",
            "Epoch 85/100\n",
            "18/18 [==============================] - 0s 5ms/step - loss: 108.1517 - mae: 108.1517 - val_loss: 583.3698 - val_mae: 583.3698\n",
            "Epoch 86/100\n",
            "18/18 [==============================] - 0s 4ms/step - loss: 108.1251 - mae: 108.1251 - val_loss: 635.7354 - val_mae: 635.7354\n",
            "Epoch 87/100\n",
            "18/18 [==============================] - 0s 4ms/step - loss: 108.2724 - mae: 108.2724 - val_loss: 611.2554 - val_mae: 611.2554\n",
            "Epoch 88/100\n",
            "18/18 [==============================] - 0s 5ms/step - loss: 109.6813 - mae: 109.6813 - val_loss: 583.6943 - val_mae: 583.6943\n",
            "Epoch 89/100\n",
            "17/18 [===========================>..] - ETA: 0s - loss: 105.8349 - mae: 105.8349"
          ]
        },
        {
          "output_type": "stream",
          "name": "stderr",
          "text": [
            "WARNING:absl:Found untraced functions such as _update_step_xla while saving (showing 1 of 1). These functions will not be directly callable after loading.\n"
          ]
        },
        {
          "output_type": "stream",
          "name": "stdout",
          "text": [
            "\b\b\b\b\b\b\b\b\b\b\b\b\b\b\b\b\b\b\b\b\b\b\b\b\b\b\b\b\b\b\b\b\b\b\b\b\b\b\b\b\b\b\b\b\b\b\b\b\b\b\b\b\b\b\b\b\b\b\b\b\b\b\b\b\b\b\b\b\b\b\b\b\b\b\b\b\b\b\b\b\b\r18/18 [==============================] - 1s 30ms/step - loss: 107.2914 - mae: 107.2914 - val_loss: 579.8003 - val_mae: 579.8003\n",
            "Epoch 90/100\n",
            "18/18 [==============================] - 0s 5ms/step - loss: 107.0296 - mae: 107.0296 - val_loss: 623.4189 - val_mae: 623.4189\n",
            "Epoch 91/100\n",
            "18/18 [==============================] - 0s 5ms/step - loss: 109.4460 - mae: 109.4460 - val_loss: 615.3602 - val_mae: 615.3602\n",
            "Epoch 92/100\n",
            " 1/18 [>.............................] - ETA: 0s - loss: 93.9767 - mae: 93.9767"
          ]
        },
        {
          "output_type": "stream",
          "name": "stderr",
          "text": [
            "WARNING:absl:Found untraced functions such as _update_step_xla while saving (showing 1 of 1). These functions will not be directly callable after loading.\n"
          ]
        },
        {
          "output_type": "stream",
          "name": "stdout",
          "text": [
            "\b\b\b\b\b\b\b\b\b\b\b\b\b\b\b\b\b\b\b\b\b\b\b\b\b\b\b\b\b\b\b\b\b\b\b\b\b\b\b\b\b\b\b\b\b\b\b\b\b\b\b\b\b\b\b\b\b\b\b\b\b\b\b\b\b\b\b\b\b\b\b\b\b\b\b\b\b\b\b\r18/18 [==============================] - 1s 29ms/step - loss: 109.2019 - mae: 109.2019 - val_loss: 577.6028 - val_mae: 577.6028\n",
            "Epoch 93/100\n",
            "18/18 [==============================] - 0s 5ms/step - loss: 113.5573 - mae: 113.5573 - val_loss: 637.0982 - val_mae: 637.0982\n",
            "Epoch 94/100\n",
            "18/18 [==============================] - 0s 7ms/step - loss: 109.6017 - mae: 109.6017 - val_loss: 587.2770 - val_mae: 587.2770\n",
            "Epoch 95/100\n",
            "12/18 [===================>..........] - ETA: 0s - loss: 103.5970 - mae: 103.5970"
          ]
        },
        {
          "output_type": "stream",
          "name": "stderr",
          "text": [
            "WARNING:absl:Found untraced functions such as _update_step_xla while saving (showing 1 of 1). These functions will not be directly callable after loading.\n"
          ]
        },
        {
          "output_type": "stream",
          "name": "stdout",
          "text": [
            "\b\b\b\b\b\b\b\b\b\b\b\b\b\b\b\b\b\b\b\b\b\b\b\b\b\b\b\b\b\b\b\b\b\b\b\b\b\b\b\b\b\b\b\b\b\b\b\b\b\b\b\b\b\b\b\b\b\b\b\b\b\b\b\b\b\b\b\b\b\b\b\b\b\b\b\b\b\b\b\b\b\r18/18 [==============================] - 1s 43ms/step - loss: 106.4384 - mae: 106.4384 - val_loss: 575.2879 - val_mae: 575.2879\n",
            "Epoch 96/100\n",
            "18/18 [==============================] - 0s 7ms/step - loss: 112.9892 - mae: 112.9892 - val_loss: 663.3826 - val_mae: 663.3826\n",
            "Epoch 97/100\n",
            "18/18 [==============================] - 0s 7ms/step - loss: 111.1040 - mae: 111.1040 - val_loss: 601.0955 - val_mae: 601.0955\n",
            "Epoch 98/100\n",
            "18/18 [==============================] - 0s 7ms/step - loss: 110.4230 - mae: 110.4230 - val_loss: 591.4002 - val_mae: 591.4002\n",
            "Epoch 99/100\n",
            "18/18 [==============================] - 0s 7ms/step - loss: 110.8361 - mae: 110.8361 - val_loss: 581.0234 - val_mae: 581.0234\n",
            "Epoch 100/100\n",
            "18/18 [==============================] - 0s 8ms/step - loss: 108.1106 - mae: 108.1106 - val_loss: 623.3260 - val_mae: 623.3260\n"
          ]
        },
        {
          "output_type": "execute_result",
          "data": {
            "text/plain": [
              "<keras.callbacks.History at 0x7e55d219ed40>"
            ]
          },
          "metadata": {},
          "execution_count": 37
        }
      ]
    },
    {
      "cell_type": "markdown",
      "source": [
        "**Let's evaluate it.**"
      ],
      "metadata": {
        "id": "zKBEfmgyCLsG"
      }
    },
    {
      "cell_type": "code",
      "source": [
        "# Evaluate model on test data\n",
        "model_1.evaluate(test_windows, test_labels)\n",
        ""
      ],
      "metadata": {
        "colab": {
          "base_uri": "https://localhost:8080/"
        },
        "id": "JBtLU5jjCOZa",
        "outputId": "29105db0-b340-4522-f851-d827f0a0e453"
      },
      "execution_count": 38,
      "outputs": [
        {
          "output_type": "stream",
          "name": "stdout",
          "text": [
            "18/18 [==============================] - 0s 2ms/step - loss: 623.3261 - mae: 623.3261\n"
          ]
        },
        {
          "output_type": "execute_result",
          "data": {
            "text/plain": [
              "[623.3261108398438, 623.3261108398438]"
            ]
          },
          "metadata": {},
          "execution_count": 38
        }
      ]
    },
    {
      "cell_type": "code",
      "source": [
        "# Load in saved best performing model_1 and evaluate on test data\n",
        "model_1 = tf.keras.models.load_model(\"model_experiments/model_1_dense\")\n",
        "model_1.evaluate(test_windows, test_labels)"
      ],
      "metadata": {
        "colab": {
          "base_uri": "https://localhost:8080/"
        },
        "id": "-VIHsnE_CR8K",
        "outputId": "2b2a6bf1-6dd8-480a-96ef-8e7b5d22bbf8"
      },
      "execution_count": 39,
      "outputs": [
        {
          "output_type": "stream",
          "name": "stdout",
          "text": [
            "18/18 [==============================] - 0s 2ms/step - loss: 575.2879 - mae: 575.2879\n"
          ]
        },
        {
          "output_type": "execute_result",
          "data": {
            "text/plain": [
              "[575.2879028320312, 575.2879028320312]"
            ]
          },
          "metadata": {},
          "execution_count": 39
        }
      ]
    },
    {
      "cell_type": "markdown",
      "source": [
        "#Making forecasts with model_1 (on the test dataset)"
      ],
      "metadata": {
        "id": "IqHeMaApUYKp"
      }
    },
    {
      "cell_type": "code",
      "source": [
        "def make_preds(model, input_data):\n",
        "\n",
        "  forecast = model.predict(input_data)\n",
        "  return tf.squeeze(forecast) # return 1D array of predictions"
      ],
      "metadata": {
        "id": "qLlY6KH3VyWI"
      },
      "execution_count": 40,
      "outputs": []
    },
    {
      "cell_type": "code",
      "source": [
        "# Make predictions using model_1 on the test dataset and view the results\n",
        "model_1_preds = make_preds(model_1, test_windows)\n",
        "len(model_1_preds), model_1_preds[:10]"
      ],
      "metadata": {
        "colab": {
          "base_uri": "https://localhost:8080/"
        },
        "id": "hBz4dDtkV3kc",
        "outputId": "2a5b1f9e-ff23-4eb6-8ae8-5d24ba4f5837"
      },
      "execution_count": 41,
      "outputs": [
        {
          "output_type": "stream",
          "name": "stdout",
          "text": [
            "18/18 [==============================] - 0s 1ms/step\n"
          ]
        },
        {
          "output_type": "execute_result",
          "data": {
            "text/plain": [
              "(556,\n",
              " <tf.Tensor: shape=(10,), dtype=float32, numpy=\n",
              " array([8883.172 , 8771.142 , 8990.365 , 8789.726 , 8708.283 , 8712.503 ,\n",
              "        8687.655 , 8522.441 , 8439.101 , 8511.4795], dtype=float32)>)"
            ]
          },
          "metadata": {},
          "execution_count": 41
        }
      ]
    },
    {
      "cell_type": "code",
      "source": [
        "# Evaluate preds\n",
        "model_1_results = evaluate_preds(y_true=tf.squeeze(test_labels), # reduce to right shape\n",
        "                                 y_pred=model_1_preds)\n",
        "model_1_results\n",
        ""
      ],
      "metadata": {
        "colab": {
          "base_uri": "https://localhost:8080/"
        },
        "id": "E8dRrX-aV_s8",
        "outputId": "5b80b1a3-ec78-483f-ae51-0f90e3cd5c41"
      },
      "execution_count": 42,
      "outputs": [
        {
          "output_type": "execute_result",
          "data": {
            "text/plain": [
              "{'mae': 575.28784,\n",
              " 'mse': 1203547.0,\n",
              " 'rmse': 1097.0629,\n",
              " 'mape': 2.5863209,\n",
              " 'mase': 1.0106214}"
            ]
          },
          "metadata": {},
          "execution_count": 42
        }
      ]
    },
    {
      "cell_type": "code",
      "source": [
        "naive_results"
      ],
      "metadata": {
        "colab": {
          "base_uri": "https://localhost:8080/"
        },
        "id": "xfWNBTZgWEcb",
        "outputId": "9bc780ea-3d27-4872-955d-b95196b5f316"
      },
      "execution_count": 43,
      "outputs": [
        {
          "output_type": "execute_result",
          "data": {
            "text/plain": [
              "{'mae': 567.9802,\n",
              " 'mse': 1147547.0,\n",
              " 'rmse': 1071.2362,\n",
              " 'mape': 2.516525,\n",
              " 'mase': 0.99957}"
            ]
          },
          "metadata": {},
          "execution_count": 43
        }
      ]
    },
    {
      "cell_type": "markdown",
      "source": [
        "**looks like our naive model beats our first deep model on nearly every metric.**"
      ],
      "metadata": {
        "id": "4D26yUWdWRhL"
      }
    },
    {
      "cell_type": "markdown",
      "source": [
        "**use the plot_time_series() function to plot model_1_preds against the test data.**"
      ],
      "metadata": {
        "id": "4lAmZ_vAWVXT"
      }
    },
    {
      "cell_type": "code",
      "source": [
        "offset = 400\n",
        "plt.figure(figsize=(10, 7))\n",
        "# Account for the test_window offset and index into test_labels to ensure correct plotting\n",
        "plot_time_series(timesteps=X_test[-len(test_windows):], values=test_labels[:, 0], start=offset, label=\"Test_data\")\n",
        "plot_time_series(timesteps=X_test[-len(test_windows):], values=model_1_preds, start=offset, format=\"-\", label=\"model_1_preds\")"
      ],
      "metadata": {
        "colab": {
          "base_uri": "https://localhost:8080/",
          "height": 619
        },
        "id": "UhUC9ZZAWmNv",
        "outputId": "a6615983-06f2-4c49-cbe8-705ae04c5de6"
      },
      "execution_count": 44,
      "outputs": [
        {
          "output_type": "display_data",
          "data": {
            "text/plain": [
              "<Figure size 1000x700 with 1 Axes>"
            ],
            "image/png": "[encoded data removed]"
          },
          "metadata": {}
        }
      ]
    },
    {
      "cell_type": "markdown",
      "source": [
        "#Model 2: Dense (window = 30, horizon = 1)"
      ],
      "metadata": {
        "id": "Eqi7fu8-WoyZ"
      }
    },
    {
      "cell_type": "code",
      "source": [
        "HORIZON = 1 # predict one step at a time\n",
        "WINDOW_SIZE = 30 # use 30 timesteps in the past\n",
        "\n",
        "\n",
        "# Make windowed data with appropriate horizon and window sizes\n",
        "full_windows, full_labels = make_windows(prices, window_size=WINDOW_SIZE, horizon=HORIZON)\n",
        "len(full_windows), len(full_labels)"
      ],
      "metadata": {
        "colab": {
          "base_uri": "https://localhost:8080/"
        },
        "id": "YsZE-qNxftpC",
        "outputId": "8b3828a5-6da3-48c5-ed29-73ff42925b58"
      },
      "execution_count": 45,
      "outputs": [
        {
          "output_type": "execute_result",
          "data": {
            "text/plain": [
              "(2757, 2757)"
            ]
          },
          "metadata": {},
          "execution_count": 45
        }
      ]
    },
    {
      "cell_type": "code",
      "source": [
        "# Make train and testing windows\n",
        "train_windows, test_windows, train_labels, test_labels = make_train_test_splits(windows=full_windows, labels=full_labels)\n",
        "len(train_windows), len(test_windows), len(train_labels), len(test_labels)"
      ],
      "metadata": {
        "colab": {
          "base_uri": "https://localhost:8080/"
        },
        "id": "rVhRqlUDfy0X",
        "outputId": "e810cc29-173f-48db-c4be-8136bbde3f0f"
      },
      "execution_count": 46,
      "outputs": [
        {
          "output_type": "execute_result",
          "data": {
            "text/plain": [
              "(2205, 552, 2205, 552)"
            ]
          },
          "metadata": {},
          "execution_count": 46
        }
      ]
    },
    {
      "cell_type": "markdown",
      "source": [
        "**Creat MOdel-2 as model-1 architecture**"
      ],
      "metadata": {
        "id": "yc54bTkvgqsh"
      }
    },
    {
      "cell_type": "code",
      "source": [
        "tf.random.set_seed(42)\n",
        "\n",
        "# Create model (same model as model 1 but data input will be different)\n",
        "model_2 = tf.keras.Sequential([\n",
        "  layers.Dense(128, activation=\"relu\"),\n",
        "  layers.Dense(HORIZON) # need to predict horizon number of steps into the future\n",
        "], name=\"model_2_dense\")\n",
        "\n",
        "model_2.compile(loss=\"mae\",\n",
        "                optimizer=tf.keras.optimizers.Adam())\n",
        "\n",
        "model_2.fit(train_windows,\n",
        "            train_labels,\n",
        "            epochs=100,\n",
        "            batch_size=128,\n",
        "            verbose=0,\n",
        "            validation_data=(test_windows, test_labels),\n",
        "            callbacks=[create_model_checkpoint(model_name=model_2.name)])"
      ],
      "metadata": {
        "colab": {
          "base_uri": "https://localhost:8080/"
        },
        "id": "EHRwf93Cg48Z",
        "outputId": "1adb8519-d779-49aa-ca69-4aa7b05087f7"
      },
      "execution_count": 47,
      "outputs": [
        {
          "output_type": "stream",
          "name": "stderr",
          "text": [
            "WARNING:absl:Found untraced functions such as _update_step_xla while saving (showing 1 of 1). These functions will not be directly callable after loading.\n",
            "WARNING:absl:Found untraced functions such as _update_step_xla while saving (showing 1 of 1). These functions will not be directly callable after loading.\n",
            "WARNING:absl:Found untraced functions such as _update_step_xla while saving (showing 1 of 1). These functions will not be directly callable after loading.\n",
            "WARNING:absl:Found untraced functions such as _update_step_xla while saving (showing 1 of 1). These functions will not be directly callable after loading.\n",
            "WARNING:absl:Found untraced functions such as _update_step_xla while saving (showing 1 of 1). These functions will not be directly callable after loading.\n",
            "WARNING:absl:Found untraced functions such as _update_step_xla while saving (showing 1 of 1). These functions will not be directly callable after loading.\n",
            "WARNING:absl:Found untraced functions such as _update_step_xla while saving (showing 1 of 1). These functions will not be directly callable after loading.\n",
            "WARNING:absl:Found untraced functions such as _update_step_xla while saving (showing 1 of 1). These functions will not be directly callable after loading.\n",
            "WARNING:absl:Found untraced functions such as _update_step_xla while saving (showing 1 of 1). These functions will not be directly callable after loading.\n",
            "WARNING:absl:Found untraced functions such as _update_step_xla while saving (showing 1 of 1). These functions will not be directly callable after loading.\n",
            "WARNING:absl:Found untraced functions such as _update_step_xla while saving (showing 1 of 1). These functions will not be directly callable after loading.\n",
            "WARNING:absl:Found untraced functions such as _update_step_xla while saving (showing 1 of 1). These functions will not be directly callable after loading.\n",
            "WARNING:absl:Found untraced functions such as _update_step_xla while saving (showing 1 of 1). These functions will not be directly callable after loading.\n",
            "WARNING:absl:Found untraced functions such as _update_step_xla while saving (showing 1 of 1). These functions will not be directly callable after loading.\n",
            "WARNING:absl:Found untraced functions such as _update_step_xla while saving (showing 1 of 1). These functions will not be directly callable after loading.\n",
            "WARNING:absl:Found untraced functions such as _update_step_xla while saving (showing 1 of 1). These functions will not be directly callable after loading.\n",
            "WARNING:absl:Found untraced functions such as _update_step_xla while saving (showing 1 of 1). These functions will not be directly callable after loading.\n",
            "WARNING:absl:Found untraced functions such as _update_step_xla while saving (showing 1 of 1). These functions will not be directly callable after loading.\n",
            "WARNING:absl:Found untraced functions such as _update_step_xla while saving (showing 1 of 1). These functions will not be directly callable after loading.\n",
            "WARNING:absl:Found untraced functions such as _update_step_xla while saving (showing 1 of 1). These functions will not be directly callable after loading.\n",
            "WARNING:absl:Found untraced functions such as _update_step_xla while saving (showing 1 of 1). These functions will not be directly callable after loading.\n",
            "WARNING:absl:Found untraced functions such as _update_step_xla while saving (showing 1 of 1). These functions will not be directly callable after loading.\n",
            "WARNING:absl:Found untraced functions such as _update_step_xla while saving (showing 1 of 1). These functions will not be directly callable after loading.\n",
            "WARNING:absl:Found untraced functions such as _update_step_xla while saving (showing 1 of 1). These functions will not be directly callable after loading.\n"
          ]
        },
        {
          "output_type": "execute_result",
          "data": {
            "text/plain": [
              "<keras.callbacks.History at 0x7e555272b130>"
            ]
          },
          "metadata": {},
          "execution_count": 47
        }
      ]
    },
    {
      "cell_type": "markdown",
      "source": [
        "**Evaluate Model 2**"
      ],
      "metadata": {
        "id": "gbOHydtcg58G"
      }
    },
    {
      "cell_type": "code",
      "source": [
        "# Evaluate model 2 preds\n",
        "model_2.evaluate(test_windows, test_labels)"
      ],
      "metadata": {
        "colab": {
          "base_uri": "https://localhost:8080/"
        },
        "id": "uqX12K-Yh6y9",
        "outputId": "1ba1355c-6e94-4439-e418-3ab6ed214d3b"
      },
      "execution_count": 48,
      "outputs": [
        {
          "output_type": "stream",
          "name": "stdout",
          "text": [
            "18/18 [==============================] - 0s 2ms/step - loss: 596.0124\n"
          ]
        },
        {
          "output_type": "execute_result",
          "data": {
            "text/plain": [
              "596.0123901367188"
            ]
          },
          "metadata": {},
          "execution_count": 48
        }
      ]
    },
    {
      "cell_type": "code",
      "source": [
        "# Load in best performing model\n",
        "model_2 = tf.keras.models.load_model(\"model_experiments/model_2_dense/\")\n",
        "model_2.evaluate(test_windows, test_labels)"
      ],
      "metadata": {
        "colab": {
          "base_uri": "https://localhost:8080/"
        },
        "id": "T-4zfVBsh7Wl",
        "outputId": "a11faa7a-19e3-4890-f290-1f04f24b69ed"
      },
      "execution_count": 49,
      "outputs": [
        {
          "output_type": "stream",
          "name": "stdout",
          "text": [
            "18/18 [==============================] - 0s 2ms/step - loss: 593.9529\n"
          ]
        },
        {
          "output_type": "execute_result",
          "data": {
            "text/plain": [
              "593.9529418945312"
            ]
          },
          "metadata": {},
          "execution_count": 49
        }
      ]
    },
    {
      "cell_type": "code",
      "source": [
        "# Get forecast predictions\n",
        "model_2_preds = make_preds(model_2,\n",
        "                           input_data=test_windows)"
      ],
      "metadata": {
        "colab": {
          "base_uri": "https://localhost:8080/"
        },
        "id": "5QPjonXViPhW",
        "outputId": "f1a96713-9f64-4b83-f208-60ce1b2c98d1"
      },
      "execution_count": 50,
      "outputs": [
        {
          "output_type": "stream",
          "name": "stdout",
          "text": [
            "18/18 [==============================] - 0s 2ms/step\n"
          ]
        }
      ]
    },
    {
      "cell_type": "code",
      "source": [
        "# Evaluate results for model 2 predictions\n",
        "model_2_results = evaluate_preds(y_true=tf.squeeze(test_labels), # remove 1 dimension of test labels\n",
        "                                 y_pred=model_2_preds)\n",
        "model_2_results"
      ],
      "metadata": {
        "colab": {
          "base_uri": "https://localhost:8080/"
        },
        "id": "WP29W5FkikPu",
        "outputId": "e6203a43-1dd3-4677-83de-d556e3ad38d2"
      },
      "execution_count": 51,
      "outputs": [
        {
          "output_type": "execute_result",
          "data": {
            "text/plain": [
              "{'mae': 593.9529,\n",
              " 'mse': 1223313.1,\n",
              " 'rmse': 1106.0349,\n",
              " 'mape': 2.6702535,\n",
              " 'mase': 1.0382354}"
            ]
          },
          "metadata": {},
          "execution_count": 51
        }
      ]
    },
    {
      "cell_type": "code",
      "source": [
        "model_1_results"
      ],
      "metadata": {
        "colab": {
          "base_uri": "https://localhost:8080/"
        },
        "id": "s2PG3d2Pio7v",
        "outputId": "b0c13f57-0249-4087-e18f-b5dd55732696"
      },
      "execution_count": 52,
      "outputs": [
        {
          "output_type": "execute_result",
          "data": {
            "text/plain": [
              "{'mae': 575.28784,\n",
              " 'mse': 1203547.0,\n",
              " 'rmse': 1097.0629,\n",
              " 'mape': 2.5863209,\n",
              " 'mase': 1.0106214}"
            ]
          },
          "metadata": {},
          "execution_count": 52
        }
      ]
    },
    {
      "cell_type": "markdown",
      "source": [
        "**It looks like model_2 performs worse than the naïve model as well as model_1**"
      ],
      "metadata": {
        "id": "hNr0t7I3isG3"
      }
    },
    {
      "cell_type": "markdown",
      "source": [
        "**Visualise the predeiction of model 2**"
      ],
      "metadata": {
        "id": "UMDFCbN5i3o1"
      }
    },
    {
      "cell_type": "code",
      "source": [
        "offset = 400\n",
        "plt.figure(figsize=(10, 7))\n",
        "# Account for the test_window offset\n",
        "plot_time_series(timesteps=X_test[-len(test_windows):], values=test_labels[:, 0], start=offset, label=\"test_data\")\n",
        "plot_time_series(timesteps=X_test[-len(test_windows):], values=model_2_preds, start=offset, format=\"-\", label=\"model_2_preds\")"
      ],
      "metadata": {
        "colab": {
          "base_uri": "https://localhost:8080/",
          "height": 619
        },
        "id": "ocfjosL7jOwc",
        "outputId": "07ff45bd-ab13-4f25-ef61-f82f3e150d1f"
      },
      "execution_count": 53,
      "outputs": [
        {
          "output_type": "display_data",
          "data": {
            "text/plain": [
              "<Figure size 1000x700 with 1 Axes>"
            ],
            "image/png": "[encoded data removed]"
          },
          "metadata": {}
        }
      ]
    },
    {
      "cell_type": "markdown",
      "source": [
        "#Model 3: Dense (window = 30, horizon = 7)"
      ],
      "metadata": {
        "id": "vn-g_oPIjPjW"
      }
    },
    {
      "cell_type": "code",
      "source": [
        "HORIZON = 7\n",
        "WINDOW_SIZE = 30\n",
        "\n",
        "full_windows, full_labels = make_windows(prices, window_size=WINDOW_SIZE, horizon=HORIZON)\n",
        "len(full_windows), len(full_labels)\n",
        ""
      ],
      "metadata": {
        "colab": {
          "base_uri": "https://localhost:8080/"
        },
        "id": "bu5FOyOGlQE3",
        "outputId": "c7c9cebb-ca84-4992-bebc-23db38265f21"
      },
      "execution_count": 54,
      "outputs": [
        {
          "output_type": "execute_result",
          "data": {
            "text/plain": [
              "(2751, 2751)"
            ]
          },
          "metadata": {},
          "execution_count": 54
        }
      ]
    },
    {
      "cell_type": "code",
      "source": [
        "#split the full dataset windows into training and test sets.\n",
        "\n",
        "train_windows, test_windows, train_labels, test_labels = make_train_test_splits(windows=full_windows, labels=full_labels, test_split=0.2)\n",
        "len(train_windows), len(test_windows), len(train_labels), len(test_labels)"
      ],
      "metadata": {
        "colab": {
          "base_uri": "https://localhost:8080/"
        },
        "id": "914F57qImmp9",
        "outputId": "87d6eb65-de89-40a4-e313-691ff12b210c"
      },
      "execution_count": 55,
      "outputs": [
        {
          "output_type": "execute_result",
          "data": {
            "text/plain": [
              "(2200, 551, 2200, 551)"
            ]
          },
          "metadata": {},
          "execution_count": 55
        }
      ]
    },
    {
      "cell_type": "code",
      "source": [
        "#create and fit the model\n",
        "\n",
        "tf.random.set_seed(42)\n",
        "\n",
        "# Create model (same as model_1 except with different data input size)\n",
        "model_3 = tf.keras.Sequential([\n",
        "  layers.Dense(128, activation=\"relu\"),\n",
        "  layers.Dense(HORIZON)\n",
        "], name=\"model_3_dense\")\n",
        "\n",
        "model_3.compile(loss=\"mae\",\n",
        "                optimizer=tf.keras.optimizers.Adam())\n",
        "\n",
        "model_3.fit(train_windows,\n",
        "            train_labels,\n",
        "            batch_size=128,\n",
        "            epochs=100,\n",
        "            verbose=0,\n",
        "            validation_data=(test_windows, test_labels),\n",
        "            callbacks=[create_model_checkpoint(model_name=model_3.name)])"
      ],
      "metadata": {
        "colab": {
          "base_uri": "https://localhost:8080/"
        },
        "id": "jWWCjUZqm7vu",
        "outputId": "bdea036d-fe7f-4d92-df90-93937b3eed13"
      },
      "execution_count": 56,
      "outputs": [
        {
          "output_type": "stream",
          "name": "stderr",
          "text": [
            "WARNING:absl:Found untraced functions such as _update_step_xla while saving (showing 1 of 1). These functions will not be directly callable after loading.\n",
            "WARNING:absl:Found untraced functions such as _update_step_xla while saving (showing 1 of 1). These functions will not be directly callable after loading.\n",
            "WARNING:absl:Found untraced functions such as _update_step_xla while saving (showing 1 of 1). These functions will not be directly callable after loading.\n",
            "WARNING:absl:Found untraced functions such as _update_step_xla while saving (showing 1 of 1). These functions will not be directly callable after loading.\n",
            "WARNING:absl:Found untraced functions such as _update_step_xla while saving (showing 1 of 1). These functions will not be directly callable after loading.\n",
            "WARNING:absl:Found untraced functions such as _update_step_xla while saving (showing 1 of 1). These functions will not be directly callable after loading.\n",
            "WARNING:absl:Found untraced functions such as _update_step_xla while saving (showing 1 of 1). These functions will not be directly callable after loading.\n",
            "WARNING:absl:Found untraced functions such as _update_step_xla while saving (showing 1 of 1). These functions will not be directly callable after loading.\n",
            "WARNING:absl:Found untraced functions such as _update_step_xla while saving (showing 1 of 1). These functions will not be directly callable after loading.\n",
            "WARNING:absl:Found untraced functions such as _update_step_xla while saving (showing 1 of 1). These functions will not be directly callable after loading.\n",
            "WARNING:absl:Found untraced functions such as _update_step_xla while saving (showing 1 of 1). These functions will not be directly callable after loading.\n",
            "WARNING:absl:Found untraced functions such as _update_step_xla while saving (showing 1 of 1). These functions will not be directly callable after loading.\n",
            "WARNING:absl:Found untraced functions such as _update_step_xla while saving (showing 1 of 1). These functions will not be directly callable after loading.\n",
            "WARNING:absl:Found untraced functions such as _update_step_xla while saving (showing 1 of 1). These functions will not be directly callable after loading.\n",
            "WARNING:absl:Found untraced functions such as _update_step_xla while saving (showing 1 of 1). These functions will not be directly callable after loading.\n",
            "WARNING:absl:Found untraced functions such as _update_step_xla while saving (showing 1 of 1). These functions will not be directly callable after loading.\n",
            "WARNING:absl:Found untraced functions such as _update_step_xla while saving (showing 1 of 1). These functions will not be directly callable after loading.\n",
            "WARNING:absl:Found untraced functions such as _update_step_xla while saving (showing 1 of 1). These functions will not be directly callable after loading.\n",
            "WARNING:absl:Found untraced functions such as _update_step_xla while saving (showing 1 of 1). These functions will not be directly callable after loading.\n",
            "WARNING:absl:Found untraced functions such as _update_step_xla while saving (showing 1 of 1). These functions will not be directly callable after loading.\n",
            "WARNING:absl:Found untraced functions such as _update_step_xla while saving (showing 1 of 1). These functions will not be directly callable after loading.\n",
            "WARNING:absl:Found untraced functions such as _update_step_xla while saving (showing 1 of 1). These functions will not be directly callable after loading.\n",
            "WARNING:absl:Found untraced functions such as _update_step_xla while saving (showing 1 of 1). These functions will not be directly callable after loading.\n",
            "WARNING:absl:Found untraced functions such as _update_step_xla while saving (showing 1 of 1). These functions will not be directly callable after loading.\n",
            "WARNING:absl:Found untraced functions such as _update_step_xla while saving (showing 1 of 1). These functions will not be directly callable after loading.\n",
            "WARNING:absl:Found untraced functions such as _update_step_xla while saving (showing 1 of 1). These functions will not be directly callable after loading.\n",
            "WARNING:absl:Found untraced functions such as _update_step_xla while saving (showing 1 of 1). These functions will not be directly callable after loading.\n"
          ]
        },
        {
          "output_type": "execute_result",
          "data": {
            "text/plain": [
              "<keras.callbacks.History at 0x7e55526972b0>"
            ]
          },
          "metadata": {},
          "execution_count": 56
        }
      ]
    },
    {
      "cell_type": "code",
      "source": [
        "#evaluate model-3\n",
        "model_3.evaluate(test_windows, test_labels)"
      ],
      "metadata": {
        "colab": {
          "base_uri": "https://localhost:8080/"
        },
        "id": "q7CB7RZBnxCG",
        "outputId": "ded1f377-1884-4183-e603-131bde9f4bba"
      },
      "execution_count": 57,
      "outputs": [
        {
          "output_type": "stream",
          "name": "stdout",
          "text": [
            "18/18 [==============================] - 0s 2ms/step - loss: 1430.3999\n"
          ]
        },
        {
          "output_type": "execute_result",
          "data": {
            "text/plain": [
              "1430.39990234375"
            ]
          },
          "metadata": {},
          "execution_count": 57
        }
      ]
    },
    {
      "cell_type": "code",
      "source": [
        "# Load in best version of model_3 and evaluate\n",
        "model_3 = tf.keras.models.load_model(\"model_experiments/model_3_dense/\")\n",
        "model_3.evaluate(test_windows, test_labels)"
      ],
      "metadata": {
        "colab": {
          "base_uri": "https://localhost:8080/"
        },
        "id": "S7RiaBiIn-JE",
        "outputId": "2a09eb98-f7a6-47a8-87db-df590ba2673a"
      },
      "execution_count": 58,
      "outputs": [
        {
          "output_type": "stream",
          "name": "stdout",
          "text": [
            "18/18 [==============================] - 0s 2ms/step - loss: 1269.7908\n"
          ]
        },
        {
          "output_type": "execute_result",
          "data": {
            "text/plain": [
              "1269.790771484375"
            ]
          },
          "metadata": {},
          "execution_count": 58
        }
      ]
    },
    {
      "cell_type": "code",
      "source": [
        "# The predictions are going to be 7 steps at a time (this is the HORIZON size)\n",
        "model_3_preds = make_preds(model_3,\n",
        "                           input_data=test_windows)\n",
        "model_3_preds[:5]\n",
        ""
      ],
      "metadata": {
        "colab": {
          "base_uri": "https://localhost:8080/"
        },
        "id": "aRQuWg-ZoH-s",
        "outputId": "3b3a7eff-f342-477c-f04a-f33eab7b080f"
      },
      "execution_count": 59,
      "outputs": [
        {
          "output_type": "stream",
          "name": "stdout",
          "text": [
            "18/18 [==============================] - 0s 1ms/step\n"
          ]
        },
        {
          "output_type": "execute_result",
          "data": {
            "text/plain": [
              "<tf.Tensor: shape=(5, 7), dtype=float32, numpy=\n",
              "array([[9180.781 , 9335.191 , 9365.83  , 9433.0205, 9526.329 , 9411.652 ,\n",
              "        9622.094 ],\n",
              "       [8981.521 , 9003.978 , 8982.61  , 9403.563 , 9135.986 , 9347.983 ,\n",
              "        9464.84  ],\n",
              "       [8716.047 , 8916.546 , 8669.285 , 9098.974 , 8777.778 , 9102.233 ,\n",
              "        9041.329 ],\n",
              "       [8909.587 , 8915.876 , 8838.389 , 9166.294 , 8827.015 , 9079.029 ,\n",
              "        9037.721 ],\n",
              "       [8876.785 , 8724.812 , 8956.872 , 9048.059 , 8937.117 , 8968.413 ,\n",
              "        8999.776 ]], dtype=float32)>"
            ]
          },
          "metadata": {},
          "execution_count": 59
        }
      ]
    },
    {
      "cell_type": "code",
      "source": [
        "# Calculate model_3 results - these are going to be multi-dimensional because\n",
        "# we're trying to predict more than one step at a time.\n",
        "model_3_results = evaluate_preds(y_true=tf.squeeze(test_labels),\n",
        "                                 y_pred=model_3_preds)\n",
        "model_3_results"
      ],
      "metadata": {
        "colab": {
          "base_uri": "https://localhost:8080/"
        },
        "id": "l2iCvpPkoOTK",
        "outputId": "7d1d86b3-1e60-4ad7-9fb0-6dc91168b473"
      },
      "execution_count": 60,
      "outputs": [
        {
          "output_type": "execute_result",
          "data": {
            "text/plain": [
              "{'mae': array([ 617.4848  ,  459.44434 ,  329.38254 ,  341.10687 ,  382.9739  ,\n",
              "         476.03424 ,  442.21402 ,  468.5097  ,  576.6168  ,  569.1186  ,\n",
              "         702.84344 ,  718.48456 ,  764.61    ,  779.24445 ,  612.7622  ,\n",
              "         226.26115 ,  152.85742 ,  230.14934 ,  290.24072 ,  295.89215 ,\n",
              "         200.30434 ,  206.45947 ,  266.52777 ,  290.9227  ,  236.41037 ,\n",
              "         135.25676 ,  120.557755,  163.08398 ,  172.02908 ,  232.95647 ,\n",
              "         309.62723 ,  300.0053  ,  325.75983 ,  303.54263 ,  254.18484 ,\n",
              "         259.12994 ,  302.83734 ,  170.82297 ,  192.3547  ,  178.39635 ,\n",
              "         432.68094 ,  148.25154 ,  124.08043 ,  110.216934,   84.63672 ,\n",
              "          62.777763,   94.55824 ,   82.27162 ,  114.26981 ,  151.50969 ,\n",
              "         183.2657  ,  109.85087 ,  173.00328 ,  164.44705 ,  223.74149 ,\n",
              "         307.29996 ,  576.1969  ,  537.82587 ,  526.5789  ,  581.1867  ,\n",
              "         406.62534 ,  252.13615 ,  246.92732 ,  340.5521  ,  380.04916 ,\n",
              "         522.75574 ,  480.76172 ,  582.67267 ,  231.96596 ,  144.24791 ,\n",
              "         260.37137 ,  396.6193  ,  460.1162  ,  357.19238 ,  300.6639  ,\n",
              "         251.1656  ,  354.19043 ,  365.35352 ,  517.0579  ,  804.14465 ,\n",
              "         871.7308  ,  738.91125 ,  399.63184 ,  208.89914 ,  125.082726,\n",
              "         170.7507  ,  228.26912 ,  325.352   ,  396.60114 ,  599.40594 ,\n",
              "         623.50836 ,  543.7885  ,  442.71875 ,  306.743   ,  236.48885 ,\n",
              "         327.60464 ,  312.9509  ,  431.72446 ,  567.129   ,  689.5088  ,\n",
              "         473.92426 ,  347.98453 ,  204.7761  ,  218.79729 ,  284.7238  ,\n",
              "         426.5727  ,  470.07156 ,  652.74286 ,  879.749   ,  946.34265 ,\n",
              "         929.4312  ,  479.35184 ,  161.66043 ,  163.15834 ,  274.45297 ,\n",
              "         372.3653  ,  409.14725 ,  540.18896 ,  649.29016 , 1049.7623  ,\n",
              "        1613.8123  , 2139.1038  , 2167.822   , 2107.8362  , 2305.246   ,\n",
              "        2493.0237  , 1527.3594  ,  599.81537 ,  468.34653 ,  439.99066 ,\n",
              "         780.81757 ,  806.7207  ,  843.6021  ,  394.48312 ,  341.1988  ,\n",
              "         300.9631  ,  289.798   ,  277.05893 ,  294.82938 ,  405.80045 ,\n",
              "         290.96625 ,  366.7518  ,  304.62143 ,  701.6147  ,  711.77704 ,\n",
              "         516.1303  ,  462.78293 ,  284.44965 ,  303.97635 ,  166.02727 ,\n",
              "         207.94371 ,  310.22433 ,  394.4426  ,  434.93045 ,  570.0284  ,\n",
              "         196.86336 ,  262.375   ,  212.99059 ,  216.16371 ,  227.81676 ,\n",
              "         326.51318 ,  259.0542  ,  283.98026 ,  248.42732 ,  231.60652 ,\n",
              "         283.6396  ,  531.78577 ,  736.0114  ,  678.8869  ,  687.5182  ,\n",
              "         776.20056 ,  915.8211  , 1038.841   , 1110.0966  ,  599.3763  ,\n",
              "         406.51422 ,  328.1946  ,  354.04297 ,  385.8654  ,  421.79785 ,\n",
              "         526.3549  ,  561.5755  ,  595.56573 ,  758.4604  ,  853.5872  ,\n",
              "         209.19643 ,  469.6748  ,  792.769   ,  484.1084  ,  162.316   ,\n",
              "         186.95508 ,  296.6946  ,  288.8178  ,  414.18387 ,  612.1265  ,\n",
              "         616.8165  ,  267.86957 ,  234.33035 ,  328.68582 ,  357.5392  ,\n",
              "         472.43973 ,  719.6246  ,  782.81934 ,  522.8436  ,  372.32422 ,\n",
              "         226.75949 ,  178.53795 ,  375.53098 ,  220.51646 ,  169.04549 ,\n",
              "         233.6981  ,  172.78963 ,  228.65039 ,  271.6677  ,  359.08902 ,\n",
              "         425.3976  ,  465.53418 ,  218.54715 ,  238.52428 ,  218.64928 ,\n",
              "         179.98828 ,  244.1836  ,  182.83162 ,  155.6515  ,  189.2885  ,\n",
              "         144.76424 ,  240.06348 ,  283.79465 ,  323.03403 ,  440.78445 ,\n",
              "         420.88156 ,  233.16016 ,  260.30804 ,  150.52498 ,   93.12807 ,\n",
              "         139.4375  ,  125.308174,  106.57533 ,   87.231865,   80.02232 ,\n",
              "          65.00279 ,  124.8796  ,  143.64258 ,  127.48633 ,  181.36008 ,\n",
              "         217.75125 ,  187.71303 ,  137.09236 ,  169.03209 ,  169.7952  ,\n",
              "         127.49847 ,  108.08733 ,  143.92326 ,  139.851   ,  181.5159  ,\n",
              "         295.86176 ,  563.48785 ,  721.63055 ,  800.274   ,  900.124   ,\n",
              "        1076.9758  , 1299.6462  , 1337.7478  ,  655.9058  ,  333.24594 ,\n",
              "         185.14217 ,  309.37863 ,  278.5071  ,  275.1995  ,  143.61398 ,\n",
              "         201.14537 ,  252.      ,  257.1229  ,  170.32031 ,  233.5265  ,\n",
              "         272.33063 ,  207.43275 ,  221.37039 ,  297.18652 ,  285.71344 ,\n",
              "         217.08998 ,  228.5745  ,  318.59488 ,  215.78836 ,  385.67844 ,\n",
              "         428.71695 ,  310.9301  ,  250.75754 ,  218.86203 ,  282.90707 ,\n",
              "         208.87863 ,  204.9601  ,  146.08217 ,  127.91699 ,  357.52023 ,\n",
              "         440.1232  ,  698.73157 ,  884.6564  , 1142.2631  , 1425.9606  ,\n",
              "        1459.3105  , 1075.7439  ,  621.2142  ,  116.80859 ,  154.8711  ,\n",
              "         177.01772 ,  359.45508 ,  321.26367 ,  452.85742 ,  354.39984 ,\n",
              "         346.512   ,  411.8019  ,  307.7634  ,  241.44002 ,  329.92856 ,\n",
              "         407.04883 ,  493.2585  ,  377.02832 ,  355.99652 ,   93.92411 ,\n",
              "         129.9675  ,  268.2666  ,  215.11705 ,  134.5664  ,  258.64062 ,\n",
              "         289.07797 ,  321.18094 ,  264.8362  ,  267.56976 ,  159.37137 ,\n",
              "         159.24666 ,  303.262   ,  340.9929  ,  393.2055  ,  507.3986  ,\n",
              "         658.75446 ,  606.9238  ,  486.05484 ,  179.04408 ,  163.95187 ,\n",
              "         241.14523 ,  219.97377 ,  349.38644 ,  516.7002  ,  721.86176 ,\n",
              "         997.1505  , 1254.9387  , 1252.5862  , 1291.2938  ,  557.46735 ,\n",
              "         230.29045 ,  141.3584  ,  247.7465  ,  290.31723 ,  328.63016 ,\n",
              "         133.98828 ,  207.82004 ,  465.92703 ,  794.8724  ,  735.3991  ,\n",
              "         877.1719  , 1169.7467  , 1324.4987  , 1260.8506  ,  727.6886  ,\n",
              "         445.47086 ,  379.7422  ,  321.58774 ,  693.3958  ,  933.6491  ,\n",
              "        1020.6035  ,  900.6296  , 1010.8493  , 1474.7777  , 1953.5856  ,\n",
              "        1776.9221  , 1274.553   ,  809.9297  ,  643.3864  ,  653.0831  ,\n",
              "         752.9389  , 1049.1022  ,  896.2489  ,  973.01337 ,  898.74274 ,\n",
              "         675.48047 , 1441.5818  , 1676.9333  , 1499.8307  ,  442.4121  ,\n",
              "         282.75055 ,  459.618   ,  688.56805 ,  533.1091  ,  570.5767  ,\n",
              "         522.84375 ,  456.577   ,  376.96625 ,  721.7249  , 1672.8455  ,\n",
              "        2385.6614  , 2861.1077  , 3244.6145  , 3307.8293  , 3567.1372  ,\n",
              "        2637.4453  , 1192.9353  ,  568.3842  ,  861.37726 , 1084.5564  ,\n",
              "        1221.8809  , 1750.0714  , 2594.7993  , 3204.924   , 3319.968   ,\n",
              "        2925.5461  , 2926.6812  , 3003.1836  , 3635.5896  , 3532.4158  ,\n",
              "        4324.442   , 5260.9844  , 4622.335   , 4573.2686  , 4843.3794  ,\n",
              "        3722.6077  , 3091.856   , 2085.4683  , 3434.6055  , 4813.3857  ,\n",
              "        4680.9854  , 1525.7081  , 1056.4666  ,  870.28015 , 2217.2188  ,\n",
              "        3051.5747  , 3098.6545  , 2997.6619  , 3179.411   , 3820.973   ,\n",
              "        3964.8423  , 1047.7238  ,  778.5837  , 1774.4752  , 1970.676   ,\n",
              "        1698.1931  , 2333.8147  , 3899.1018  , 3893.5562  , 3120.0535  ,\n",
              "        2363.8176  , 2703.1206  , 4477.3076  , 5536.539   , 5190.7764  ,\n",
              "        5801.322   , 6031.005   , 6458.38    , 7764.7964  , 4844.708   ,\n",
              "        2516.2747  , 1582.5212  , 1327.4788  , 2056.836   , 2696.7244  ,\n",
              "        2877.438   , 3453.0034  , 3534.5864  , 3439.8052  , 3987.9153  ,\n",
              "        5341.663   , 6927.089   , 8931.985   , 9782.594   , 5018.0327  ,\n",
              "        2719.4258  , 1904.9642  , 1765.9498  , 2597.9023  , 4878.8813  ,\n",
              "        3719.8125  , 4112.321   , 2841.8867  , 4191.531   , 4285.5815  ,\n",
              "        6214.952   , 6587.77    , 6561.6357  , 4909.7964  , 2431.9744  ,\n",
              "        1747.7717  , 1674.1317  , 1868.6451  , 2777.0881  , 2121.1206  ,\n",
              "        1908.3264  , 2631.0078  , 4157.9937  , 4960.165   , 5157.813   ,\n",
              "        4748.008   , 1886.1903  , 1390.9045  , 2771.3215  , 4825.145   ,\n",
              "        4304.1333  , 3298.711   , 2971.6562  , 2349.7617  ,  763.5954  ,\n",
              "        1052.2528  ,  905.78406 , 1228.4202  ,  884.2673  , 1201.49    ,\n",
              "         971.5519  , 1074.6122  , 2329.4536  , 3146.9553  , 3551.2153  ,\n",
              "        2934.7622  , 2433.842   , 2860.148   , 3791.557   , 5200.6006  ,\n",
              "        7794.5913  , 8623.994   , 8435.74    , 6715.3267  , 4919.992   ,\n",
              "        3616.1199  , 2726.616   , 1533.7405  , 2670.5847  , 4165.7397  ,\n",
              "        6128.3853  , 4627.1396  , 1821.2863  , 1773.1786  , 1947.9442  ,\n",
              "        1333.4749  , 1424.8555  , 1165.6378  , 1289.7411  , 1559.3978  ,\n",
              "        1898.5217  , 2523.361   , 3989.9648  , 5781.8115  , 7220.6045  ,\n",
              "        8756.459   ], dtype=float32),\n",
              " 'mse': array([4.27884406e+05, 2.97523281e+05, 1.44233312e+05, 1.51324172e+05,\n",
              "        2.05535359e+05, 2.84631812e+05, 2.37608391e+05, 3.40756062e+05,\n",
              "        5.20609062e+05, 5.24253938e+05, 7.20538562e+05, 7.33538438e+05,\n",
              "        6.86623000e+05, 6.46714125e+05, 4.11201562e+05, 6.34236523e+04,\n",
              "        3.21168750e+04, 7.11179297e+04, 1.05478016e+05, 1.25978984e+05,\n",
              "        6.53402773e+04, 5.12947695e+04, 8.70571406e+04, 9.26636875e+04,\n",
              "        7.00713984e+04, 2.46503555e+04, 2.56293008e+04, 4.07502070e+04,\n",
              "        3.96161953e+04, 5.84345586e+04, 1.20648852e+05, 1.10379500e+05,\n",
              "        1.51808031e+05, 2.05514594e+05, 1.26829766e+05, 1.21423289e+05,\n",
              "        1.52616859e+05, 8.14048828e+04, 6.73475234e+04, 6.36629570e+04,\n",
              "        2.13079969e+05, 2.79786914e+04, 2.74355371e+04, 1.61776191e+04,\n",
              "        1.11005225e+04, 6.17120703e+03, 1.12241641e+04, 1.13685156e+04,\n",
              "        1.41919521e+04, 3.41518047e+04, 4.90210586e+04, 2.33655352e+04,\n",
              "        5.30782070e+04, 4.68198750e+04, 9.38795859e+04, 1.34205859e+05,\n",
              "        3.92555656e+05, 3.59686938e+05, 3.25046219e+05, 3.52724000e+05,\n",
              "        1.84447500e+05, 1.17018195e+05, 1.26459102e+05, 2.00725594e+05,\n",
              "        2.25920484e+05, 3.36908250e+05, 2.90837438e+05, 3.57912500e+05,\n",
              "        6.60680547e+04, 2.94290254e+04, 8.97581953e+04, 2.02265781e+05,\n",
              "        2.47772969e+05, 1.65601078e+05, 1.20890023e+05, 9.85615859e+04,\n",
              "        1.38743984e+05, 2.26719703e+05, 3.65470562e+05, 7.28535438e+05,\n",
              "        7.86873438e+05, 5.69400375e+05, 1.84983109e+05, 6.65061797e+04,\n",
              "        2.01560664e+04, 4.99848477e+04, 7.00563359e+04, 1.41350609e+05,\n",
              "        1.86209797e+05, 3.85052906e+05, 4.33621562e+05, 3.30615656e+05,\n",
              "        2.26201000e+05, 1.20622117e+05, 7.10519531e+04, 1.45773750e+05,\n",
              "        1.27772875e+05, 2.64201094e+05, 4.38736656e+05, 5.11990000e+05,\n",
              "        2.73760562e+05, 1.42424266e+05, 6.66876641e+04, 7.45530859e+04,\n",
              "        2.07430000e+05, 3.22255469e+05, 3.29203438e+05, 5.85827062e+05,\n",
              "        9.83587125e+05, 9.58359500e+05, 8.94319125e+05, 2.76890656e+05,\n",
              "        3.12630176e+04, 3.80824922e+04, 1.04053258e+05, 1.52260828e+05,\n",
              "        2.32744859e+05, 4.12853406e+05, 4.75874031e+05, 2.08020838e+06,\n",
              "        4.10456750e+06, 6.19412100e+06, 6.55702150e+06, 6.13894300e+06,\n",
              "        6.25302400e+06, 6.34706500e+06, 2.45510200e+06, 5.37262375e+05,\n",
              "        2.81669562e+05, 3.21712750e+05, 6.89377438e+05, 7.73020500e+05,\n",
              "        8.17756188e+05, 2.14944844e+05, 1.56741453e+05, 1.30269000e+05,\n",
              "        1.31054859e+05, 1.03402711e+05, 1.37001656e+05, 2.89038625e+05,\n",
              "        1.76180344e+05, 1.49623984e+05, 1.50308500e+05, 5.23908719e+05,\n",
              "        5.38131750e+05, 3.31550594e+05, 2.28260531e+05, 1.19332734e+05,\n",
              "        1.12651016e+05, 3.51071094e+04, 5.55901250e+04, 1.37489609e+05,\n",
              "        2.05563359e+05, 2.16329281e+05, 3.48349656e+05, 6.79026953e+04,\n",
              "        7.58113203e+04, 6.77940703e+04, 6.19310625e+04, 8.32263906e+04,\n",
              "        1.29652078e+05, 9.75036406e+04, 1.12864000e+05, 7.81793672e+04,\n",
              "        6.60531484e+04, 1.01556148e+05, 3.21443656e+05, 7.15418875e+05,\n",
              "        7.30424438e+05, 8.34283125e+05, 8.37196500e+05, 1.00457244e+06,\n",
              "        1.18197812e+06, 1.23542625e+06, 3.80464656e+05, 3.03426000e+05,\n",
              "        2.19104531e+05, 2.06258797e+05, 2.25495828e+05, 2.41221344e+05,\n",
              "        3.16393750e+05, 3.73618156e+05, 5.54844938e+05, 7.60618000e+05,\n",
              "        8.41685438e+05, 7.93528594e+04, 3.02582531e+05, 6.53435938e+05,\n",
              "        2.48505859e+05, 3.26641113e+04, 6.85289531e+04, 1.15486648e+05,\n",
              "        1.03401227e+05, 2.24437078e+05, 4.39379562e+05, 4.22421719e+05,\n",
              "        1.31929547e+05, 6.75033672e+04, 1.72407359e+05, 1.89391203e+05,\n",
              "        3.34123219e+05, 6.17580188e+05, 6.92908875e+05, 3.39572938e+05,\n",
              "        1.89825234e+05, 9.13575859e+04, 8.64165469e+04, 1.58701078e+05,\n",
              "        5.94910664e+04, 4.02691914e+04, 6.47567305e+04, 5.78226445e+04,\n",
              "        6.74621250e+04, 9.07035859e+04, 1.47606109e+05, 2.07569234e+05,\n",
              "        2.30528781e+05, 6.60339297e+04, 7.18784375e+04, 5.68769062e+04,\n",
              "        4.61994297e+04, 8.87574766e+04, 3.87414727e+04, 3.54475938e+04,\n",
              "        5.30486328e+04, 3.40315508e+04, 8.30117344e+04, 1.11008609e+05,\n",
              "        1.27634820e+05, 2.27198719e+05, 1.93679500e+05, 7.23156719e+04,\n",
              "        7.34176719e+04, 2.92710293e+04, 1.02882881e+04, 2.38095664e+04,\n",
              "        2.00990664e+04, 1.85249570e+04, 1.33225488e+04, 9.22118066e+03,\n",
              "        1.19806406e+04, 3.61424023e+04, 3.72105742e+04, 2.24056895e+04,\n",
              "        3.78732773e+04, 6.31200977e+04, 4.43301250e+04, 2.57091504e+04,\n",
              "        4.01377422e+04, 3.49094141e+04, 2.41832285e+04, 1.73704004e+04,\n",
              "        2.64614395e+04, 2.84492285e+04, 4.53529062e+04, 1.13278055e+05,\n",
              "        5.99944875e+05, 8.66305125e+05, 1.10533675e+06, 1.20269638e+06,\n",
              "        1.47401862e+06, 1.89890262e+06, 1.84057088e+06, 4.74092219e+05,\n",
              "        1.49407109e+05, 4.63599375e+04, 1.16533875e+05, 1.00719789e+05,\n",
              "        1.04250625e+05, 2.74938145e+04, 4.71419570e+04, 8.39195703e+04,\n",
              "        9.59599844e+04, 5.49926562e+04, 8.36523594e+04, 1.33933969e+05,\n",
              "        6.75679922e+04, 5.89831758e+04, 1.41711375e+05, 1.58060047e+05,\n",
              "        6.99643672e+04, 1.04182539e+05, 1.27535734e+05, 1.01698000e+05,\n",
              "        1.84257578e+05, 2.44293828e+05, 1.50239969e+05, 1.14183258e+05,\n",
              "        5.63159180e+04, 9.64557031e+04, 5.91407383e+04, 5.37705195e+04,\n",
              "        2.91102188e+04, 2.96170898e+04, 1.94337234e+05, 2.84088656e+05,\n",
              "        6.77846125e+05, 1.14349825e+06, 1.64917888e+06, 2.33652875e+06,\n",
              "        2.21963575e+06, 1.22150162e+06, 4.10326688e+05, 2.47951992e+04,\n",
              "        4.01449688e+04, 5.29579023e+04, 1.63791516e+05, 1.37263844e+05,\n",
              "        2.41411859e+05, 1.62404453e+05, 1.34264922e+05, 1.96382891e+05,\n",
              "        1.10947945e+05, 8.51442109e+04, 1.80888734e+05, 2.25694891e+05,\n",
              "        3.39929312e+05, 2.02782875e+05, 1.38107922e+05, 1.21345000e+04,\n",
              "        2.34634043e+04, 9.26513594e+04, 5.10234922e+04, 2.44087227e+04,\n",
              "        9.51306094e+04, 1.09429805e+05, 1.40297406e+05, 8.79467109e+04,\n",
              "        8.92329922e+04, 3.42649141e+04, 3.21461211e+04, 1.21375859e+05,\n",
              "        1.89034828e+05, 2.54608375e+05, 3.20360156e+05, 4.55947156e+05,\n",
              "        3.79928812e+05, 2.61836750e+05, 5.50992109e+04, 3.00144336e+04,\n",
              "        7.86112344e+04, 7.37830703e+04, 2.87667875e+05, 5.96832688e+05,\n",
              "        9.62495375e+05, 1.33742825e+06, 1.76799100e+06, 1.68635825e+06,\n",
              "        1.71801338e+06, 3.53236281e+05, 7.72555234e+04, 3.30467891e+04,\n",
              "        6.97106953e+04, 1.32437953e+05, 1.59954078e+05, 2.29694727e+04,\n",
              "        8.92435469e+04, 4.70673281e+05, 1.18204125e+06, 1.03098694e+06,\n",
              "        1.23591125e+06, 1.67485800e+06, 2.00985312e+06, 1.64019938e+06,\n",
              "        6.82425375e+05, 2.96315531e+05, 2.25231094e+05, 1.90328906e+05,\n",
              "        6.24846125e+05, 1.10648738e+06, 1.58350200e+06, 1.40483575e+06,\n",
              "        1.48613238e+06, 2.74097250e+06, 4.22344800e+06, 3.29757550e+06,\n",
              "        1.68560425e+06, 7.61813688e+05, 5.47786750e+05, 7.05128438e+05,\n",
              "        1.01373969e+06, 1.63899975e+06, 1.35061600e+06, 1.49518425e+06,\n",
              "        1.20497788e+06, 6.42084125e+05, 2.38037500e+06, 2.94785550e+06,\n",
              "        2.34620075e+06, 2.58670016e+05, 1.46901469e+05, 3.08793438e+05,\n",
              "        5.99997625e+05, 5.07674250e+05, 4.60025938e+05, 4.52215844e+05,\n",
              "        3.65980906e+05, 2.22807109e+05, 1.35718675e+06, 5.21147700e+06,\n",
              "        8.12807950e+06, 1.11030710e+07, 1.34737810e+07, 1.25802540e+07,\n",
              "        1.32177380e+07, 7.01349100e+06, 1.57374512e+06, 5.25464500e+05,\n",
              "        1.09646762e+06, 1.61916262e+06, 2.84652725e+06, 4.69504050e+06,\n",
              "        8.89564100e+06, 1.21176710e+07, 1.23109070e+07, 1.11298480e+07,\n",
              "        1.22336870e+07, 1.20569450e+07, 1.61475750e+07, 1.70123460e+07,\n",
              "        2.80543240e+07, 3.76505840e+07, 3.21348600e+07, 2.67414020e+07,\n",
              "        2.86858360e+07, 1.93342560e+07, 1.21476550e+07, 6.95319900e+06,\n",
              "        1.65451610e+07, 2.67358180e+07, 2.30047360e+07, 2.95704400e+06,\n",
              "        1.64635412e+06, 1.26236400e+06, 8.79831600e+06, 1.54717680e+07,\n",
              "        1.51336170e+07, 1.20271590e+07, 1.17294790e+07, 1.68212520e+07,\n",
              "        1.74364340e+07, 1.93692175e+06, 9.35721000e+05, 4.63866500e+06,\n",
              "        5.25928100e+06, 4.26693550e+06, 6.43840750e+06, 1.66895840e+07,\n",
              "        1.65487940e+07, 1.29335890e+07, 7.89225950e+06, 1.01690720e+07,\n",
              "        2.63175340e+07, 4.08579280e+07, 3.88413880e+07, 4.73287240e+07,\n",
              "        4.40655360e+07, 4.82791240e+07, 6.13753920e+07, 2.43761560e+07,\n",
              "        7.40370400e+06, 3.92571775e+06, 2.87642775e+06, 8.15511850e+06,\n",
              "        1.25216130e+07, 1.17302370e+07, 1.56673090e+07, 1.44069280e+07,\n",
              "        1.25777840e+07, 1.69981880e+07, 3.86706120e+07, 6.04939880e+07,\n",
              "        9.13658640e+07, 9.85432960e+07, 2.87275180e+07, 1.28212300e+07,\n",
              "        4.79546650e+06, 4.24382350e+06, 8.50010500e+06, 2.49623360e+07,\n",
              "        1.56521820e+07, 2.04740140e+07, 1.25137540e+07, 2.86020180e+07,\n",
              "        2.73349480e+07, 4.89351600e+07, 5.09960680e+07, 4.95148080e+07,\n",
              "        2.66820200e+07, 8.16531550e+06, 5.02648850e+06, 5.61432100e+06,\n",
              "        4.15369525e+06, 8.72161200e+06, 9.36484800e+06, 7.88834000e+06,\n",
              "        1.28847540e+07, 2.63400820e+07, 3.24151180e+07, 3.37682560e+07,\n",
              "        2.53842180e+07, 5.83827600e+06, 2.62129775e+06, 1.04819540e+07,\n",
              "        2.59369980e+07, 2.13021380e+07, 1.20528140e+07, 9.31427100e+06,\n",
              "        6.02405850e+06, 1.04284256e+06, 1.51570912e+06, 1.25210512e+06,\n",
              "        1.81786425e+06, 1.39381612e+06, 2.03900825e+06, 1.22338662e+06,\n",
              "        2.47639050e+06, 8.17232900e+06, 1.20838090e+07, 1.37181980e+07,\n",
              "        1.00010430e+07, 7.41480000e+06, 1.22614330e+07, 2.09198180e+07,\n",
              "        3.79293320e+07, 7.49789840e+07, 8.61590480e+07, 7.90473600e+07,\n",
              "        5.57603320e+07, 3.08332920e+07, 1.83505020e+07, 1.07075200e+07,\n",
              "        4.47973550e+06, 9.27582600e+06, 2.14426220e+07, 3.97614160e+07,\n",
              "        2.26158980e+07, 4.85798150e+06, 4.16918250e+06, 4.78829750e+06,\n",
              "        3.16723600e+06, 4.15422475e+06, 2.15397675e+06, 2.91829575e+06,\n",
              "        2.95622375e+06, 5.06625250e+06, 1.16247130e+07, 2.40139200e+07,\n",
              "        4.85308480e+07, 7.31126880e+07, 1.03808336e+08], dtype=float32),\n",
              " 'rmse': array([  654.1287  ,   545.457   ,   379.7806  ,   389.0041  ,\n",
              "          453.36008 ,   533.509   ,   487.4509  ,   583.74316 ,\n",
              "          721.5324  ,   724.05383 ,   848.84546 ,   856.46857 ,\n",
              "          828.6272  ,   804.1854  ,   641.25    ,   251.84053 ,\n",
              "          179.2118  ,   266.67944 ,   324.77377 ,   354.93518 ,\n",
              "          255.61745 ,   226.48349 ,   295.05447 ,   304.4071  ,\n",
              "          264.71002 ,   157.00432 ,   160.09154 ,   201.8668  ,\n",
              "          199.03818 ,   241.7324  ,   347.34543 ,   332.2341  ,\n",
              "          389.6255  ,   453.33716 ,   356.13168 ,   348.45844 ,\n",
              "          390.66208 ,   285.3154  ,   259.514   ,   252.31519 ,\n",
              "          461.60583 ,   167.26833 ,   165.63676 ,   127.19127 ,\n",
              "          105.35902 ,    78.55703 ,   105.94415 ,   106.623245,\n",
              "          119.12998 ,   184.80206 ,   221.407   ,   152.8579  ,\n",
              "          230.38708 ,   216.37901 ,   306.39777 ,   366.3412  ,\n",
              "          626.5426  ,   599.7391  ,   570.12823 ,   593.9057  ,\n",
              "          429.4735  ,   342.07922 ,   355.61087 ,   448.02408 ,\n",
              "          475.3109  ,   580.438   ,   539.29346 ,   598.2579  ,\n",
              "          257.03705 ,   171.5489  ,   299.5967  ,   449.7397  ,\n",
              "          497.76797 ,   406.94113 ,   347.6924  ,   313.9452  ,\n",
              "          372.48355 ,   476.1509  ,   604.5416  ,   853.5429  ,\n",
              "          887.05884 ,   754.58624 ,   430.09662 ,   257.8879  ,\n",
              "          141.97206 ,   223.5729  ,   264.68158 ,   375.96622 ,\n",
              "          431.52032 ,   620.5263  ,   658.49945 ,   574.9919  ,\n",
              "          475.60593 ,   347.30695 ,   266.55573 ,   381.80328 ,\n",
              "          357.4533  ,   514.00494 ,   662.372   ,   715.5348  ,\n",
              "          523.2213  ,   377.3914  ,   258.23953 ,   273.0441  ,\n",
              "          455.44482 ,   567.6755  ,   573.7625  ,   765.3934  ,\n",
              "          991.7596  ,   978.9584  ,   945.68445 ,   526.204   ,\n",
              "          176.8135  ,   195.14735 ,   322.57288 ,   390.20612 ,\n",
              "          482.43637 ,   642.5367  ,   689.83624 ,  1442.2927  ,\n",
              "         2025.9731  ,  2488.799   ,  2560.6682  ,  2477.689   ,\n",
              "         2500.6047  ,  2519.3381  ,  1566.8765  ,   732.9818  ,\n",
              "          530.7255  ,   567.19727 ,   830.28754 ,   879.2158  ,\n",
              "          904.2987  ,   463.62143 ,   395.90585 ,   360.92798 ,\n",
              "          362.015   ,   321.56293 ,   370.13736 ,   537.6231  ,\n",
              "          419.73843 ,   386.8126  ,   387.6964  ,   723.81537 ,\n",
              "          733.57465 ,   575.8043  ,   477.76617 ,   345.4457  ,\n",
              "          335.63522 ,   187.36891 ,   235.77557 ,   370.7959  ,\n",
              "          453.39096 ,   465.11212 ,   590.21155 ,   260.58145 ,\n",
              "          275.33853 ,   260.37292 ,   248.85953 ,   288.48984 ,\n",
              "          360.07233 ,   312.25574 ,   335.95236 ,   279.60574 ,\n",
              "          257.00806 ,   318.67874 ,   566.96    ,   845.82434 ,\n",
              "          854.6487  ,   913.391   ,   914.98444 ,  1002.2836  ,\n",
              "         1087.1881  ,  1111.4973  ,   616.8182  ,   550.8411  ,\n",
              "          468.08603 ,   454.15723 ,   474.864   ,   491.14288 ,\n",
              "          562.4889  ,   611.2431  ,   744.87915 ,   872.13416 ,\n",
              "          917.43414 ,   281.69638 ,   550.075   ,   808.3538  ,\n",
              "          498.5036  ,   180.73215 ,   261.78036 ,   339.83325 ,\n",
              "          321.5606  ,   473.7479  ,   662.8571  ,   649.93976 ,\n",
              "          363.22107 ,   259.81412 ,   415.21964 ,   435.19098 ,\n",
              "          578.03394 ,   785.8627  ,   832.4115  ,   582.7289  ,\n",
              "          435.6894  ,   302.25418 ,   293.96692 ,   398.37305 ,\n",
              "          243.9079  ,   200.67184 ,   254.47343 ,   240.4634  ,\n",
              "          259.7347  ,   301.17035 ,   384.1954  ,   455.59766 ,\n",
              "          480.13412 ,   256.97067 ,   268.10153 ,   238.4888  ,\n",
              "          214.94052 ,   297.92194 ,   196.82854 ,   188.27531 ,\n",
              "          230.32289 ,   184.47643 ,   288.11755 ,   333.17953 ,\n",
              "          357.26016 ,   476.6537  ,   440.09033 ,   268.91574 ,\n",
              "          270.95694 ,   171.08778 ,   101.4312  ,   154.30348 ,\n",
              "          141.77118 ,   136.10641 ,   115.42334 ,    96.02698 ,\n",
              "          109.45611 ,   190.11156 ,   192.90042 ,   149.6853  ,\n",
              "          194.61058 ,   251.23714 ,   210.54721 ,   160.34073 ,\n",
              "          200.34406 ,   186.8406  ,   155.50958 ,   131.79681 ,\n",
              "          162.66972 ,   168.66899 ,   212.96222 ,   336.56805 ,\n",
              "          774.5611  ,   930.7551  ,  1051.35    ,  1096.6752  ,\n",
              "         1214.0917  ,  1378.0067  ,  1356.6764  ,   688.5435  ,\n",
              "          386.53217 ,   215.31358 ,   341.37057 ,   317.3638  ,\n",
              "          322.87866 ,   165.81259 ,   217.12198 ,   289.68875 ,\n",
              "          309.77408 ,   234.50513 ,   289.22717 ,   365.96988 ,\n",
              "          259.93845 ,   242.86452 ,   376.4457  ,   397.56766 ,\n",
              "          264.50778 ,   322.7732  ,   357.12146 ,   318.90125 ,\n",
              "          429.25235 ,   494.2609  ,   387.608   ,   337.91013 ,\n",
              "          237.30975 ,   310.57318 ,   243.18869 ,   231.8847  ,\n",
              "          170.61717 ,   172.09616 ,   440.83698 ,   532.9997  ,\n",
              "          823.3141  ,  1069.3447  ,  1284.2036  ,  1528.5708  ,\n",
              "         1489.8442  ,  1105.2156  ,   640.56744 ,   157.4649  ,\n",
              "          200.36209 ,   230.12584 ,   404.71164 ,   370.49133 ,\n",
              "          491.3368  ,   402.99435 ,   366.42178 ,   443.1511  ,\n",
              "          333.0885  ,   291.7948  ,   425.31015 ,   475.07355 ,\n",
              "          583.03455 ,   450.31418 ,   371.62872 ,   110.15671 ,\n",
              "          153.17769 ,   304.38684 ,   225.8838  ,   156.23291 ,\n",
              "          308.4325  ,   330.80176 ,   374.56296 ,   296.5581  ,\n",
              "          298.7189  ,   185.10785 ,   179.2934  ,   348.39038 ,\n",
              "          434.78134 ,   504.5873  ,   566.00366 ,   675.2386  ,\n",
              "          616.38367 ,   511.69986 ,   234.73221 ,   173.24673 ,\n",
              "          280.37695 ,   271.6304  ,   536.3468  ,   772.5495  ,\n",
              "          981.0685  ,  1156.4723  ,  1329.6582  ,  1298.5986  ,\n",
              "         1310.7301  ,   594.33685 ,   277.94876 ,   181.78775 ,\n",
              "          264.02783 ,   363.92026 ,   399.9426  ,   151.55682 ,\n",
              "          298.73657 ,   686.05634 ,  1087.2172  ,  1015.37524 ,\n",
              "         1111.7155  ,  1294.163   ,  1417.6929  ,  1280.7026  ,\n",
              "          826.0904  ,   544.3487  ,   474.58517 ,   436.267   ,\n",
              "          790.4721  ,  1051.897   ,  1258.3727  ,  1185.2577  ,\n",
              "         1219.0703  ,  1655.5883  ,  2055.1028  ,  1815.9227  ,\n",
              "         1298.3082  ,   872.8194  ,   740.12616 ,   839.71924 ,\n",
              "         1006.8464  ,  1280.2343  ,  1162.16    ,  1222.7772  ,\n",
              "         1097.7148  ,   801.3015  ,  1542.8464  ,  1716.932   ,\n",
              "         1531.7313  ,   508.59613 ,   383.27728 ,   555.69183 ,\n",
              "          774.5951  ,   712.51263 ,   678.25214 ,   672.47    ,\n",
              "          604.96356 ,   472.02448 ,  1164.9835  ,  2282.866   ,\n",
              "         2850.9788  ,  3332.127   ,  3670.6648  ,  3546.8652  ,\n",
              "         3635.6206  ,  2648.2996  ,  1254.49    ,   724.8893  ,\n",
              "         1047.1235  ,  1272.4633  ,  1687.1655  ,  2166.8042  ,\n",
              "         2982.5562  ,  3481.0444  ,  3508.6902  ,  3336.1426  ,\n",
              "         3497.6687  ,  3472.3113  ,  4018.4045  ,  4124.6025  ,\n",
              "         5296.6333  ,  6136.0073  ,  5668.7617  ,  5171.209   ,\n",
              "         5355.916   ,  4397.0737  ,  3485.3486  ,  2636.8918  ,\n",
              "         4067.5742  ,  5170.669   ,  4796.325   ,  1719.6057  ,\n",
              "         1283.1033  ,  1123.5497  ,  2966.1956  ,  3933.4167  ,\n",
              "         3890.1948  ,  3468.0195  ,  3424.8328  ,  4101.3716  ,\n",
              "         4175.6953  ,  1391.7333  ,   967.3267  ,  2153.756   ,\n",
              "         2293.3123  ,  2065.656   ,  2537.4016  ,  4085.2888  ,\n",
              "         4068.0208  ,  3596.3298  ,  2809.3164  ,  3188.8982  ,\n",
              "         5130.0615  ,  6392.0205  ,  6232.2856  ,  6879.5874  ,\n",
              "         6638.1875  ,  6948.318   ,  7834.2446  ,  4937.221   ,\n",
              "         2720.9749  ,  1981.3424  ,  1696.0035  ,  2855.7168  ,\n",
              "         3538.589   ,  3424.9434  ,  3958.195   ,  3795.646   ,\n",
              "         3546.517   ,  4122.8857  ,  6218.57    ,  7777.788   ,\n",
              "         9558.549   ,  9926.897   ,  5359.8057  ,  3580.6746  ,\n",
              "         2189.8552  ,  2060.0542  ,  2915.494   ,  4996.232   ,\n",
              "         3956.2837  ,  4524.822   ,  3537.4785  ,  5348.0854  ,\n",
              "         5228.283   ,  6995.3667  ,  7141.153   ,  7036.676   ,\n",
              "         5165.4644  ,  2857.5015  ,  2241.9832  ,  2369.4558  ,\n",
              "         2038.0616  ,  2953.2375  ,  3060.2039  ,  2808.619   ,\n",
              "         3589.534   ,  5132.259   ,  5693.4277  ,  5811.046   ,\n",
              "         5038.2754  ,  2416.2524  ,  1619.0422  ,  3237.5845  ,\n",
              "         5092.838   ,  4615.424   ,  3471.7163  ,  3051.929   ,\n",
              "         2454.3958  ,  1021.19666 ,  1231.1414  ,  1118.975   ,\n",
              "         1348.282   ,  1180.5999  ,  1427.9385  ,  1106.0681  ,\n",
              "         1573.6552  ,  2858.7285  ,  3476.1772  ,  3703.8086  ,\n",
              "         3162.4426  ,  2723.013   ,  3501.6328  ,  4573.819   ,\n",
              "         6158.679   ,  8659.04    ,  9282.189   ,  8890.858   ,\n",
              "         7467.284   ,  5552.7734  ,  4283.7485  ,  3272.2346  ,\n",
              "         2116.5386  ,  3045.624   ,  4630.6177  ,  6305.6655  ,\n",
              "         4755.617   ,  2204.0828  ,  2041.8575  ,  2188.2178  ,\n",
              "         1779.673   ,  2038.1915  ,  1467.6433  ,  1708.302   ,\n",
              "         1719.3672  ,  2250.8337  ,  3409.5034  ,  4900.4     ,\n",
              "         6966.4087  ,  8550.596   , 10188.638   ], dtype=float32),\n",
              " 'mape': array([ 7.052689  ,  5.3035445 ,  3.8058448 ,  3.977402  ,  4.536908  ,\n",
              "         5.691557  ,  5.336071  ,  5.867694  ,  7.4834466 ,  7.571607  ,\n",
              "         9.559031  ,  9.898817  , 10.557704  , 10.746512  ,  8.476034  ,\n",
              "         3.117623  ,  2.0806465 ,  3.0713332 ,  3.868423  ,  3.925937  ,\n",
              "         2.6785183 ,  2.7656448 ,  3.6257427 ,  3.9515746 ,  3.2044978 ,\n",
              "         1.8353972 ,  1.6422079 ,  2.2028396 ,  2.3311517 ,  3.179815  ,\n",
              "         4.2972827 ,  4.1865687 ,  4.61297   ,  4.4657764 ,  3.7202795 ,\n",
              "         3.7712998 ,  4.4119115 ,  2.519827  ,  2.7933424 ,  2.5098157 ,\n",
              "         5.9607806 ,  2.0526795 ,  1.7138401 ,  1.5240273 ,  1.1709747 ,\n",
              "         0.8691311 ,  1.3038267 ,  1.1413144 ,  1.5803341 ,  2.1247    ,\n",
              "         2.5511293 ,  1.5417067 ,  2.4296916 ,  2.2754858 ,  2.9541607 ,\n",
              "         3.9730496 ,  7.4087524 ,  6.7973256 ,  6.6093116 ,  7.2494082 ,\n",
              "         5.0349193 ,  3.0137951 ,  2.8839936 ,  3.934374  ,  4.336508  ,\n",
              "         5.957102  ,  5.4476085 ,  6.6220007 ,  2.631433  ,  1.6477501 ,\n",
              "         3.019062  ,  4.639372  ,  5.416306  ,  4.217248  ,  3.5414767 ,\n",
              "         2.9455564 ,  4.043024  ,  3.9676104 ,  5.5822024 ,  8.675456  ,\n",
              "         9.35253   ,  7.8928766 ,  4.256127  ,  2.2042985 ,  1.3290251 ,\n",
              "         1.8270195 ,  2.3898573 ,  3.3336976 ,  4.0347543 ,  6.030022  ,\n",
              "         6.1946073 ,  5.3642697 ,  4.3363338 ,  2.993612  ,  2.334069  ,\n",
              "         3.2732077 ,  3.1418047 ,  4.3933654 ,  5.818764  ,  7.0682073 ,\n",
              "         4.891024  ,  3.57768   ,  2.0700407 ,  2.2860663 ,  3.126869  ,\n",
              "         4.7101803 ,  5.227658  ,  7.3555393 , 10.0682535 , 10.792821  ,\n",
              "        10.638242  ,  5.507332  ,  1.8440723 ,  1.8228527 ,  3.0595217 ,\n",
              "         4.2283    ,  4.8544793 ,  6.5428486 ,  7.855109  , 15.316285  ,\n",
              "        25.050339  , 35.152187  , 37.8898    , 39.110275  , 42.80697   ,\n",
              "        46.458244  , 28.369146  , 11.363944  ,  8.129794  ,  7.2520876 ,\n",
              "        12.814434  , 12.773188  , 13.068008  ,  6.0475283 ,  5.154836  ,\n",
              "         4.732693  ,  4.493994  ,  4.2279935 ,  4.6669316 ,  6.5254645 ,\n",
              "         4.672243  ,  5.7241883 ,  4.552532  , 10.463693  , 10.436816  ,\n",
              "         7.3979363 ,  6.562691  ,  3.9397087 ,  4.236255  ,  2.3268526 ,\n",
              "         2.929269  ,  4.413997  ,  5.6955633 ,  6.301456  ,  8.277047  ,\n",
              "         2.8629494 ,  3.7390451 ,  2.9844909 ,  3.04868   ,  3.1845522 ,\n",
              "         4.5771174 ,  3.5758138 ,  3.8869183 ,  3.4467778 ,  3.2312088 ,\n",
              "         3.7561762 ,  6.9797144 ,  9.213527  ,  8.169333  ,  7.9731264 ,\n",
              "         8.933132  , 10.470353  , 11.785197  , 12.508782  ,  6.6613398 ,\n",
              "         4.316418  ,  3.3882194 ,  3.6636088 ,  4.0393496 ,  4.464869  ,\n",
              "         5.6352997 ,  6.105343  ,  6.6912727 ,  8.477325  ,  9.486214  ,\n",
              "         2.3361993 ,  4.900569  ,  8.267236  ,  5.031254  ,  1.7109182 ,\n",
              "         2.0009534 ,  3.1523387 ,  3.09974   ,  4.537132  ,  6.7699842 ,\n",
              "         6.835314  ,  2.984999  ,  2.5701928 ,  3.503085  ,  3.7949123 ,\n",
              "         4.8510275 ,  7.433217  ,  8.055574  ,  5.3384423 ,  3.7809472 ,\n",
              "         2.3027244 ,  1.7806983 ,  3.87891   ,  2.2687008 ,  1.7311785 ,\n",
              "         2.4292269 ,  1.8265052 ,  2.4027362 ,  2.8608832 ,  3.7992637 ,\n",
              "         4.5098143 ,  4.942005  ,  2.318157  ,  2.5412006 ,  2.3307664 ,\n",
              "         1.9270586 ,  2.61107   ,  1.9385893 ,  1.6678472 ,  2.031846  ,\n",
              "         1.5228434 ,  2.5656943 ,  3.030312  ,  3.5231833 ,  4.8236313 ,\n",
              "         4.600306  ,  2.551396  ,  2.8545206 ,  1.6454892 ,  1.0194433 ,\n",
              "         1.5267826 ,  1.3727895 ,  1.1608679 ,  0.9414045 ,  0.86182666,\n",
              "         0.699849  ,  1.3334273 ,  1.5369254 ,  1.3687936 ,  1.9621631 ,\n",
              "         2.36246   ,  2.041009  ,  1.4922495 ,  1.8422978 ,  1.8507408 ,\n",
              "         1.3888555 ,  1.172356  ,  1.5335671 ,  1.475316  ,  1.8979164 ,\n",
              "         3.0610275 ,  5.4606285 ,  6.8416605 ,  7.3401394 ,  8.177404  ,\n",
              "         9.694767  , 11.545916  , 11.846546  ,  5.7851195 ,  2.9212425 ,\n",
              "         1.6222041 ,  2.689024  ,  2.4204793 ,  2.425791  ,  1.2521842 ,\n",
              "         1.7235461 ,  2.154691  ,  2.2029285 ,  1.4775212 ,  2.0177631 ,\n",
              "         2.356255  ,  1.7874813 ,  1.8764926 ,  2.4611278 ,  2.3573534 ,\n",
              "         1.8029895 ,  1.8853728 ,  2.66281   ,  1.7815845 ,  3.2974844 ,\n",
              "         3.7005956 ,  2.6996446 ,  2.1820362 ,  1.9051818 ,  2.4639518 ,\n",
              "         1.8253809 ,  1.7893682 ,  1.2544689 ,  1.0966823 ,  3.1413026 ,\n",
              "         3.9648836 ,  6.5029783 ,  8.446736  , 10.957432  , 13.842353  ,\n",
              "        14.215411  , 10.507813  ,  6.084848  ,  1.1346637 ,  1.4982214 ,\n",
              "         1.6956958 ,  3.4139328 ,  3.0075452 ,  4.214278  ,  3.2616258 ,\n",
              "         3.181733  ,  3.7712705 ,  2.8283122 ,  2.2410126 ,  3.139735  ,\n",
              "         3.8612742 ,  4.6893888 ,  3.5881367 ,  3.369959  ,  0.8824258 ,\n",
              "         1.2202294 ,  2.4950898 ,  2.002048  ,  1.2569308 ,  2.4305446 ,\n",
              "         2.7200375 ,  3.0231857 ,  2.4954062 ,  2.5201705 ,  1.4935234 ,\n",
              "         1.4792387 ,  2.7632143 ,  3.0536408 ,  3.4603872 ,  4.4746437 ,\n",
              "         5.801941  ,  5.316978  ,  4.240938  ,  1.5548942 ,  1.4285904 ,\n",
              "         2.1123252 ,  1.9198895 ,  2.8335247 ,  4.050165  ,  5.600846  ,\n",
              "         7.746716  ,  9.737708  ,  9.642428  ,  9.797207  ,  4.207662  ,\n",
              "         1.7230753 ,  1.0594945 ,  1.8366052 ,  2.1194446 ,  2.3954012 ,\n",
              "         0.98340064,  1.4901981 ,  3.186721  ,  5.3070707 ,  4.8628507 ,\n",
              "         5.745672  ,  7.688742  ,  8.649646  ,  8.17166   ,  4.6304812 ,\n",
              "         2.8322122 ,  2.3698466 ,  1.9937532 ,  4.2628655 ,  5.6113815 ,\n",
              "         5.9501576 ,  5.123833  ,  5.6686616 ,  8.172893  , 10.749626  ,\n",
              "         9.70283   ,  6.885188  ,  4.33496   ,  3.5143714 ,  3.7028055 ,\n",
              "         4.3069873 ,  5.971064  ,  5.1121783 ,  5.534357  ,  5.102288  ,\n",
              "         3.577637  ,  7.5895824 ,  8.792554  ,  7.820977  ,  2.3054986 ,\n",
              "         1.476372  ,  2.433465  ,  3.6861603 ,  2.8965008 ,  3.0798802 ,\n",
              "         2.836196  ,  2.4781475 ,  2.0274048 ,  3.5505686 ,  7.9095783 ,\n",
              "        11.084113  , 12.846698  , 14.24478   , 14.399505  , 15.399994  ,\n",
              "        11.303929  ,  5.0778193 ,  2.3714159 ,  3.537684  ,  4.3486137 ,\n",
              "         4.664549  ,  6.6243253 ,  9.601216  , 11.648564  , 11.843201  ,\n",
              "         9.957927  ,  9.526582  ,  9.642807  , 11.362373  , 10.526575  ,\n",
              "        12.0975275 , 14.187428  , 11.913646  , 11.785157  , 12.478377  ,\n",
              "         9.488855  ,  7.937523  ,  5.7390146 ,  9.610256  , 13.4367895 ,\n",
              "        13.049868  ,  4.242092  ,  2.8424208 ,  2.3672419 ,  6.6383853 ,\n",
              "         9.211878  ,  9.501557  ,  9.218862  ,  9.787805  , 11.893122  ,\n",
              "        12.534849  ,  3.2952738 ,  2.3817446 ,  5.2725263 ,  5.896959  ,\n",
              "         5.033988  ,  6.820179  , 11.141135  , 10.938428  ,  8.553658  ,\n",
              "         6.299513  ,  7.0538216 , 11.171179  , 13.162996  , 11.892428  ,\n",
              "        12.847753  , 13.168432  , 13.8934555 , 16.515783  , 10.1963    ,\n",
              "         5.2361326 ,  3.186021  ,  2.6415842 ,  3.8960538 ,  5.025895  ,\n",
              "         5.2971396 ,  6.304006  ,  6.544303  ,  6.4715757 ,  7.6933956 ,\n",
              "        11.00163   , 14.472146  , 19.000505  , 20.74962   , 10.695221  ,\n",
              "         5.894092  ,  4.0607896 ,  3.6010466 ,  5.281224  ,  9.876131  ,\n",
              "         7.4421396 ,  8.015317  ,  5.3219976 ,  7.5915456 ,  7.6504164 ,\n",
              "        10.870918  , 11.338646  , 11.254442  ,  8.412511  ,  4.124669  ,\n",
              "         2.9456263 ,  2.8038447 ,  3.2292764 ,  4.826786  ,  3.7801464 ,\n",
              "         3.440072  ,  4.838887  ,  7.739576  ,  9.23383   ,  9.583914  ,\n",
              "         8.815958  ,  3.5227635 ,  2.5101802 ,  4.8411045 ,  8.376608  ,\n",
              "         7.387825  ,  5.6603928 ,  5.0846553 ,  4.006201  ,  1.3019562 ,\n",
              "         1.8201945 ,  1.5737504 ,  2.1270368 ,  1.5363538 ,  2.067606  ,\n",
              "         1.6654727 ,  1.7781817 ,  3.7954178 ,  5.0908422 ,  5.743947  ,\n",
              "         4.722102  ,  3.9722497 ,  4.8177185 ,  6.5643845 ,  9.211702  ,\n",
              "        14.110936  , 15.978119  , 15.932545  , 13.104817  ,  9.651625  ,\n",
              "         7.128827  ,  5.3820004 ,  3.0063097 ,  4.9028945 ,  7.4955463 ,\n",
              "        10.999656  ,  8.224918  ,  3.208473  ,  3.142732  ,  3.4336705 ,\n",
              "         2.3903835 ,  2.565005  ,  2.0732782 ,  2.3245883 ,  2.7178445 ,\n",
              "         3.406226  ,  4.725765  ,  7.647277  , 11.47921   , 14.847983  ,\n",
              "        18.74512   ], dtype=float32),\n",
              " 'mase': 2.2595217}"
            ]
          },
          "metadata": {},
          "execution_count": 60
        }
      ]
    },
    {
      "cell_type": "markdown",
      "source": [
        "#Make the evaluation function work for larger horizons"
      ],
      "metadata": {
        "id": "5-t4KXXioid7"
      }
    },
    {
      "cell_type": "code",
      "source": [
        "def evaluate_preds(y_true, y_pred):\n",
        "  # Make sure float32 (for metric calculations)\n",
        "  y_true = tf.cast(y_true, dtype=tf.float32)\n",
        "  y_pred = tf.cast(y_pred, dtype=tf.float32)\n",
        "\n",
        "  # Calculate various metrics\n",
        "  mae = tf.keras.metrics.mean_absolute_error(y_true, y_pred)\n",
        "  mse = tf.keras.metrics.mean_squared_error(y_true, y_pred)\n",
        "  rmse = tf.sqrt(mse)\n",
        "  mape = tf.keras.metrics.mean_absolute_percentage_error(y_true, y_pred)\n",
        "  mase = mean_absolute_scaled_error(y_true, y_pred)\n",
        "\n",
        "  # Account for different sized metrics (for longer horizons, reduce to single number)\n",
        "  if mae.ndim > 0: # if mae isn't already a scalar, reduce it to one by aggregating tensors to mean\n",
        "    mae = tf.reduce_mean(mae)\n",
        "    mse = tf.reduce_mean(mse)\n",
        "    rmse = tf.reduce_mean(rmse)\n",
        "    mape = tf.reduce_mean(mape)\n",
        "    mase = tf.reduce_mean(mase)\n",
        "\n",
        "  return {\"mae\": mae.numpy(),\n",
        "          \"mse\": mse.numpy(),\n",
        "          \"rmse\": rmse.numpy(),\n",
        "          \"mape\": mape.numpy(),\n",
        "          \"mase\": mase.numpy()}"
      ],
      "metadata": {
        "id": "5xnq1XzEuxqK"
      },
      "execution_count": 61,
      "outputs": []
    },
    {
      "cell_type": "code",
      "source": [
        "# Get model_3 results aggregated to single values\n",
        "model_3_results = evaluate_preds(y_true=tf.squeeze(test_labels),\n",
        "                                 y_pred=model_3_preds)\n",
        "model_3_results"
      ],
      "metadata": {
        "colab": {
          "base_uri": "https://localhost:8080/"
        },
        "id": "QUKVvJIru1jN",
        "outputId": "d576b18b-645e-4528-d853-b995d29e60c3"
      },
      "execution_count": 62,
      "outputs": [
        {
          "output_type": "execute_result",
          "data": {
            "text/plain": [
              "{'mae': 1269.7909,\n",
              " 'mse': 5565072.5,\n",
              " 'rmse': 1450.7152,\n",
              " 'mape': 5.6804733,\n",
              " 'mase': 2.2595217}"
            ]
          },
          "metadata": {},
          "execution_count": 62
        }
      ]
    },
    {
      "cell_type": "markdown",
      "source": [
        "**visualize the  mutli-dimensionalprediction evaluation metrics**"
      ],
      "metadata": {
        "id": "n6OjCQK8u52D"
      }
    },
    {
      "cell_type": "code",
      "source": [
        "offset = 400\n",
        "plt.figure(figsize=(10, 7))\n",
        "plot_time_series(timesteps=X_test[-len(test_windows):], values=test_labels[:, 0], start=offset,format=\"-\", label=\"Test_data\")\n",
        "# Checking the shape of model_3_preds results in [n_test_samples, HORIZON] (this will screw up the plot)\n",
        "plot_time_series(timesteps=X_test[-len(test_windows):], values=model_3_preds, start=offset, label=\"model_3_preds\")"
      ],
      "metadata": {
        "colab": {
          "base_uri": "https://localhost:8080/",
          "height": 619
        },
        "id": "qUDrqDodyynD",
        "outputId": "e1ed075b-838b-42da-b30c-b5dcaebcf04f"
      },
      "execution_count": 63,
      "outputs": [
        {
          "output_type": "display_data",
          "data": {
            "text/plain": [
              "<Figure size 1000x700 with 1 Axes>"
            ],
            "image/png": "[encoded data removed]"
          },
          "metadata": {}
        }
      ]
    },
    {
      "cell_type": "markdown",
      "source": [
        "#Comparing the best performing model with visualising"
      ],
      "metadata": {
        "id": "EWO8R-0czCVu"
      }
    },
    {
      "cell_type": "code",
      "source": [
        "pd.DataFrame({\"naive\": naive_results[\"mae\"],\n",
        "              \"horizon_1_window_7\": model_1_results[\"mae\"],\n",
        "              \"horizon_1_window_30\": model_2_results[\"mae\"],\n",
        "              \"horizon_7_window_30\": model_3_results[\"mae\"]}, index=[\"mae\"]).plot(figsize=(10, 7), kind=\"bar\");"
      ],
      "metadata": {
        "colab": {
          "base_uri": "https://localhost:8080/",
          "height": 616
        },
        "id": "8n-J8ECP1eOz",
        "outputId": "a58b3a68-c8a1-44c4-c246-dbf6fed4a1eb"
      },
      "execution_count": 64,
      "outputs": [
        {
          "output_type": "display_data",
          "data": {
            "text/plain": [
              "<Figure size 1000x700 with 1 Axes>"
            ],
            "image/png": "[encoded data removed]"
          },
          "metadata": {}
        }
      ]
    },
    {
      "cell_type": "markdown",
      "source": [
        "#Model 4: Conv1D"
      ],
      "metadata": {
        "id": "34Yc4mTN1iHK"
      }
    },
    {
      "cell_type": "code",
      "source": [
        "HORIZON = 1 # predict next day\n",
        "WINDOW_SIZE = 7 # use previous week worth of data\n",
        ""
      ],
      "metadata": {
        "id": "nVz3sH3f5Mb2"
      },
      "execution_count": 65,
      "outputs": []
    },
    {
      "cell_type": "code",
      "source": [
        "# Create windowed dataset\n",
        "full_windows, full_labels = make_windows(prices, window_size=WINDOW_SIZE, horizon=HORIZON)\n",
        "len(full_windows), len(full_labels)\n",
        ""
      ],
      "metadata": {
        "colab": {
          "base_uri": "https://localhost:8080/"
        },
        "id": "KaSoyXNq5QcJ",
        "outputId": "3e6b109d-27bd-476f-dfa2-70b0a0b665ba"
      },
      "execution_count": 66,
      "outputs": [
        {
          "output_type": "execute_result",
          "data": {
            "text/plain": [
              "(2780, 2780)"
            ]
          },
          "metadata": {},
          "execution_count": 66
        }
      ]
    },
    {
      "cell_type": "code",
      "source": [
        "# Create train/test splits\n",
        "train_windows, test_windows, train_labels, test_labels = make_train_test_splits(full_windows, full_labels)\n",
        "len(train_windows), len(test_windows), len(train_labels), len(test_labels)\n",
        ""
      ],
      "metadata": {
        "colab": {
          "base_uri": "https://localhost:8080/"
        },
        "id": "45scr1QF5Tji",
        "outputId": "b0b868a0-d0c1-4f24-d088-ef390048bb0f"
      },
      "execution_count": 67,
      "outputs": [
        {
          "output_type": "execute_result",
          "data": {
            "text/plain": [
              "(2224, 556, 2224, 556)"
            ]
          },
          "metadata": {},
          "execution_count": 67
        }
      ]
    },
    {
      "cell_type": "code",
      "source": [
        "# Check data sample shapes\n",
        "train_windows[0].shape # returns (WINDOW_SIZE, )"
      ],
      "metadata": {
        "colab": {
          "base_uri": "https://localhost:8080/"
        },
        "id": "HgzhrUpc5WWM",
        "outputId": "5ca31f33-d301-418b-e231-c9859c85a8f9"
      },
      "execution_count": 68,
      "outputs": [
        {
          "output_type": "execute_result",
          "data": {
            "text/plain": [
              "(7,)"
            ]
          },
          "metadata": {},
          "execution_count": 68
        }
      ]
    },
    {
      "cell_type": "markdown",
      "source": [
        "**The Conv1D layer in TensorFlow takes an input of: (batch_size, timesteps, input_dim).**"
      ],
      "metadata": {
        "id": "GAtEN6k85Z32"
      }
    },
    {
      "cell_type": "code",
      "source": [
        "# Before we pass our data to the Conv1D layer, we have to reshape it in order to make sure it works\n",
        "x = tf.constant(train_windows[0])\n",
        "expand_dims_layer = layers.Lambda(lambda x: tf.expand_dims(x, axis=1)) # add an extra dimension for timesteps\n",
        "print(f\"Original shape: {x.shape}\") # (WINDOW_SIZE)\n",
        "print(f\"Expanded shape: {expand_dims_layer(x).shape}\") # (WINDOW_SIZE, input_dim)\n",
        "print(f\"Original values with expanded shape:\\n {expand_dims_layer(x)}\")"
      ],
      "metadata": {
        "colab": {
          "base_uri": "https://localhost:8080/"
        },
        "id": "tm9JNQVi5oMH",
        "outputId": "0c8226ac-51a3-4cd2-db39-a322dab0791a"
      },
      "execution_count": 69,
      "outputs": [
        {
          "output_type": "stream",
          "name": "stdout",
          "text": [
            "Original shape: (7,)\n",
            "Expanded shape: (7, 1)\n",
            "Original values with expanded shape:\n",
            " [[123.65499]\n",
            " [125.455  ]\n",
            " [108.58483]\n",
            " [118.67466]\n",
            " [121.33866]\n",
            " [120.65533]\n",
            " [121.795  ]]\n"
          ]
        }
      ]
    },
    {
      "cell_type": "code",
      "source": [
        "tf.random.set_seed(42)\n",
        "\n",
        "# Create model\n",
        "model_4 = tf.keras.Sequential([\n",
        "  # Create Lambda layer to reshape inputs, without this layer, the model will error\n",
        "  layers.Lambda(lambda x: tf.expand_dims(x, axis=1)), # resize the inputs to adjust for window size / Conv1D 3D input requirements\n",
        "  layers.Conv1D(filters=128, kernel_size=5, padding=\"causal\", activation=\"relu\"),\n",
        "  layers.Dense(HORIZON)\n",
        "], name=\"model_4_conv1D\")\n",
        "\n",
        "# Compile model\n",
        "model_4.compile(loss=\"mae\",\n",
        "                optimizer=tf.keras.optimizers.Adam())\n",
        "\n",
        "# Fit model\n",
        "model_4.fit(train_windows,\n",
        "            train_labels,\n",
        "            batch_size=128,\n",
        "            epochs=100,\n",
        "            verbose=0,\n",
        "            validation_data=(test_windows, test_labels),\n",
        "            callbacks=[create_model_checkpoint(model_name=model_4.name)])\n",
        ""
      ],
      "metadata": {
        "id": "XqEfkqit5skw",
        "colab": {
          "base_uri": "https://localhost:8080/"
        },
        "outputId": "a955c239-b9c0-4126-d02b-1bf8dbfeb1ef"
      },
      "execution_count": 70,
      "outputs": [
        {
          "output_type": "stream",
          "name": "stderr",
          "text": [
            "WARNING:absl:Found untraced functions such as _jit_compiled_convolution_op, _update_step_xla while saving (showing 2 of 2). These functions will not be directly callable after loading.\n",
            "WARNING:absl:Found untraced functions such as _jit_compiled_convolution_op, _update_step_xla while saving (showing 2 of 2). These functions will not be directly callable after loading.\n",
            "WARNING:absl:Found untraced functions such as _jit_compiled_convolution_op, _update_step_xla while saving (showing 2 of 2). These functions will not be directly callable after loading.\n",
            "WARNING:absl:Found untraced functions such as _jit_compiled_convolution_op, _update_step_xla while saving (showing 2 of 2). These functions will not be directly callable after loading.\n",
            "WARNING:absl:Found untraced functions such as _jit_compiled_convolution_op, _update_step_xla while saving (showing 2 of 2). These functions will not be directly callable after loading.\n",
            "WARNING:absl:Found untraced functions such as _jit_compiled_convolution_op, _update_step_xla while saving (showing 2 of 2). These functions will not be directly callable after loading.\n",
            "WARNING:absl:Found untraced functions such as _jit_compiled_convolution_op, _update_step_xla while saving (showing 2 of 2). These functions will not be directly callable after loading.\n",
            "WARNING:absl:Found untraced functions such as _jit_compiled_convolution_op, _update_step_xla while saving (showing 2 of 2). These functions will not be directly callable after loading.\n",
            "WARNING:absl:Found untraced functions such as _jit_compiled_convolution_op, _update_step_xla while saving (showing 2 of 2). These functions will not be directly callable after loading.\n",
            "WARNING:absl:Found untraced functions such as _jit_compiled_convolution_op, _update_step_xla while saving (showing 2 of 2). These functions will not be directly callable after loading.\n",
            "WARNING:absl:Found untraced functions such as _jit_compiled_convolution_op, _update_step_xla while saving (showing 2 of 2). These functions will not be directly callable after loading.\n",
            "WARNING:absl:Found untraced functions such as _jit_compiled_convolution_op, _update_step_xla while saving (showing 2 of 2). These functions will not be directly callable after loading.\n",
            "WARNING:absl:Found untraced functions such as _jit_compiled_convolution_op, _update_step_xla while saving (showing 2 of 2). These functions will not be directly callable after loading.\n",
            "WARNING:absl:Found untraced functions such as _jit_compiled_convolution_op, _update_step_xla while saving (showing 2 of 2). These functions will not be directly callable after loading.\n",
            "WARNING:absl:Found untraced functions such as _jit_compiled_convolution_op, _update_step_xla while saving (showing 2 of 2). These functions will not be directly callable after loading.\n",
            "WARNING:absl:Found untraced functions such as _jit_compiled_convolution_op, _update_step_xla while saving (showing 2 of 2). These functions will not be directly callable after loading.\n",
            "WARNING:absl:Found untraced functions such as _jit_compiled_convolution_op, _update_step_xla while saving (showing 2 of 2). These functions will not be directly callable after loading.\n",
            "WARNING:absl:Found untraced functions such as _jit_compiled_convolution_op, _update_step_xla while saving (showing 2 of 2). These functions will not be directly callable after loading.\n",
            "WARNING:absl:Found untraced functions such as _jit_compiled_convolution_op, _update_step_xla while saving (showing 2 of 2). These functions will not be directly callable after loading.\n",
            "WARNING:absl:Found untraced functions such as _jit_compiled_convolution_op, _update_step_xla while saving (showing 2 of 2). These functions will not be directly callable after loading.\n",
            "WARNING:absl:Found untraced functions such as _jit_compiled_convolution_op, _update_step_xla while saving (showing 2 of 2). These functions will not be directly callable after loading.\n",
            "WARNING:absl:Found untraced functions such as _jit_compiled_convolution_op, _update_step_xla while saving (showing 2 of 2). These functions will not be directly callable after loading.\n",
            "WARNING:absl:Found untraced functions such as _jit_compiled_convolution_op, _update_step_xla while saving (showing 2 of 2). These functions will not be directly callable after loading.\n",
            "WARNING:absl:Found untraced functions such as _jit_compiled_convolution_op, _update_step_xla while saving (showing 2 of 2). These functions will not be directly callable after loading.\n",
            "WARNING:absl:Found untraced functions such as _jit_compiled_convolution_op, _update_step_xla while saving (showing 2 of 2). These functions will not be directly callable after loading.\n",
            "WARNING:absl:Found untraced functions such as _jit_compiled_convolution_op, _update_step_xla while saving (showing 2 of 2). These functions will not be directly callable after loading.\n",
            "WARNING:absl:Found untraced functions such as _jit_compiled_convolution_op, _update_step_xla while saving (showing 2 of 2). These functions will not be directly callable after loading.\n",
            "WARNING:absl:Found untraced functions such as _jit_compiled_convolution_op, _update_step_xla while saving (showing 2 of 2). These functions will not be directly callable after loading.\n",
            "WARNING:absl:Found untraced functions such as _jit_compiled_convolution_op, _update_step_xla while saving (showing 2 of 2). These functions will not be directly callable after loading.\n",
            "WARNING:absl:Found untraced functions such as _jit_compiled_convolution_op, _update_step_xla while saving (showing 2 of 2). These functions will not be directly callable after loading.\n",
            "WARNING:absl:Found untraced functions such as _jit_compiled_convolution_op, _update_step_xla while saving (showing 2 of 2). These functions will not be directly callable after loading.\n",
            "WARNING:absl:Found untraced functions such as _jit_compiled_convolution_op, _update_step_xla while saving (showing 2 of 2). These functions will not be directly callable after loading.\n",
            "WARNING:absl:Found untraced functions such as _jit_compiled_convolution_op, _update_step_xla while saving (showing 2 of 2). These functions will not be directly callable after loading.\n",
            "WARNING:absl:Found untraced functions such as _jit_compiled_convolution_op, _update_step_xla while saving (showing 2 of 2). These functions will not be directly callable after loading.\n",
            "WARNING:absl:Found untraced functions such as _jit_compiled_convolution_op, _update_step_xla while saving (showing 2 of 2). These functions will not be directly callable after loading.\n",
            "WARNING:absl:Found untraced functions such as _jit_compiled_convolution_op, _update_step_xla while saving (showing 2 of 2). These functions will not be directly callable after loading.\n",
            "WARNING:absl:Found untraced functions such as _jit_compiled_convolution_op, _update_step_xla while saving (showing 2 of 2). These functions will not be directly callable after loading.\n",
            "WARNING:absl:Found untraced functions such as _jit_compiled_convolution_op, _update_step_xla while saving (showing 2 of 2). These functions will not be directly callable after loading.\n",
            "WARNING:absl:Found untraced functions such as _jit_compiled_convolution_op, _update_step_xla while saving (showing 2 of 2). These functions will not be directly callable after loading.\n",
            "WARNING:absl:Found untraced functions such as _jit_compiled_convolution_op, _update_step_xla while saving (showing 2 of 2). These functions will not be directly callable after loading.\n",
            "WARNING:absl:Found untraced functions such as _jit_compiled_convolution_op, _update_step_xla while saving (showing 2 of 2). These functions will not be directly callable after loading.\n",
            "WARNING:absl:Found untraced functions such as _jit_compiled_convolution_op, _update_step_xla while saving (showing 2 of 2). These functions will not be directly callable after loading.\n",
            "WARNING:absl:Found untraced functions such as _jit_compiled_convolution_op, _update_step_xla while saving (showing 2 of 2). These functions will not be directly callable after loading.\n",
            "WARNING:absl:Found untraced functions such as _jit_compiled_convolution_op, _update_step_xla while saving (showing 2 of 2). These functions will not be directly callable after loading.\n",
            "WARNING:absl:Found untraced functions such as _jit_compiled_convolution_op, _update_step_xla while saving (showing 2 of 2). These functions will not be directly callable after loading.\n"
          ]
        },
        {
          "output_type": "execute_result",
          "data": {
            "text/plain": [
              "<keras.callbacks.History at 0x7e553ad136d0>"
            ]
          },
          "metadata": {},
          "execution_count": 70
        }
      ]
    },
    {
      "cell_type": "code",
      "source": [
        "model_4.summary()\n",
        ""
      ],
      "metadata": {
        "colab": {
          "base_uri": "https://localhost:8080/"
        },
        "id": "KegmZGpceuW0",
        "outputId": "51755c97-928f-416d-b0b2-37ecf251ad97"
      },
      "execution_count": 71,
      "outputs": [
        {
          "output_type": "stream",
          "name": "stdout",
          "text": [
            "Model: \"model_4_conv1D\"\n",
            "_________________________________________________________________\n",
            " Layer (type)                Output Shape              Param #   \n",
            "=================================================================\n",
            " lambda_1 (Lambda)           (None, 1, 7)              0         \n",
            "                                                                 \n",
            " conv1d (Conv1D)             (None, 1, 128)            4608      \n",
            "                                                                 \n",
            " dense_6 (Dense)             (None, 1, 1)              129       \n",
            "                                                                 \n",
            "=================================================================\n",
            "Total params: 4,737\n",
            "Trainable params: 4,737\n",
            "Non-trainable params: 0\n",
            "_________________________________________________________________\n"
          ]
        }
      ]
    },
    {
      "cell_type": "code",
      "source": [
        "model_3.summary()"
      ],
      "metadata": {
        "colab": {
          "base_uri": "https://localhost:8080/"
        },
        "id": "f80EtWSDe_as",
        "outputId": "01cd1b6a-5a2b-45e3-b849-bf32beab4f11"
      },
      "execution_count": 72,
      "outputs": [
        {
          "output_type": "stream",
          "name": "stdout",
          "text": [
            "Model: \"model_3_dense\"\n",
            "_________________________________________________________________\n",
            " Layer (type)                Output Shape              Param #   \n",
            "=================================================================\n",
            " dense_4 (Dense)             (None, 128)               3968      \n",
            "                                                                 \n",
            " dense_5 (Dense)             (None, 7)                 903       \n",
            "                                                                 \n",
            "=================================================================\n",
            "Total params: 4,871\n",
            "Trainable params: 4,871\n",
            "Non-trainable params: 0\n",
            "_________________________________________________________________\n"
          ]
        }
      ]
    },
    {
      "cell_type": "code",
      "source": [
        "model_1.summary()"
      ],
      "metadata": {
        "colab": {
          "base_uri": "https://localhost:8080/"
        },
        "id": "798IhOYDfEUQ",
        "outputId": "943ba98f-48a7-4df6-fcf0-59e1548b01b0"
      },
      "execution_count": 73,
      "outputs": [
        {
          "output_type": "stream",
          "name": "stdout",
          "text": [
            "Model: \"model_1_dense\"\n",
            "_________________________________________________________________\n",
            " Layer (type)                Output Shape              Param #   \n",
            "=================================================================\n",
            " dense (Dense)               (None, 128)               1024      \n",
            "                                                                 \n",
            " dense_1 (Dense)             (None, 1)                 129       \n",
            "                                                                 \n",
            "=================================================================\n",
            "Total params: 1,153\n",
            "Trainable params: 1,153\n",
            "Non-trainable params: 0\n",
            "_________________________________________________________________\n"
          ]
        }
      ]
    },
    {
      "cell_type": "code",
      "source": [
        "model_2.summary()"
      ],
      "metadata": {
        "colab": {
          "base_uri": "https://localhost:8080/"
        },
        "id": "NbWVZHpafWfI",
        "outputId": "7b3f3bcb-66a8-47ee-dda0-5b236607a3a8"
      },
      "execution_count": 74,
      "outputs": [
        {
          "output_type": "stream",
          "name": "stdout",
          "text": [
            "Model: \"model_2_dense\"\n",
            "_________________________________________________________________\n",
            " Layer (type)                Output Shape              Param #   \n",
            "=================================================================\n",
            " dense_2 (Dense)             (None, 128)               3968      \n",
            "                                                                 \n",
            " dense_3 (Dense)             (None, 1)                 129       \n",
            "                                                                 \n",
            "=================================================================\n",
            "Total params: 4,097\n",
            "Trainable params: 4,097\n",
            "Non-trainable params: 0\n",
            "_________________________________________________________________\n"
          ]
        }
      ]
    },
    {
      "cell_type": "code",
      "source": [
        "#Evaluate the model\n",
        "\n",
        "# Load in best performing Conv1D model and evaluate it on the test data\n",
        "model_4 = tf.keras.models.load_model(\"model_experiments/model_4_conv1D\")\n",
        "model_4.evaluate(test_windows, test_labels)"
      ],
      "metadata": {
        "colab": {
          "base_uri": "https://localhost:8080/"
        },
        "id": "fBvu79JrfYpM",
        "outputId": "c115cbf0-311f-4fba-e915-95c46bdd841b"
      },
      "execution_count": 75,
      "outputs": [
        {
          "output_type": "stream",
          "name": "stdout",
          "text": [
            "18/18 [==============================] - 0s 4ms/step - loss: 575.3294\n"
          ]
        },
        {
          "output_type": "execute_result",
          "data": {
            "text/plain": [
              "575.3294067382812"
            ]
          },
          "metadata": {},
          "execution_count": 75
        }
      ]
    },
    {
      "cell_type": "code",
      "source": [
        "# Make predictions\n",
        "model_4_preds = make_preds(model_4, test_windows)\n",
        "model_4_preds[:10]"
      ],
      "metadata": {
        "colab": {
          "base_uri": "https://localhost:8080/"
        },
        "id": "txRQe2f6fqcp",
        "outputId": "738b7919-ef6a-4967-b429-cf3f382e67ae"
      },
      "execution_count": 76,
      "outputs": [
        {
          "output_type": "stream",
          "name": "stdout",
          "text": [
            "18/18 [==============================] - 0s 2ms/step\n"
          ]
        },
        {
          "output_type": "execute_result",
          "data": {
            "text/plain": [
              "<tf.Tensor: shape=(10,), dtype=float32, numpy=\n",
              "array([8899.144, 8768.865, 8985.364, 8808.793, 8721.623, 8719.351,\n",
              "       8700.255, 8524.845, 8451.818, 8513.455], dtype=float32)>"
            ]
          },
          "metadata": {},
          "execution_count": 76
        }
      ]
    },
    {
      "cell_type": "code",
      "source": [
        "# Evaluate predictions\n",
        "model_4_results = evaluate_preds(y_true=tf.squeeze(test_labels),\n",
        "                                 y_pred=model_4_preds)\n",
        "model_4_results\n",
        ""
      ],
      "metadata": {
        "colab": {
          "base_uri": "https://localhost:8080/"
        },
        "id": "oG8TGrSpfwPw",
        "outputId": "377b1c4f-58bc-48ce-adfd-daa34fc048ed"
      },
      "execution_count": 77,
      "outputs": [
        {
          "output_type": "execute_result",
          "data": {
            "text/plain": [
              "{'mae': 575.3294,\n",
              " 'mse': 1203719.4,\n",
              " 'rmse': 1097.1415,\n",
              " 'mape': 2.58376,\n",
              " 'mase': 1.0106944}"
            ]
          },
          "metadata": {},
          "execution_count": 77
        }
      ]
    },
    {
      "cell_type": "markdown",
      "source": [
        "#Model 5: RNN (LSTM)"
      ],
      "metadata": {
        "id": "ZqKKNVPBf37R"
      }
    },
    {
      "cell_type": "code",
      "source": [
        "tf.random.set_seed(42)\n",
        "\n",
        "# Let's build an LSTM model with the Functional API\n",
        "inputs = layers.Input(shape=(WINDOW_SIZE))\n",
        "x = layers.Lambda(lambda x: tf.expand_dims(x, axis=1))(inputs) # expand input dimension to be compatible with LSTM\n",
        "# print(x.shape)\n",
        "# x = layers.LSTM(128, activation=\"relu\", return_sequences=True)(x) # this layer will error if the inputs are not the right shape\n",
        "x = layers.LSTM(128, activation=\"relu\")(x) # using the tanh loss function results in a massive error\n",
        "# print(x.shape)\n",
        "# Add another optional dense layer (you could add more of these to see if they improve model performance)\n",
        "# x = layers.Dense(32, activation=\"relu\")(x)\n",
        "output = layers.Dense(HORIZON)(x)\n",
        "model_5 = tf.keras.Model(inputs=inputs, outputs=output, name=\"model_5_lstm\")\n",
        "\n",
        "# Compile model\n",
        "model_5.compile(loss=\"mae\",\n",
        "                optimizer=tf.keras.optimizers.Adam())\n",
        "\n",
        "# Seems when saving the model several warnings are appearing: https://github.com/tensorflow/tensorflow/issues/47554\n",
        "model_5.fit(train_windows,\n",
        "            train_labels,\n",
        "            epochs=100,\n",
        "            verbose=0,\n",
        "            batch_size=128,\n",
        "            validation_data=(test_windows, test_labels),\n",
        "            callbacks=[create_model_checkpoint(model_name=model_5.name)])"
      ],
      "metadata": {
        "colab": {
          "base_uri": "https://localhost:8080/"
        },
        "id": "WjcSuIa6f_RA",
        "outputId": "27bbc97b-ed76-4f3b-845c-8d3bf1a97fef"
      },
      "execution_count": 78,
      "outputs": [
        {
          "output_type": "stream",
          "name": "stderr",
          "text": [
            "WARNING:tensorflow:Layer lstm will not use cuDNN kernels since it doesn't meet the criteria. It will use a generic GPU kernel as fallback when running on GPU.\n"
          ]
        },
        {
          "output_type": "execute_result",
          "data": {
            "text/plain": [
              "<keras.callbacks.History at 0x7e557cbf4550>"
            ]
          },
          "metadata": {},
          "execution_count": 78
        }
      ]
    },
    {
      "cell_type": "code",
      "source": [
        "# Load in best version of model 5 and evaluate on the test data\n",
        "model_5 = tf.keras.models.load_model(\"model_experiments/model_5_lstm/\")\n",
        "model_5.evaluate(test_windows, test_labels)\n",
        ""
      ],
      "metadata": {
        "colab": {
          "base_uri": "https://localhost:8080/"
        },
        "id": "6zpRhQz5gEIh",
        "outputId": "1ad1980c-be2b-4ab4-a87d-a72b661b3d31"
      },
      "execution_count": 79,
      "outputs": [
        {
          "output_type": "stream",
          "name": "stderr",
          "text": [
            "WARNING:tensorflow:Layer lstm will not use cuDNN kernels since it doesn't meet the criteria. It will use a generic GPU kernel as fallback when running on GPU.\n"
          ]
        },
        {
          "output_type": "stream",
          "name": "stdout",
          "text": [
            "18/18 [==============================] - 0s 2ms/step - loss: 582.9595\n"
          ]
        },
        {
          "output_type": "execute_result",
          "data": {
            "text/plain": [
              "582.95947265625"
            ]
          },
          "metadata": {},
          "execution_count": 79
        }
      ]
    },
    {
      "cell_type": "code",
      "source": [
        "# Make predictions with our LSTM model\n",
        "model_5_preds = make_preds(model_5, test_windows)\n",
        "model_5_preds[:10]"
      ],
      "metadata": {
        "colab": {
          "base_uri": "https://localhost:8080/"
        },
        "id": "asc_fEgAgu0M",
        "outputId": "8f5ca11f-7b31-4965-e6f3-1cc8667c61a4"
      },
      "execution_count": 80,
      "outputs": [
        {
          "output_type": "stream",
          "name": "stdout",
          "text": [
            "18/18 [==============================] - 0s 2ms/step\n"
          ]
        },
        {
          "output_type": "execute_result",
          "data": {
            "text/plain": [
              "<tf.Tensor: shape=(10,), dtype=float32, numpy=\n",
              "array([8918.496, 8807.267, 8966.51 , 8779.31 , 8740.229, 8706.72 ,\n",
              "       8694.514, 8537.9  , 8453.415, 8508.202], dtype=float32)>"
            ]
          },
          "metadata": {},
          "execution_count": 80
        }
      ]
    },
    {
      "cell_type": "code",
      "source": [
        "# Evaluate model 5 preds\n",
        "model_5_results = evaluate_preds(y_true=tf.squeeze(test_labels),\n",
        "                                 y_pred=model_5_preds)\n",
        "model_5_results"
      ],
      "metadata": {
        "colab": {
          "base_uri": "https://localhost:8080/"
        },
        "id": "N--MgUSrg68U",
        "outputId": "601528fd-02db-4dd6-8686-0bdfba21c57f"
      },
      "execution_count": 81,
      "outputs": [
        {
          "output_type": "execute_result",
          "data": {
            "text/plain": [
              "{'mae': 582.95953,\n",
              " 'mse': 1216210.1,\n",
              " 'rmse': 1102.8191,\n",
              " 'mape': 2.6207454,\n",
              " 'mase': 1.0240984}"
            ]
          },
          "metadata": {},
          "execution_count": 81
        }
      ]
    },
    {
      "cell_type": "code",
      "source": [
        "model_1_results"
      ],
      "metadata": {
        "colab": {
          "base_uri": "https://localhost:8080/"
        },
        "id": "SVwcKyj8hAed",
        "outputId": "f8c16b1e-acc0-4866-d5d8-2352773de056"
      },
      "execution_count": 82,
      "outputs": [
        {
          "output_type": "execute_result",
          "data": {
            "text/plain": [
              "{'mae': 575.28784,\n",
              " 'mse': 1203547.0,\n",
              " 'rmse': 1097.0629,\n",
              " 'mape': 2.5863209,\n",
              " 'mase': 1.0106214}"
            ]
          },
          "metadata": {},
          "execution_count": 82
        }
      ]
    },
    {
      "cell_type": "code",
      "source": [],
      "metadata": {
        "id": "SxwB-4FRpcg7"
      },
      "execution_count": 82,
      "outputs": []
    }
  ]
}